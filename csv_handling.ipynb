{
 "cells": [
  {
   "cell_type": "markdown",
   "metadata": {},
   "source": [
    "## 1. youtube api 기본 세팅"
   ]
  },
  {
   "cell_type": "code",
   "execution_count": null,
   "metadata": {},
   "outputs": [],
   "source": [
    "from googleapiclient.discovery import build\n",
    "from googleapiclient.errors import HttpError\n",
    "\n",
    "DEVEOPER_KEY=\"youtube api 키\"\n",
    "YOUTUBE_API_SERVICE_NAME='youtube'\n",
    "YOUTUBE_API_VERSION='v3'"
   ]
  },
  {
   "cell_type": "code",
   "execution_count": 854,
   "metadata": {},
   "outputs": [],
   "source": [
    "youtube=build(YOUTUBE_API_SERVICE_NAME, YOUTUBE_API_VERSION, developerKey=DEVEOPER_KEY)"
   ]
  },
  {
   "cell_type": "markdown",
   "metadata": {},
   "source": [
    "# 2. data set Load"
   ]
  },
  {
   "cell_type": "code",
   "execution_count": 1,
   "metadata": {},
   "outputs": [],
   "source": [
    "import pandas as pd\n",
    "import numpy as np"
   ]
  },
  {
   "cell_type": "code",
   "execution_count": 4,
   "metadata": {},
   "outputs": [],
   "source": [
    "# watched_df=pd.read_csv('시청 기록 파일\\[은호]시청 기록[new].csv')\n",
    "watched_df=pd.read_csv('시청 기록 파일\\[정흠]시청 기록[new].csv')\n",
    "# watched_df=pd.read_csv('시청 기록 파일\\[지애]시청 기록[new].csv')"
   ]
  },
  {
   "cell_type": "markdown",
   "metadata": {},
   "source": [
    "# 60초 영상들이 sec가 1로 크롤링됨"
   ]
  },
  {
   "cell_type": "code",
   "execution_count": 5,
   "metadata": {},
   "outputs": [
    {
     "data": {
      "text/html": [
       "<div>\n",
       "<style scoped>\n",
       "    .dataframe tbody tr th:only-of-type {\n",
       "        vertical-align: middle;\n",
       "    }\n",
       "\n",
       "    .dataframe tbody tr th {\n",
       "        vertical-align: top;\n",
       "    }\n",
       "\n",
       "    .dataframe thead th {\n",
       "        text-align: right;\n",
       "    }\n",
       "</style>\n",
       "<table border=\"1\" class=\"dataframe\">\n",
       "  <thead>\n",
       "    <tr style=\"text-align: right;\">\n",
       "      <th></th>\n",
       "      <th>title</th>\n",
       "      <th>id</th>\n",
       "      <th>date</th>\n",
       "      <th>category_id</th>\n",
       "      <th>view</th>\n",
       "      <th>like</th>\n",
       "      <th>comment</th>\n",
       "      <th>hour</th>\n",
       "      <th>min</th>\n",
       "      <th>sec</th>\n",
       "      <th>...</th>\n",
       "      <th>description</th>\n",
       "      <th>thumbnail</th>\n",
       "      <th>channel_title</th>\n",
       "      <th>tags</th>\n",
       "      <th>dimension</th>\n",
       "      <th>definition</th>\n",
       "      <th>caption</th>\n",
       "      <th>licensed_content</th>\n",
       "      <th>topic_ids</th>\n",
       "      <th>relevant_topic_ids</th>\n",
       "    </tr>\n",
       "  </thead>\n",
       "  <tbody>\n",
       "    <tr>\n",
       "      <th>2279</th>\n",
       "      <td>한강 경찰이 음주 배 운전 잡는방법 #한강 #디즈니플러스</td>\n",
       "      <td>QwvygrDQ6RM</td>\n",
       "      <td>2023-09-14</td>\n",
       "      <td>1</td>\n",
       "      <td>4948467</td>\n",
       "      <td>62197</td>\n",
       "      <td>560</td>\n",
       "      <td>0</td>\n",
       "      <td>0</td>\n",
       "      <td>1</td>\n",
       "      <td>...</td>\n",
       "      <td>#SHORTS #권상우 #김희원 #성동일 #이상이 #배다빈 #신현승</td>\n",
       "      <td>https://i.ytimg.com/vi/QwvygrDQ6RM/default.jpg</td>\n",
       "      <td>펀메이커 - 영화 드라마 명장면</td>\n",
       "      <td>NaN</td>\n",
       "      <td>2d</td>\n",
       "      <td>hd</td>\n",
       "      <td>false</td>\n",
       "      <td>False</td>\n",
       "      <td>NaN</td>\n",
       "      <td>NaN</td>\n",
       "    </tr>\n",
       "  </tbody>\n",
       "</table>\n",
       "<p>1 rows × 21 columns</p>\n",
       "</div>"
      ],
      "text/plain": [
       "                                title           id        date category_id  \\\n",
       "2279  한강 경찰이 음주 배 운전 잡는방법 #한강 #디즈니플러스  QwvygrDQ6RM  2023-09-14           1   \n",
       "\n",
       "         view   like comment hour min sec  ...  \\\n",
       "2279  4948467  62197     560    0   0   1  ...   \n",
       "\n",
       "                                description  \\\n",
       "2279  #SHORTS #권상우 #김희원 #성동일 #이상이 #배다빈 #신현승   \n",
       "\n",
       "                                           thumbnail      channel_title tags  \\\n",
       "2279  https://i.ytimg.com/vi/QwvygrDQ6RM/default.jpg  펀메이커 - 영화 드라마 명장면  NaN   \n",
       "\n",
       "     dimension definition caption licensed_content topic_ids  \\\n",
       "2279        2d         hd   false            False       NaN   \n",
       "\n",
       "     relevant_topic_ids  \n",
       "2279                NaN  \n",
       "\n",
       "[1 rows x 21 columns]"
      ]
     },
     "execution_count": 5,
     "metadata": {},
     "output_type": "execute_result"
    }
   ],
   "source": [
    "watched_df[watched_df['title']==\"한강 경찰이 음주 배 운전 잡는방법 #한강 #디즈니플러스\"]"
   ]
  },
  {
   "cell_type": "code",
   "execution_count": 858,
   "metadata": {},
   "outputs": [],
   "source": [
    "# '-' 값을 포함하는 행을 삭제\n",
    "cols_to_check = ['category_id', 'view', 'like', 'comment', 'hour', 'min', 'sec','watched_time']\n",
    "for col in cols_to_check:\n",
    "    watched_df = watched_df[watched_df[col] != '-']"
   ]
  },
  {
   "cell_type": "code",
   "execution_count": 859,
   "metadata": {},
   "outputs": [],
   "source": [
    "# 데이터 타입 변환\n",
    "dtype_dict = {\n",
    "    'category_id': 'int64',\n",
    "    'view': 'int64',\n",
    "    'like': 'int64',\n",
    "    'comment': 'int64',\n",
    "    'hour': 'int64',\n",
    "    'min': 'int64',\n",
    "    'sec': 'int64',\n",
    "    'caption': 'bool',\n",
    "    'licensed_content': 'bool',\n",
    "    'topic_ids': 'float64',\n",
    "    'relevant_topic_ids': 'float64'\n",
    "}\n",
    "\n",
    "for col, dtype in dtype_dict.items():\n",
    "    watched_df[col] = watched_df[col].astype(dtype)\n"
   ]
  },
  {
   "cell_type": "code",
   "execution_count": 860,
   "metadata": {},
   "outputs": [
    {
     "data": {
      "text/plain": [
       "title                  object\n",
       "id                     object\n",
       "date                   object\n",
       "category_id             int64\n",
       "view                    int64\n",
       "like                    int64\n",
       "comment                 int64\n",
       "hour                    int64\n",
       "min                     int64\n",
       "sec                     int64\n",
       "watched_time           object\n",
       "description            object\n",
       "thumbnail              object\n",
       "channel_title          object\n",
       "tags                   object\n",
       "dimension              object\n",
       "definition             object\n",
       "caption                  bool\n",
       "licensed_content         bool\n",
       "topic_ids             float64\n",
       "relevant_topic_ids    float64\n",
       "dtype: object"
      ]
     },
     "execution_count": 860,
     "metadata": {},
     "output_type": "execute_result"
    }
   ],
   "source": [
    "watched_df.dtypes"
   ]
  },
  {
   "cell_type": "markdown",
   "metadata": {},
   "source": [
    "# sec가 1인영상들은 60초로 변환"
   ]
  },
  {
   "cell_type": "code",
   "execution_count": 861,
   "metadata": {},
   "outputs": [],
   "source": [
    "watched_df.loc[watched_df['sec'] == 1, 'sec'] = 60"
   ]
  },
  {
   "cell_type": "code",
   "execution_count": 862,
   "metadata": {},
   "outputs": [],
   "source": [
    "a=watched_df[['title', 'hour','min','sec']]"
   ]
  },
  {
   "cell_type": "code",
   "execution_count": 863,
   "metadata": {},
   "outputs": [
    {
     "data": {
      "text/html": [
       "<div>\n",
       "<style scoped>\n",
       "    .dataframe tbody tr th:only-of-type {\n",
       "        vertical-align: middle;\n",
       "    }\n",
       "\n",
       "    .dataframe tbody tr th {\n",
       "        vertical-align: top;\n",
       "    }\n",
       "\n",
       "    .dataframe thead th {\n",
       "        text-align: right;\n",
       "    }\n",
       "</style>\n",
       "<table border=\"1\" class=\"dataframe\">\n",
       "  <thead>\n",
       "    <tr style=\"text-align: right;\">\n",
       "      <th></th>\n",
       "      <th>title</th>\n",
       "      <th>hour</th>\n",
       "      <th>min</th>\n",
       "      <th>sec</th>\n",
       "    </tr>\n",
       "  </thead>\n",
       "  <tbody>\n",
       "  </tbody>\n",
       "</table>\n",
       "</div>"
      ],
      "text/plain": [
       "Empty DataFrame\n",
       "Columns: [title, hour, min, sec]\n",
       "Index: []"
      ]
     },
     "execution_count": 863,
     "metadata": {},
     "output_type": "execute_result"
    }
   ],
   "source": [
    "# a[((a['hour']==0) & a['min'] == 1) & (a['sec'] <= 1)]\n",
    "a[a['sec']==1]"
   ]
  },
  {
   "cell_type": "markdown",
   "metadata": {},
   "source": [
    "# 3. 결측치 제거"
   ]
  },
  {
   "cell_type": "code",
   "execution_count": 864,
   "metadata": {},
   "outputs": [
    {
     "data": {
      "text/plain": [
       "title                     0\n",
       "id                        0\n",
       "date                      0\n",
       "category_id               0\n",
       "view                      0\n",
       "like                      0\n",
       "comment                   0\n",
       "hour                      0\n",
       "min                       0\n",
       "sec                       0\n",
       "watched_time              0\n",
       "description            7256\n",
       "thumbnail                 0\n",
       "channel_title             0\n",
       "tags                  13296\n",
       "dimension                 0\n",
       "definition                0\n",
       "caption                   0\n",
       "licensed_content          0\n",
       "topic_ids             31806\n",
       "relevant_topic_ids    31806\n",
       "dtype: int64"
      ]
     },
     "execution_count": 864,
     "metadata": {},
     "output_type": "execute_result"
    }
   ],
   "source": [
    "watched_df.isnull().sum()"
   ]
  },
  {
   "cell_type": "code",
   "execution_count": 865,
   "metadata": {},
   "outputs": [],
   "source": [
    "# 결측치가 너무 많은 'topic_ids', 'relevant_topic_ids'는 drop\n",
    "watched_df = watched_df.drop(columns=['topic_ids', 'relevant_topic_ids']) #'tags','description'"
   ]
  },
  {
   "cell_type": "code",
   "execution_count": 866,
   "metadata": {},
   "outputs": [
    {
     "data": {
      "text/plain": [
       "title                   0\n",
       "id                      0\n",
       "date                    0\n",
       "category_id             0\n",
       "view                    0\n",
       "like                    0\n",
       "comment                 0\n",
       "hour                    0\n",
       "min                     0\n",
       "sec                     0\n",
       "watched_time            0\n",
       "description          7256\n",
       "thumbnail               0\n",
       "channel_title           0\n",
       "tags                13296\n",
       "dimension               0\n",
       "definition              0\n",
       "caption                 0\n",
       "licensed_content        0\n",
       "dtype: int64"
      ]
     },
     "execution_count": 866,
     "metadata": {},
     "output_type": "execute_result"
    }
   ],
   "source": [
    "watched_df.isnull().sum()"
   ]
  },
  {
   "cell_type": "code",
   "execution_count": 867,
   "metadata": {},
   "outputs": [
    {
     "name": "stdout",
     "output_type": "stream",
     "text": [
      "31806\n"
     ]
    }
   ],
   "source": [
    "print(len(watched_df))"
   ]
  },
  {
   "cell_type": "markdown",
   "metadata": {},
   "source": [
    "# 4. 카테고리 이름, timestamp 변환"
   ]
  },
  {
   "cell_type": "markdown",
   "metadata": {},
   "source": [
    "* ### 카테고리 id를 카테고리 이름으로 변환"
   ]
  },
  {
   "cell_type": "code",
   "execution_count": 868,
   "metadata": {},
   "outputs": [],
   "source": [
    "categories = {'1': 'Film & Animation', '2': 'Autos & Vehicles', '10': 'Music', '15': 'Pets & Animals', '17': 'Sports', '18': 'Short Movies', '19': 'Travel & Events', '20': 'Gaming', '21': 'Videoblogging', '22': 'People & Blogs', '23': 'Comedy', '24': 'Entertainment', '25': 'News & Politics', '26': 'Howto & Style', '27': 'Education', '28': 'Science & Technology', '30': 'Movies', '31': 'Anime/Animation', '32': 'Action/Adventure', '33': 'Classics', '34': 'Comedy', '35': 'Documentary', '36': 'Drama', '37': 'Family', '38': 'Foreign', '39': 'Horror', '40': 'Sci-Fi/Fantasy', '41': 'Thriller', '42': 'Shorts', '43': 'Shows', '44': 'Trailers'}"
   ]
  },
  {
   "cell_type": "code",
   "execution_count": 869,
   "metadata": {},
   "outputs": [],
   "source": [
    "watched_df['category_id'] = watched_df['category_id'].astype(str)\n",
    "# 카테고리 id를 이름으로 변환\n",
    "watched_df['category_id'] = watched_df['category_id'].map(categories)"
   ]
  },
  {
   "cell_type": "code",
   "execution_count": 870,
   "metadata": {},
   "outputs": [
    {
     "data": {
      "text/plain": [
       "0           Entertainment\n",
       "1        Film & Animation\n",
       "2                  Sports\n",
       "3          People & Blogs\n",
       "4                  Sports\n",
       "               ...       \n",
       "32731              Gaming\n",
       "32732      People & Blogs\n",
       "32733     News & Politics\n",
       "32734      People & Blogs\n",
       "32735      People & Blogs\n",
       "Name: category_id, Length: 31806, dtype: object"
      ]
     },
     "execution_count": 870,
     "metadata": {},
     "output_type": "execute_result"
    }
   ],
   "source": [
    "watched_df['category_id']"
   ]
  },
  {
   "cell_type": "markdown",
   "metadata": {},
   "source": [
    "* ### timestamp 변환"
   ]
  },
  {
   "cell_type": "code",
   "execution_count": 871,
   "metadata": {},
   "outputs": [
    {
     "data": {
      "text/plain": [
       "0        2023-10-09T06:48:44.222Z\n",
       "1        2023-10-09T06:45:56.257Z\n",
       "2        2023-10-09T06:45:55.717Z\n",
       "3        2023-10-09T06:45:55.274Z\n",
       "4        2023-10-09T06:45:53.689Z\n",
       "                   ...           \n",
       "32731    2023-04-19T13:24:44.325Z\n",
       "32732    2023-04-19T13:18:08.840Z\n",
       "32733    2023-04-19T13:16:06.338Z\n",
       "32734    2023-04-19T12:44:38.826Z\n",
       "32735    2023-04-19T12:41:30.263Z\n",
       "Name: watched_time, Length: 31806, dtype: object"
      ]
     },
     "execution_count": 871,
     "metadata": {},
     "output_type": "execute_result"
    }
   ],
   "source": [
    "watched_df['watched_time']"
   ]
  },
  {
   "cell_type": "code",
   "execution_count": 872,
   "metadata": {},
   "outputs": [],
   "source": [
    "from datetime import datetime\n",
    "\n",
    "def format_time(iso_time):\n",
    "    if iso_time is None:\n",
    "        return None\n",
    "\n",
    "    # 문자열 파싱\n",
    "    dt = datetime.fromisoformat(iso_time.replace(\"Z\", \"+00:00\"))\n",
    "    # 형식 변환 (초까지 포함)\n",
    "    return dt.strftime(\"%Y년 %m월 %d일 %H시 %M분 %S초\")\n",
    "\n",
    "# detail_df의 watched_time 열의 각 값에 대해 변환 적용\n",
    "watched_df['watched_time'] = watched_df['watched_time'].apply(format_time)"
   ]
  },
  {
   "cell_type": "code",
   "execution_count": 873,
   "metadata": {},
   "outputs": [
    {
     "data": {
      "text/html": [
       "<div>\n",
       "<style scoped>\n",
       "    .dataframe tbody tr th:only-of-type {\n",
       "        vertical-align: middle;\n",
       "    }\n",
       "\n",
       "    .dataframe tbody tr th {\n",
       "        vertical-align: top;\n",
       "    }\n",
       "\n",
       "    .dataframe thead th {\n",
       "        text-align: right;\n",
       "    }\n",
       "</style>\n",
       "<table border=\"1\" class=\"dataframe\">\n",
       "  <thead>\n",
       "    <tr style=\"text-align: right;\">\n",
       "      <th></th>\n",
       "      <th>watched_time</th>\n",
       "      <th>hour</th>\n",
       "      <th>min</th>\n",
       "      <th>sec</th>\n",
       "    </tr>\n",
       "  </thead>\n",
       "  <tbody>\n",
       "    <tr>\n",
       "      <th>0</th>\n",
       "      <td>2023년 10월 09일 06시 48분 44초</td>\n",
       "      <td>0</td>\n",
       "      <td>0</td>\n",
       "      <td>25</td>\n",
       "    </tr>\n",
       "    <tr>\n",
       "      <th>1</th>\n",
       "      <td>2023년 10월 09일 06시 45분 56초</td>\n",
       "      <td>0</td>\n",
       "      <td>0</td>\n",
       "      <td>28</td>\n",
       "    </tr>\n",
       "    <tr>\n",
       "      <th>2</th>\n",
       "      <td>2023년 10월 09일 06시 45분 55초</td>\n",
       "      <td>0</td>\n",
       "      <td>0</td>\n",
       "      <td>57</td>\n",
       "    </tr>\n",
       "    <tr>\n",
       "      <th>3</th>\n",
       "      <td>2023년 10월 09일 06시 45분 55초</td>\n",
       "      <td>0</td>\n",
       "      <td>0</td>\n",
       "      <td>51</td>\n",
       "    </tr>\n",
       "    <tr>\n",
       "      <th>4</th>\n",
       "      <td>2023년 10월 09일 06시 45분 53초</td>\n",
       "      <td>0</td>\n",
       "      <td>0</td>\n",
       "      <td>59</td>\n",
       "    </tr>\n",
       "  </tbody>\n",
       "</table>\n",
       "</div>"
      ],
      "text/plain": [
       "                watched_time  hour  min  sec\n",
       "0  2023년 10월 09일 06시 48분 44초     0    0   25\n",
       "1  2023년 10월 09일 06시 45분 56초     0    0   28\n",
       "2  2023년 10월 09일 06시 45분 55초     0    0   57\n",
       "3  2023년 10월 09일 06시 45분 55초     0    0   51\n",
       "4  2023년 10월 09일 06시 45분 53초     0    0   59"
      ]
     },
     "execution_count": 873,
     "metadata": {},
     "output_type": "execute_result"
    }
   ],
   "source": [
    "watched_df[['watched_time', 'hour','min','sec']].head()"
   ]
  },
  {
   "cell_type": "markdown",
   "metadata": {},
   "source": [
    "# 5. Shorts 영상만 추출"
   ]
  },
  {
   "cell_type": "code",
   "execution_count": 874,
   "metadata": {},
   "outputs": [],
   "source": [
    "# 60초 이내 영상을 shorts영상으로 분류하므로, 시간, 분이 0인 영상만 쇼츠영상으로 분류\n",
    "Youtube_shorts = watched_df[(watched_df['min'] == 0) & (watched_df['hour'] == 0)]"
   ]
  },
  {
   "cell_type": "code",
   "execution_count": 875,
   "metadata": {},
   "outputs": [],
   "source": [
    "Youtube_shorts.reset_index(drop=True, inplace=True)"
   ]
  },
  {
   "cell_type": "markdown",
   "metadata": {},
   "source": [
    "이전 영상과 현재 영상의 시청 시각 차이로 현재 영상 시청 시간을 구함"
   ]
  },
  {
   "cell_type": "code",
   "execution_count": 877,
   "metadata": {},
   "outputs": [
    {
     "name": "stderr",
     "output_type": "stream",
     "text": [
      "C:\\Users\\USER\\AppData\\Local\\Temp\\ipykernel_8520\\953162027.py:4: SettingWithCopyWarning: \n",
      "A value is trying to be set on a copy of a slice from a DataFrame.\n",
      "Try using .loc[row_indexer,col_indexer] = value instead\n",
      "\n",
      "See the caveats in the documentation: https://pandas.pydata.org/pandas-docs/stable/user_guide/indexing.html#returning-a-view-versus-a-copy\n",
      "  Youtube_shorts['watched_time'] = pd.to_datetime(Youtube_shorts['watched_time'], format=\"%Y년 %m월 %d일 %H시 %M분 %S초\")\n",
      "C:\\Users\\USER\\AppData\\Local\\Temp\\ipykernel_8520\\953162027.py:7: SettingWithCopyWarning: \n",
      "A value is trying to be set on a copy of a slice from a DataFrame.\n",
      "Try using .loc[row_indexer,col_indexer] = value instead\n",
      "\n",
      "See the caveats in the documentation: https://pandas.pydata.org/pandas-docs/stable/user_guide/indexing.html#returning-a-view-versus-a-copy\n",
      "  Youtube_shorts['watched_duration'] = abs(Youtube_shorts['watched_time'].diff(1).dt.total_seconds().fillna(0))\n"
     ]
    }
   ],
   "source": [
    "import pandas as pd\n",
    "\n",
    "# datetime으로 변환해서 계산\n",
    "Youtube_shorts['watched_time'] = pd.to_datetime(Youtube_shorts['watched_time'], format=\"%Y년 %m월 %d일 %H시 %M분 %S초\")\n",
    "\n",
    "# 실제 시청 시간 계산 (이전 영상 시청 시각과의 차이)\n",
    "Youtube_shorts['watched_duration'] = abs(Youtube_shorts['watched_time'].diff(1).dt.total_seconds().fillna(0))"
   ]
  },
  {
   "cell_type": "code",
   "execution_count": 878,
   "metadata": {},
   "outputs": [
    {
     "data": {
      "text/html": [
       "<div>\n",
       "<style scoped>\n",
       "    .dataframe tbody tr th:only-of-type {\n",
       "        vertical-align: middle;\n",
       "    }\n",
       "\n",
       "    .dataframe tbody tr th {\n",
       "        vertical-align: top;\n",
       "    }\n",
       "\n",
       "    .dataframe thead th {\n",
       "        text-align: right;\n",
       "    }\n",
       "</style>\n",
       "<table border=\"1\" class=\"dataframe\">\n",
       "  <thead>\n",
       "    <tr style=\"text-align: right;\">\n",
       "      <th></th>\n",
       "      <th>watched_time</th>\n",
       "      <th>watched_duration</th>\n",
       "    </tr>\n",
       "  </thead>\n",
       "  <tbody>\n",
       "    <tr>\n",
       "      <th>0</th>\n",
       "      <td>2023-10-09 06:48:44</td>\n",
       "      <td>0.0</td>\n",
       "    </tr>\n",
       "    <tr>\n",
       "      <th>1</th>\n",
       "      <td>2023-10-09 06:45:56</td>\n",
       "      <td>168.0</td>\n",
       "    </tr>\n",
       "    <tr>\n",
       "      <th>2</th>\n",
       "      <td>2023-10-09 06:45:55</td>\n",
       "      <td>1.0</td>\n",
       "    </tr>\n",
       "    <tr>\n",
       "      <th>3</th>\n",
       "      <td>2023-10-09 06:45:55</td>\n",
       "      <td>0.0</td>\n",
       "    </tr>\n",
       "    <tr>\n",
       "      <th>4</th>\n",
       "      <td>2023-10-09 06:45:53</td>\n",
       "      <td>2.0</td>\n",
       "    </tr>\n",
       "    <tr>\n",
       "      <th>...</th>\n",
       "      <td>...</td>\n",
       "      <td>...</td>\n",
       "    </tr>\n",
       "    <tr>\n",
       "      <th>25343</th>\n",
       "      <td>2023-04-19 14:01:39</td>\n",
       "      <td>12.0</td>\n",
       "    </tr>\n",
       "    <tr>\n",
       "      <th>25344</th>\n",
       "      <td>2023-04-19 14:01:37</td>\n",
       "      <td>2.0</td>\n",
       "    </tr>\n",
       "    <tr>\n",
       "      <th>25345</th>\n",
       "      <td>2023-04-19 14:00:36</td>\n",
       "      <td>61.0</td>\n",
       "    </tr>\n",
       "    <tr>\n",
       "      <th>25346</th>\n",
       "      <td>2023-04-19 14:00:06</td>\n",
       "      <td>30.0</td>\n",
       "    </tr>\n",
       "    <tr>\n",
       "      <th>25347</th>\n",
       "      <td>2023-04-19 13:59:34</td>\n",
       "      <td>32.0</td>\n",
       "    </tr>\n",
       "  </tbody>\n",
       "</table>\n",
       "<p>25348 rows × 2 columns</p>\n",
       "</div>"
      ],
      "text/plain": [
       "             watched_time  watched_duration\n",
       "0     2023-10-09 06:48:44               0.0\n",
       "1     2023-10-09 06:45:56             168.0\n",
       "2     2023-10-09 06:45:55               1.0\n",
       "3     2023-10-09 06:45:55               0.0\n",
       "4     2023-10-09 06:45:53               2.0\n",
       "...                   ...               ...\n",
       "25343 2023-04-19 14:01:39              12.0\n",
       "25344 2023-04-19 14:01:37               2.0\n",
       "25345 2023-04-19 14:00:36              61.0\n",
       "25346 2023-04-19 14:00:06              30.0\n",
       "25347 2023-04-19 13:59:34              32.0\n",
       "\n",
       "[25348 rows x 2 columns]"
      ]
     },
     "execution_count": 878,
     "metadata": {},
     "output_type": "execute_result"
    }
   ],
   "source": [
    "Youtube_shorts[['watched_time', 'watched_duration']]"
   ]
  },
  {
   "cell_type": "code",
   "execution_count": 879,
   "metadata": {},
   "outputs": [
    {
     "name": "stdout",
     "output_type": "stream",
     "text": [
      "count    25348.000000\n",
      "mean       588.659855\n",
      "std       3629.192130\n",
      "min          0.000000\n",
      "25%          6.000000\n",
      "50%         24.000000\n",
      "75%         54.000000\n",
      "max      74627.000000\n",
      "Name: watched_duration, dtype: float64\n",
      "<class 'pandas.core.series.Series'>\n",
      "RangeIndex: 25348 entries, 0 to 25347\n",
      "Series name: watched_duration\n",
      "Non-Null Count  Dtype  \n",
      "--------------  -----  \n",
      "25348 non-null  float64\n",
      "dtypes: float64(1)\n",
      "memory usage: 198.2 KB\n",
      "None\n"
     ]
    }
   ],
   "source": [
    "print(Youtube_shorts['watched_duration'].describe())\n",
    "print(Youtube_shorts['watched_duration'].info())"
   ]
  },
  {
   "cell_type": "code",
   "execution_count": 880,
   "metadata": {},
   "outputs": [],
   "source": [
    "Youtube_shorts.reset_index(drop=True, inplace=True)"
   ]
  },
  {
   "cell_type": "code",
   "execution_count": 881,
   "metadata": {},
   "outputs": [
    {
     "name": "stdout",
     "output_type": "stream",
     "text": [
      "최종 shorts영상 개수: 25348\n"
     ]
    }
   ],
   "source": [
    "print(\"최종 shorts영상 개수:\", len(Youtube_shorts))"
   ]
  },
  {
   "cell_type": "code",
   "execution_count": 882,
   "metadata": {},
   "outputs": [
    {
     "data": {
      "text/html": [
       "<div>\n",
       "<style scoped>\n",
       "    .dataframe tbody tr th:only-of-type {\n",
       "        vertical-align: middle;\n",
       "    }\n",
       "\n",
       "    .dataframe tbody tr th {\n",
       "        vertical-align: top;\n",
       "    }\n",
       "\n",
       "    .dataframe thead th {\n",
       "        text-align: right;\n",
       "    }\n",
       "</style>\n",
       "<table border=\"1\" class=\"dataframe\">\n",
       "  <thead>\n",
       "    <tr style=\"text-align: right;\">\n",
       "      <th></th>\n",
       "      <th>watched_duration</th>\n",
       "      <th>sec</th>\n",
       "    </tr>\n",
       "  </thead>\n",
       "  <tbody>\n",
       "    <tr>\n",
       "      <th>0</th>\n",
       "      <td>0.0</td>\n",
       "      <td>25</td>\n",
       "    </tr>\n",
       "    <tr>\n",
       "      <th>1</th>\n",
       "      <td>168.0</td>\n",
       "      <td>28</td>\n",
       "    </tr>\n",
       "    <tr>\n",
       "      <th>2</th>\n",
       "      <td>1.0</td>\n",
       "      <td>57</td>\n",
       "    </tr>\n",
       "    <tr>\n",
       "      <th>3</th>\n",
       "      <td>0.0</td>\n",
       "      <td>51</td>\n",
       "    </tr>\n",
       "    <tr>\n",
       "      <th>4</th>\n",
       "      <td>2.0</td>\n",
       "      <td>59</td>\n",
       "    </tr>\n",
       "    <tr>\n",
       "      <th>...</th>\n",
       "      <td>...</td>\n",
       "      <td>...</td>\n",
       "    </tr>\n",
       "    <tr>\n",
       "      <th>25343</th>\n",
       "      <td>12.0</td>\n",
       "      <td>58</td>\n",
       "    </tr>\n",
       "    <tr>\n",
       "      <th>25344</th>\n",
       "      <td>2.0</td>\n",
       "      <td>23</td>\n",
       "    </tr>\n",
       "    <tr>\n",
       "      <th>25345</th>\n",
       "      <td>61.0</td>\n",
       "      <td>60</td>\n",
       "    </tr>\n",
       "    <tr>\n",
       "      <th>25346</th>\n",
       "      <td>30.0</td>\n",
       "      <td>11</td>\n",
       "    </tr>\n",
       "    <tr>\n",
       "      <th>25347</th>\n",
       "      <td>32.0</td>\n",
       "      <td>24</td>\n",
       "    </tr>\n",
       "  </tbody>\n",
       "</table>\n",
       "<p>25348 rows × 2 columns</p>\n",
       "</div>"
      ],
      "text/plain": [
       "       watched_duration  sec\n",
       "0                   0.0   25\n",
       "1                 168.0   28\n",
       "2                   1.0   57\n",
       "3                   0.0   51\n",
       "4                   2.0   59\n",
       "...                 ...  ...\n",
       "25343              12.0   58\n",
       "25344               2.0   23\n",
       "25345              61.0   60\n",
       "25346              30.0   11\n",
       "25347              32.0   24\n",
       "\n",
       "[25348 rows x 2 columns]"
      ]
     },
     "execution_count": 882,
     "metadata": {},
     "output_type": "execute_result"
    }
   ],
   "source": [
    "Youtube_shorts[['watched_duration','sec']]"
   ]
  },
  {
   "cell_type": "markdown",
   "metadata": {},
   "source": [
    "# 4. 사용하지 못하는 데이터 삭제"
   ]
  },
  {
   "cell_type": "code",
   "execution_count": 890,
   "metadata": {},
   "outputs": [
    {
     "name": "stdout",
     "output_type": "stream",
     "text": [
      "댓글수, 좋아요수, 조회수 없는 영상 1696\n"
     ]
    }
   ],
   "source": [
    "print(\"댓글수, 좋아요수, 조회수 없는 영상\", len(Youtube_shorts)-len(Youtube_shorts[(Youtube_shorts['view'] != 0) & (Youtube_shorts['like'] != 0) & (Youtube_shorts['comment'] != 0)]))"
   ]
  },
  {
   "cell_type": "code",
   "execution_count": 891,
   "metadata": {},
   "outputs": [],
   "source": [
    "# 댓글수, 좋아요수, 조회수를 막아놓은 영상은 제거\n",
    "Youtube_shorts = Youtube_shorts[(Youtube_shorts['view'] != 0) & (Youtube_shorts['like'] != 0) & (Youtube_shorts['comment'] != 0)]"
   ]
  },
  {
   "cell_type": "code",
   "execution_count": 892,
   "metadata": {},
   "outputs": [
    {
     "name": "stdout",
     "output_type": "stream",
     "text": [
      "댓글수,좋아요수,조회수 없는 영상 제거 후 :  23652\n"
     ]
    }
   ],
   "source": [
    "print(\"댓글수,좋아요수,조회수 없는 영상 제거 후 : \",len(Youtube_shorts))"
   ]
  },
  {
   "cell_type": "code",
   "execution_count": 893,
   "metadata": {},
   "outputs": [
    {
     "name": "stdout",
     "output_type": "stream",
     "text": [
      "시청시간 60초 이상 영상 개수: 4767\n"
     ]
    }
   ],
   "source": [
    "print(\"시청시간 60초 이상 영상 개수:\",len(Youtube_shorts[Youtube_shorts['watched_duration']>60]))"
   ]
  },
  {
   "cell_type": "markdown",
   "metadata": {},
   "source": [
    "# IQR 기준으로 데이터 필터링\n",
    "\n",
    "유튜브를 떠나서 시청 시간이 증가한 영상들을 어느정도 추정해서 제거하기위함"
   ]
  },
  {
   "cell_type": "code",
   "execution_count": 894,
   "metadata": {},
   "outputs": [
    {
     "name": "stdout",
     "output_type": "stream",
     "text": [
      "제거 전 맨처음 데이터 개수 :  23652\n",
      "Filtered Data: [0.0, 1.0, 0.0, 2.0, 0.0, 1.0, 1.0, 1.0, 1.0, 28.0, 10.0, 34.0, 37.0, 12.0, 4.0, 74.0, 56.0, 50.0, 9.0, 20.0, 6.0, 11.0, 47.0, 6.0, 5.0, 26.0, 2.0, 6.0, 10.0, 6.0, 1.0, 68.0, 22.0, 3.0, 6.0, 19.0, 16.0, 48.0, 74.0, 101.0, 3.0, 19.0, 9.0, 46.0, 76.0, 64.0, 58.0, 1.0, 13.0, 44.0, 3.0, 47.0, 60.0, 48.0, 69.0, 9.0, 3.0, 55.0, 3.0, 14.0, 65.0, 77.0, 1.0, 52.0, 20.0, 1.0, 67.0, 67.0, 52.0, 5.0, 1.0, 60.0, 67.0, 4.0, 32.0, 59.0, 49.0, 12.0, 5.0, 4.0, 6.0, 1.0, 5.0, 25.0, 78.0, 18.0, 3.0, 31.0, 52.0, 7.0, 53.0, 13.0, 71.0, 44.0, 6.0, 5.0, 66.0, 1.0, 27.0, 10.0, 70.0, 1.0, 6.0, 2.0, 3.0, 19.0, 27.0, 48.0, 17.0, 4.0, 67.0, 41.0, 7.0, 64.0, 61.0, 21.0, 85.0, 33.0, 42.0, 7.0, 22.0, 2.0, 52.0, 53.0, 49.0, 54.0, 44.0, 5.0, 105.0, 11.0, 9.0, 1.0, 3.0, 0.0, 6.0, 1.0, 1.0, 1.0, 13.0, 52.0, 1.0, 4.0, 1.0, 4.0, 3.0, 5.0, 2.0, 1.0, 16.0, 3.0, 32.0, 15.0, 3.0, 2.0, 31.0, 60.0, 36.0, 1.0, 7.0, 1.0, 36.0, 19.0, 34.0, 10.0, 1.0, 40.0, 3.0, 34.0, 52.0, 37.0, 4.0, 3.0, 2.0, 6.0, 10.0, 59.0, 10.0, 14.0, 12.0, 9.0, 70.0, 54.0, 40.0, 44.0, 63.0, 7.0, 10.0, 54.0, 28.0, 61.0, 45.0, 20.0, 6.0, 4.0, 20.0, 59.0, 37.0, 11.0, 20.0, 55.0, 49.0, 2.0, 36.0, 6.0, 2.0, 2.0, 16.0, 2.0, 13.0, 5.0, 70.0, 38.0, 4.0, 4.0, 0.0, 7.0, 66.0, 65.0, 9.0, 2.0, 3.0, 12.0, 43.0, 47.0, 69.0, 35.0, 55.0, 23.0, 24.0, 10.0, 68.0, 44.0, 30.0, 64.0, 29.0, 6.0, 14.0, 74.0, 3.0, 40.0, 56.0, 33.0, 2.0, 23.0, 9.0, 3.0, 11.0, 11.0, 34.0, 70.0, 7.0, 4.0, 5.0, 1.0, 1.0, 3.0, 9.0, 8.0, 4.0, 3.0, 56.0, 22.0, 18.0, 18.0, 47.0, 70.0, 59.0, 56.0, 4.0, 72.0, 21.0, 11.0, 15.0, 29.0, 4.0, 44.0, 36.0, 2.0, 10.0, 10.0, 17.0, 61.0, 62.0, 20.0, 20.0, 80.0, 13.0, 2.0, 60.0, 12.0, 47.0, 43.0, 22.0, 2.0, 20.0, 3.0, 1.0, 2.0, 45.0, 1.0, 1.0, 5.0, 21.0, 3.0, 46.0, 39.0, 39.0, 49.0, 9.0, 45.0, 33.0, 44.0, 28.0, 3.0, 2.0, 68.0, 6.0, 72.0, 1.0, 8.0, 60.0, 58.0, 4.0, 70.0, 52.0, 5.0, 10.0, 82.0, 3.0, 41.0, 45.0, 19.0, 4.0, 81.0, 5.0, 78.0, 2.0, 55.0, 87.0, 22.0, 34.0, 35.0, 16.0, 18.0, 62.0, 46.0, 122.0, 124.0, 45.0, 62.0, 16.0, 6.0, 9.0, 4.0, 46.0, 12.0, 8.0, 86.0, 46.0, 66.0, 49.0, 44.0, 33.0, 65.0, 44.0, 18.0, 9.0, 30.0, 16.0, 27.0, 44.0, 32.0, 1.0, 109.0, 1.0, 107.0, 20.0, 68.0, 7.0, 3.0, 56.0, 90.0, 38.0, 46.0, 60.0, 45.0, 8.0, 2.0, 20.0, 11.0, 29.0, 2.0, 17.0, 10.0, 84.0, 41.0, 51.0, 5.0, 1.0, 11.0, 7.0, 3.0, 5.0, 19.0, 34.0, 1.0, 59.0, 20.0, 19.0, 15.0, 7.0, 33.0, 3.0, 7.0, 3.0, 92.0, 45.0, 21.0, 8.0, 63.0, 9.0, 60.0, 3.0, 73.0, 4.0, 8.0, 45.0, 7.0, 13.0, 2.0, 58.0, 53.0, 61.0, 6.0, 10.0, 19.0, 22.0, 48.0, 17.0, 32.0, 2.0, 99.0, 26.0, 33.0, 59.0, 10.0, 16.0, 9.0, 35.0, 61.0, 30.0, 33.0, 8.0, 5.0, 35.0, 100.0, 106.0, 4.0, 19.0, 4.0, 19.0, 34.0, 2.0, 27.0, 18.0, 67.0, 2.0, 3.0, 17.0, 5.0, 113.0, 18.0, 42.0, 4.0, 29.0, 42.0, 26.0, 5.0, 49.0, 2.0, 15.0, 38.0, 40.0, 8.0, 10.0, 4.0, 54.0, 16.0, 1.0, 4.0, 41.0, 49.0, 95.0, 35.0, 2.0, 3.0, 22.0, 38.0, 6.0, 50.0, 8.0, 2.0, 42.0, 2.0, 20.0, 2.0, 47.0, 57.0, 2.0, 44.0, 41.0, 7.0, 34.0, 36.0, 10.0, 5.0, 2.0, 12.0, 3.0, 36.0, 12.0, 2.0, 5.0, 9.0, 7.0, 6.0, 24.0, 5.0, 8.0, 3.0, 21.0, 1.0, 8.0, 58.0, 13.0, 2.0, 54.0, 15.0, 1.0, 5.0, 50.0, 3.0, 14.0, 21.0, 57.0, 18.0, 1.0, 32.0, 25.0, 52.0, 31.0, 19.0, 7.0, 4.0, 12.0, 9.0, 1.0, 28.0, 6.0, 7.0, 5.0, 2.0, 1.0, 1.0, 1.0, 0.0, 1.0, 1.0, 19.0, 3.0, 3.0, 19.0, 1.0, 2.0, 5.0, 7.0, 14.0, 1.0, 5.0, 15.0, 1.0, 3.0, 1.0, 0.0, 25.0, 3.0, 1.0, 2.0, 31.0, 4.0, 1.0, 14.0, 30.0, 10.0, 1.0, 2.0, 36.0, 54.0, 2.0, 4.0, 2.0, 2.0, 66.0, 4.0, 21.0, 16.0, 34.0, 8.0, 8.0, 4.0, 54.0, 17.0, 17.0, 62.0, 3.0, 25.0, 5.0, 26.0, 17.0, 1.0, 23.0, 9.0, 6.0, 16.0, 5.0, 16.0, 3.0, 65.0, 22.0, 43.0, 31.0, 12.0, 8.0, 16.0, 3.0, 13.0, 41.0, 14.0, 28.0, 37.0, 7.0, 77.0, 5.0, 43.0, 2.0, 31.0, 3.0, 24.0, 19.0, 21.0, 5.0, 15.0, 40.0, 3.0, 16.0, 2.0, 50.0, 37.0, 35.0, 12.0, 5.0, 48.0, 6.0, 75.0, 18.0, 3.0, 64.0, 32.0, 18.0, 6.0, 6.0, 4.0, 9.0, 117.0, 2.0, 49.0, 3.0, 39.0, 20.0, 3.0, 36.0, 2.0, 30.0, 34.0, 24.0, 4.0, 38.0, 26.0, 4.0, 1.0, 15.0, 16.0, 67.0, 4.0, 47.0, 3.0, 11.0, 32.0, 41.0, 31.0, 17.0, 8.0, 2.0, 9.0, 44.0, 5.0, 15.0, 54.0, 6.0, 6.0, 4.0, 5.0, 43.0, 15.0, 7.0, 11.0, 78.0, 3.0, 7.0, 4.0, 2.0, 49.0, 3.0, 25.0, 6.0, 3.0, 37.0, 6.0, 26.0, 1.0, 2.0, 4.0, 12.0, 3.0, 2.0, 33.0, 17.0, 45.0, 26.0, 57.0, 53.0, 3.0, 2.0, 3.0, 13.0, 25.0, 20.0, 3.0, 2.0, 83.0, 60.0, 1.0, 54.0, 4.0, 22.0, 33.0, 23.0, 57.0, 108.0, 7.0, 28.0, 49.0, 35.0, 2.0, 46.0, 10.0, 12.0, 5.0, 50.0, 5.0, 60.0, 20.0, 9.0, 0.0, 4.0, 4.0, 1.0, 7.0, 4.0, 4.0, 38.0, 4.0, 54.0, 10.0, 2.0, 9.0, 62.0, 3.0, 4.0, 16.0, 1.0, 11.0, 14.0, 69.0, 51.0, 3.0, 2.0, 1.0, 4.0, 3.0, 5.0, 6.0, 3.0, 11.0, 4.0, 68.0, 3.0, 27.0, 5.0, 2.0, 10.0, 3.0, 2.0, 8.0, 24.0, 61.0, 32.0, 40.0, 24.0, 15.0, 25.0, 3.0, 14.0, 7.0, 1.0, 8.0, 8.0, 22.0, 27.0, 6.0, 3.0, 13.0, 6.0, 1.0, 1.0, 1.0, 0.0, 2.0, 28.0, 49.0, 67.0, 2.0, 6.0, 30.0, 2.0, 1.0, 7.0, 1.0, 2.0, 3.0, 5.0, 17.0, 34.0, 29.0, 2.0, 32.0, 27.0, 8.0, 71.0, 28.0, 23.0, 2.0, 33.0, 6.0, 7.0, 50.0, 57.0, 45.0, 53.0, 22.0, 2.0, 52.0, 28.0, 30.0, 58.0, 56.0, 34.0, 53.0, 2.0, 35.0, 4.0, 39.0, 5.0, 30.0, 23.0, 41.0, 10.0, 78.0, 16.0, 102.0, 4.0, 39.0, 57.0, 45.0, 60.0, 79.0, 102.0, 67.0, 4.0, 3.0, 61.0, 60.0, 29.0, 41.0, 27.0, 8.0, 44.0, 12.0, 4.0, 5.0, 7.0, 2.0, 9.0, 12.0, 2.0, 9.0, 1.0, 31.0, 115.0, 1.0, 0.0, 8.0, 11.0, 3.0, 14.0, 16.0, 96.0, 2.0, 30.0, 36.0, 11.0, 21.0, 11.0, 15.0, 2.0, 64.0, 19.0, 29.0, 15.0, 5.0, 37.0, 30.0, 105.0, 13.0, 112.0, 21.0, 28.0, 52.0, 1.0, 9.0, 13.0, 1.0, 54.0, 15.0, 2.0, 6.0, 2.0, 1.0, 31.0, 45.0, 14.0, 29.0, 17.0, 9.0, 31.0, 41.0, 3.0, 1.0, 4.0, 51.0, 95.0, 3.0, 13.0, 62.0, 54.0, 46.0, 13.0, 6.0, 34.0, 62.0, 75.0, 24.0, 8.0, 6.0, 18.0, 36.0, 26.0, 29.0, 35.0, 1.0, 3.0, 53.0, 59.0, 3.0, 40.0, 52.0, 49.0, 10.0, 5.0, 3.0, 1.0, 9.0, 32.0, 12.0, 54.0, 5.0, 1.0, 17.0, 1.0, 4.0, 54.0, 32.0, 50.0, 14.0, 23.0, 11.0, 67.0, 41.0, 60.0, 2.0, 2.0, 9.0, 29.0, 3.0, 53.0, 69.0, 51.0, 9.0, 10.0, 20.0, 11.0, 14.0, 35.0, 34.0, 4.0, 3.0, 2.0, 4.0, 6.0, 3.0, 57.0, 9.0, 25.0, 49.0, 28.0, 2.0, 22.0, 36.0, 67.0, 7.0, 41.0, 1.0, 3.0, 12.0, 22.0, 1.0, 3.0, 35.0, 34.0, 26.0, 1.0, 9.0, 19.0, 48.0, 12.0, 29.0, 9.0, 60.0, 5.0, 38.0, 5.0, 20.0, 39.0, 1.0, 6.0, 1.0, 4.0, 2.0, 2.0, 4.0, 3.0, 33.0, 30.0, 3.0, 5.0, 49.0, 38.0, 12.0, 4.0, 4.0, 7.0, 7.0, 26.0, 1.0, 25.0, 86.0, 12.0, 3.0, 111.0, 31.0, 57.0, 15.0, 67.0, 71.0, 2.0, 21.0, 78.0, 32.0, 2.0, 27.0, 35.0, 45.0, 25.0, 2.0, 1.0, 20.0, 14.0, 11.0, 51.0, 68.0, 43.0, 17.0, 12.0, 9.0, 4.0, 12.0, 10.0, 63.0, 3.0, 21.0, 2.0, 42.0, 4.0, 35.0, 4.0, 15.0, 12.0, 5.0, 4.0, 5.0, 28.0, 5.0, 128.0, 11.0, 5.0, 52.0, 46.0, 36.0, 95.0, 9.0, 4.0, 76.0, 41.0, 15.0, 12.0, 15.0, 5.0, 27.0, 61.0, 35.0, 2.0, 56.0, 20.0, 11.0, 15.0, 18.0, 2.0, 22.0, 9.0, 54.0, 4.0, 28.0, 10.0, 11.0, 120.0, 75.0, 22.0, 4.0, 19.0, 32.0, 57.0, 31.0, 50.0, 63.0, 16.0, 56.0, 4.0, 26.0, 13.0, 24.0, 56.0, 33.0, 51.0, 22.0, 3.0, 28.0, 18.0, 2.0, 44.0, 8.0, 35.0, 48.0, 77.0, 10.0, 24.0, 59.0, 29.0, 61.0, 62.0, 48.0, 31.0, 8.0, 93.0, 31.0, 4.0, 47.0, 53.0, 2.0, 3.0, 12.0, 53.0, 13.0, 24.0, 4.0, 43.0, 18.0, 6.0, 13.0, 28.0, 54.0, 1.0, 2.0, 95.0, 5.0, 3.0, 1.0, 1.0, 9.0, 2.0, 3.0, 89.0, 7.0, 2.0, 58.0, 63.0, 90.0, 7.0, 1.0, 2.0, 2.0, 20.0, 117.0, 56.0, 2.0, 5.0, 53.0, 8.0, 65.0, 10.0, 11.0, 4.0, 6.0, 27.0, 59.0, 1.0, 32.0, 52.0, 9.0, 2.0, 4.0, 5.0, 5.0, 13.0, 42.0, 6.0, 71.0, 33.0, 9.0, 38.0, 19.0, 5.0, 114.0, 52.0, 46.0, 73.0, 54.0, 17.0, 60.0, 20.0, 41.0, 61.0, 30.0, 36.0, 28.0, 44.0, 4.0, 2.0, 122.0, 2.0, 4.0, 57.0, 39.0, 5.0, 19.0, 4.0, 61.0, 77.0, 33.0, 17.0, 74.0, 20.0, 17.0, 16.0, 17.0, 34.0, 26.0, 68.0, 104.0, 49.0, 60.0, 42.0, 40.0, 60.0, 25.0, 21.0, 49.0, 55.0, 35.0, 59.0, 57.0, 41.0, 23.0, 6.0, 1.0, 122.0, 4.0, 79.0, 35.0, 8.0, 68.0, 74.0, 27.0, 4.0, 72.0, 26.0, 30.0, 20.0, 2.0, 36.0, 17.0, 4.0, 38.0, 17.0, 3.0, 8.0, 37.0, 4.0, 41.0, 2.0, 73.0, 21.0, 51.0, 4.0, 7.0, 23.0, 55.0, 5.0, 4.0, 10.0, 3.0, 74.0, 8.0, 75.0, 27.0, 44.0, 24.0, 46.0, 8.0, 60.0, 41.0, 77.0, 39.0, 4.0, 53.0, 8.0, 62.0, 5.0, 59.0, 44.0, 43.0, 59.0, 39.0, 48.0, 9.0, 49.0, 50.0, 74.0, 46.0, 13.0, 40.0, 8.0, 3.0, 42.0, 54.0, 63.0, 58.0, 66.0, 38.0, 12.0, 2.0, 63.0, 55.0, 61.0, 25.0, 36.0, 66.0, 3.0, 3.0, 21.0, 40.0, 10.0, 27.0, 29.0, 20.0, 45.0, 5.0, 33.0, 22.0, 77.0, 116.0, 9.0, 6.0, 6.0, 3.0, 3.0, 1.0, 36.0, 47.0, 8.0, 7.0, 2.0, 126.0, 1.0, 4.0, 22.0, 4.0, 4.0, 36.0, 4.0, 78.0, 35.0, 25.0, 9.0, 47.0, 19.0, 9.0, 2.0, 30.0, 50.0, 9.0, 6.0, 2.0, 13.0, 25.0, 2.0, 30.0, 60.0, 11.0, 47.0, 4.0, 65.0, 43.0, 1.0, 5.0, 16.0, 43.0, 42.0, 35.0, 44.0, 24.0, 14.0, 23.0, 14.0, 2.0, 20.0, 15.0, 23.0, 7.0, 21.0, 19.0, 24.0, 34.0, 63.0, 50.0, 23.0, 56.0, 22.0, 3.0, 62.0, 2.0, 48.0, 3.0, 70.0, 15.0, 14.0, 38.0, 19.0, 60.0, 36.0, 27.0, 29.0, 68.0, 28.0, 3.0, 1.0, 60.0, 25.0, 42.0, 2.0, 21.0, 6.0, 73.0, 48.0, 51.0, 31.0, 6.0, 8.0, 37.0, 7.0, 58.0, 14.0, 16.0, 18.0, 5.0, 45.0, 53.0, 20.0, 3.0, 38.0, 28.0, 2.0, 16.0, 10.0, 1.0, 57.0, 3.0, 63.0, 9.0, 33.0, 12.0, 22.0, 58.0, 49.0, 110.0, 3.0, 1.0, 1.0, 68.0, 28.0, 46.0, 25.0, 49.0, 2.0, 65.0, 4.0, 45.0, 35.0, 60.0, 113.0, 9.0, 12.0, 31.0, 33.0, 21.0, 9.0, 47.0, 16.0, 21.0, 40.0, 64.0, 47.0, 5.0, 46.0, 54.0, 9.0, 64.0, 29.0, 57.0, 32.0, 11.0, 57.0, 15.0, 5.0, 32.0, 33.0, 21.0, 8.0, 4.0, 73.0, 54.0, 96.0, 5.0, 1.0, 2.0, 3.0, 1.0, 3.0, 0.0, 1.0, 10.0, 3.0, 3.0, 2.0, 16.0, 70.0, 13.0, 3.0, 1.0, 1.0, 1.0, 62.0, 13.0, 1.0, 25.0, 5.0, 4.0, 8.0, 3.0, 54.0, 5.0, 3.0, 39.0, 3.0, 7.0, 7.0, 3.0, 3.0, 48.0, 6.0, 39.0, 48.0, 17.0, 36.0, 41.0, 48.0, 2.0, 5.0, 2.0, 11.0, 3.0, 57.0, 51.0, 8.0, 21.0, 1.0, 107.0, 3.0, 13.0, 27.0, 64.0, 64.0, 121.0, 4.0, 2.0, 6.0, 46.0, 67.0, 1.0, 1.0, 58.0, 14.0, 2.0, 12.0, 36.0, 27.0, 33.0, 35.0, 10.0, 9.0, 49.0, 60.0, 37.0, 21.0, 5.0, 4.0, 7.0, 2.0, 38.0, 55.0, 0.0, 32.0, 8.0, 5.0, 38.0, 12.0, 61.0, 26.0, 44.0, 3.0, 34.0, 1.0, 7.0, 3.0, 6.0, 15.0, 29.0, 3.0, 1.0, 5.0, 63.0, 19.0, 51.0, 7.0, 11.0, 11.0, 8.0, 55.0, 4.0, 2.0, 35.0, 5.0, 25.0, 62.0, 16.0, 4.0, 1.0, 4.0, 2.0, 2.0, 4.0, 1.0, 1.0, 6.0, 1.0, 7.0, 20.0, 78.0, 22.0, 3.0, 35.0, 18.0, 3.0, 33.0, 3.0, 11.0, 28.0, 2.0, 4.0, 15.0, 26.0, 49.0, 33.0, 4.0, 40.0, 115.0, 4.0, 4.0, 7.0, 49.0, 3.0, 66.0, 43.0, 1.0, 3.0, 5.0, 39.0, 81.0, 2.0, 37.0, 42.0, 42.0, 41.0, 7.0, 53.0, 38.0, 5.0, 23.0, 11.0, 51.0, 61.0, 6.0, 61.0, 24.0, 6.0, 3.0, 0.0, 1.0, 7.0, 3.0, 10.0, 1.0, 24.0, 2.0, 57.0, 30.0, 32.0, 61.0, 64.0, 29.0, 23.0, 1.0, 2.0, 21.0, 36.0, 2.0, 59.0, 5.0, 30.0, 3.0, 33.0, 17.0, 15.0, 71.0, 17.0, 57.0, 3.0, 49.0, 2.0, 1.0, 5.0, 13.0, 21.0, 28.0, 10.0, 28.0, 27.0, 5.0, 14.0, 2.0, 6.0, 5.0, 2.0, 7.0, 54.0, 39.0, 25.0, 23.0, 31.0, 31.0, 11.0, 5.0, 4.0, 2.0, 2.0, 17.0, 57.0, 52.0, 27.0, 14.0, 6.0, 6.0, 77.0, 61.0, 36.0, 15.0, 54.0, 47.0, 68.0, 4.0, 32.0, 11.0, 1.0, 35.0, 1.0, 38.0, 105.0, 10.0, 3.0, 5.0, 89.0, 1.0, 1.0, 4.0, 10.0, 73.0, 26.0, 101.0, 2.0, 54.0, 113.0, 3.0, 108.0, 14.0, 24.0, 17.0, 6.0, 74.0, 8.0, 13.0, 11.0, 31.0, 11.0, 97.0, 62.0, 3.0, 50.0, 61.0, 7.0, 50.0, 14.0, 4.0, 54.0, 37.0, 2.0, 1.0, 13.0, 50.0, 3.0, 7.0, 2.0, 30.0, 127.0, 9.0, 12.0, 51.0, 86.0, 25.0, 98.0, 1.0, 21.0, 18.0, 16.0, 30.0, 1.0, 111.0, 33.0, 18.0, 11.0, 107.0, 37.0, 74.0, 2.0, 20.0, 37.0, 6.0, 1.0, 28.0, 54.0, 26.0, 19.0, 11.0, 63.0, 47.0, 14.0, 4.0, 17.0, 52.0, 58.0, 26.0, 27.0, 1.0, 10.0, 11.0, 31.0, 46.0, 1.0, 2.0, 1.0, 8.0, 1.0, 18.0, 82.0, 1.0, 1.0, 2.0, 6.0, 1.0, 3.0, 1.0, 3.0, 11.0, 68.0, 38.0, 2.0, 10.0, 35.0, 24.0, 9.0, 28.0, 61.0, 3.0, 8.0, 12.0, 40.0, 8.0, 38.0, 29.0, 47.0, 25.0, 15.0, 14.0, 33.0, 47.0, 43.0, 2.0, 28.0, 32.0, 29.0, 20.0, 12.0, 36.0, 2.0, 2.0, 56.0, 2.0, 3.0, 4.0, 28.0, 68.0, 20.0, 19.0, 4.0, 23.0, 61.0, 24.0, 57.0, 24.0, 11.0, 53.0, 45.0, 58.0, 30.0, 30.0, 111.0, 35.0, 30.0, 58.0, 6.0, 69.0, 112.0, 14.0, 30.0, 28.0, 52.0, 41.0, 19.0, 48.0, 30.0, 121.0, 29.0, 44.0, 8.0, 15.0, 5.0, 2.0, 6.0, 40.0, 57.0, 62.0, 15.0, 30.0, 20.0, 48.0, 13.0, 5.0, 40.0, 64.0, 64.0, 54.0, 60.0, 18.0, 5.0, 3.0, 5.0, 65.0, 60.0, 20.0, 1.0, 38.0, 3.0, 38.0, 29.0, 42.0, 5.0, 16.0, 32.0, 7.0, 56.0, 75.0, 61.0, 87.0, 27.0, 21.0, 5.0, 66.0, 55.0, 48.0, 34.0, 60.0, 34.0, 28.0, 35.0, 63.0, 40.0, 59.0, 21.0, 16.0, 38.0, 56.0, 1.0, 1.0, 5.0, 100.0, 10.0, 4.0, 44.0, 61.0, 2.0, 53.0, 33.0, 6.0, 122.0, 33.0, 9.0, 50.0, 10.0, 10.0, 39.0, 24.0, 38.0, 4.0, 2.0, 2.0, 13.0, 55.0, 4.0, 2.0, 11.0, 10.0, 4.0, 49.0, 39.0, 9.0, 37.0, 31.0, 36.0, 57.0, 32.0, 14.0, 7.0, 1.0, 12.0, 2.0, 2.0, 5.0, 2.0, 2.0, 1.0, 23.0, 5.0, 12.0, 9.0, 1.0, 4.0, 4.0, 7.0, 14.0, 34.0, 26.0, 3.0, 9.0, 1.0, 1.0, 12.0, 1.0, 1.0, 2.0, 0.0, 4.0, 12.0, 2.0, 1.0, 10.0, 1.0, 3.0, 23.0, 3.0, 13.0, 27.0, 17.0, 29.0, 3.0, 3.0, 1.0, 5.0, 4.0, 10.0, 2.0, 14.0, 39.0, 6.0, 1.0, 8.0, 6.0, 2.0, 39.0, 3.0, 1.0, 2.0, 13.0, 2.0, 43.0, 59.0, 7.0, 13.0, 8.0, 29.0, 2.0, 4.0, 5.0, 44.0, 24.0, 12.0, 13.0, 6.0, 9.0, 18.0, 56.0, 4.0, 12.0, 32.0, 22.0, 45.0, 36.0, 64.0, 39.0, 59.0, 3.0, 5.0, 102.0, 56.0, 20.0, 59.0, 16.0, 90.0, 2.0, 3.0, 54.0, 2.0, 8.0, 51.0, 38.0, 74.0, 68.0, 43.0, 39.0, 98.0, 33.0, 3.0, 56.0, 30.0, 4.0, 41.0, 4.0, 52.0, 51.0, 22.0, 51.0, 88.0, 44.0, 99.0, 73.0, 5.0, 28.0, 49.0, 9.0, 1.0, 36.0, 38.0, 13.0, 21.0, 7.0, 2.0, 1.0, 1.0, 4.0, 1.0, 27.0, 1.0, 44.0, 82.0, 52.0, 3.0, 2.0, 109.0, 13.0, 26.0, 57.0, 16.0, 17.0, 46.0, 1.0, 84.0, 9.0, 30.0, 29.0, 11.0, 17.0, 34.0, 26.0, 23.0, 88.0, 10.0, 67.0, 23.0, 44.0, 5.0, 82.0, 26.0, 27.0, 11.0, 29.0, 21.0, 33.0, 56.0, 24.0, 17.0, 20.0, 20.0, 20.0, 7.0, 53.0, 63.0, 22.0, 4.0, 20.0, 5.0, 23.0, 75.0, 5.0, 48.0, 34.0, 5.0, 23.0, 3.0, 10.0, 32.0, 12.0, 4.0, 2.0, 41.0, 41.0, 3.0, 7.0, 6.0, 3.0, 60.0, 26.0, 4.0, 4.0, 50.0, 39.0, 1.0, 45.0, 3.0, 5.0, 46.0, 43.0, 88.0, 13.0, 17.0, 18.0, 51.0, 2.0, 3.0, 18.0, 49.0, 49.0, 70.0, 7.0, 43.0, 2.0, 61.0, 5.0, 6.0, 58.0, 1.0, 5.0, 42.0, 56.0, 9.0, 51.0, 31.0, 65.0, 33.0, 41.0, 9.0, 59.0, 3.0, 51.0, 4.0, 36.0, 25.0, 8.0, 9.0, 2.0, 50.0, 60.0, 10.0, 3.0, 14.0, 55.0, 23.0, 25.0, 13.0, 43.0, 21.0, 53.0, 16.0, 2.0, 20.0, 2.0, 68.0, 57.0, 6.0, 49.0, 73.0, 6.0, 40.0, 34.0, 23.0, 31.0, 6.0, 21.0, 50.0, 15.0, 33.0, 10.0, 15.0, 20.0, 22.0, 37.0, 9.0, 37.0, 10.0, 63.0, 57.0, 3.0, 3.0, 21.0, 57.0, 13.0, 11.0, 3.0, 7.0, 2.0, 2.0, 59.0, 1.0, 4.0, 38.0, 43.0, 78.0, 55.0, 22.0, 42.0, 41.0, 13.0, 29.0, 16.0, 2.0, 67.0, 3.0, 63.0, 3.0, 2.0, 82.0, 23.0, 16.0, 6.0, 8.0, 29.0, 60.0, 34.0, 67.0, 9.0, 55.0, 0.0, 97.0, 9.0, 29.0, 2.0, 19.0, 3.0, 2.0, 2.0, 22.0, 8.0, 21.0, 14.0, 18.0, 13.0, 37.0, 2.0, 48.0, 5.0, 71.0, 4.0, 66.0, 51.0, 7.0, 3.0, 57.0, 55.0, 47.0, 1.0, 65.0, 92.0, 94.0, 22.0, 13.0, 74.0, 21.0, 29.0, 2.0, 14.0, 13.0, 55.0, 45.0, 8.0, 28.0, 27.0, 4.0, 16.0, 43.0, 12.0, 3.0, 7.0, 53.0, 20.0, 1.0, 66.0, 56.0, 13.0, 7.0, 4.0, 2.0, 18.0, 44.0, 23.0, 9.0, 3.0, 29.0, 1.0, 24.0, 13.0, 5.0, 15.0, 35.0, 2.0, 34.0, 3.0, 18.0, 1.0, 12.0, 26.0, 48.0, 35.0, 5.0, 28.0, 3.0, 5.0, 6.0, 6.0, 6.0, 8.0, 5.0, 21.0, 4.0, 26.0, 1.0, 61.0, 7.0, 47.0, 4.0, 12.0, 82.0, 51.0, 30.0, 20.0, 5.0, 109.0, 47.0, 28.0, 31.0, 85.0, 3.0, 49.0, 116.0, 2.0, 2.0, 3.0, 7.0, 8.0, 23.0, 28.0, 36.0, 4.0, 4.0, 16.0, 54.0, 1.0, 37.0, 12.0, 20.0, 48.0, 4.0, 35.0, 9.0, 5.0, 7.0, 5.0, 28.0, 50.0, 48.0, 2.0, 7.0, 10.0, 63.0, 42.0, 58.0, 8.0, 36.0, 9.0, 28.0, 41.0, 7.0, 66.0, 94.0, 3.0, 6.0, 1.0, 16.0, 3.0, 9.0, 26.0, 23.0, 11.0, 16.0, 13.0, 8.0, 20.0, 43.0, 88.0, 1.0, 5.0, 18.0, 5.0, 8.0, 5.0, 53.0, 5.0, 5.0, 28.0, 28.0, 5.0, 16.0, 48.0, 4.0, 2.0, 11.0, 34.0, 4.0, 58.0, 19.0, 23.0, 1.0, 49.0, 53.0, 13.0, 98.0, 15.0, 17.0, 93.0, 26.0, 8.0, 3.0, 16.0, 2.0, 53.0, 9.0, 4.0, 27.0, 54.0, 44.0, 10.0, 6.0, 32.0, 2.0, 27.0, 1.0, 56.0, 4.0, 31.0, 16.0, 19.0, 35.0, 25.0, 58.0, 1.0, 27.0, 29.0, 53.0, 103.0, 57.0, 37.0, 39.0, 9.0, 14.0, 36.0, 79.0, 26.0, 2.0, 25.0, 5.0, 1.0, 1.0, 113.0, 7.0, 6.0, 76.0, 15.0, 3.0, 43.0, 21.0, 34.0, 103.0, 76.0, 63.0, 37.0, 2.0, 16.0, 5.0, 2.0, 10.0, 11.0, 42.0, 12.0, 1.0, 21.0, 85.0, 4.0, 1.0, 52.0, 127.0, 43.0, 8.0, 68.0, 65.0, 83.0, 90.0, 92.0, 76.0, 35.0, 104.0, 8.0, 26.0, 14.0, 4.0, 8.0, 81.0, 4.0, 17.0, 42.0, 17.0, 4.0, 36.0, 11.0, 20.0, 10.0, 19.0, 23.0, 73.0, 6.0, 4.0, 13.0, 30.0, 3.0, 71.0, 54.0, 43.0, 58.0, 60.0, 26.0, 33.0, 51.0, 57.0, 24.0, 31.0, 2.0, 31.0, 18.0, 12.0, 2.0, 37.0, 34.0, 2.0, 46.0, 2.0, 1.0, 2.0, 11.0, 9.0, 46.0, 2.0, 3.0, 71.0, 7.0, 4.0, 36.0, 13.0, 3.0, 26.0, 60.0, 103.0, 15.0, 15.0, 7.0, 75.0, 30.0, 31.0, 12.0, 2.0, 25.0, 7.0, 12.0, 14.0, 7.0, 16.0, 24.0, 22.0, 58.0, 1.0, 2.0, 2.0, 43.0, 58.0, 28.0, 33.0, 10.0, 1.0, 49.0, 17.0, 20.0, 50.0, 6.0, 4.0, 15.0, 4.0, 62.0, 34.0, 2.0, 47.0, 1.0, 37.0, 2.0, 5.0, 37.0, 37.0, 10.0, 14.0, 63.0, 0.0, 66.0, 1.0, 35.0, 44.0, 18.0, 13.0, 14.0, 56.0, 23.0, 16.0, 96.0, 12.0, 39.0, 23.0, 5.0, 5.0, 17.0, 18.0, 38.0, 4.0, 43.0, 13.0, 14.0, 4.0, 65.0, 15.0, 6.0, 28.0, 16.0, 60.0, 125.0, 58.0, 26.0, 116.0, 36.0, 21.0, 59.0, 17.0, 27.0, 4.0, 4.0, 35.0, 39.0, 35.0, 28.0, 35.0, 35.0, 24.0, 5.0, 30.0, 46.0, 33.0, 35.0, 42.0, 52.0, 43.0, 56.0, 38.0, 116.0, 32.0, 55.0, 42.0, 37.0, 57.0, 53.0, 61.0, 2.0, 56.0, 50.0, 48.0, 24.0, 43.0, 2.0, 3.0, 5.0, 15.0, 37.0, 40.0, 3.0, 8.0, 17.0, 5.0, 56.0, 50.0, 30.0, 16.0, 6.0, 98.0, 30.0, 1.0, 2.0, 9.0, 26.0, 10.0, 80.0, 53.0, 61.0, 52.0, 4.0, 5.0, 48.0, 16.0, 10.0, 57.0, 56.0, 11.0, 60.0, 34.0, 38.0, 6.0, 33.0, 57.0, 2.0, 102.0, 17.0, 6.0, 2.0, 28.0, 59.0, 10.0, 68.0, 2.0, 37.0, 81.0, 18.0, 17.0, 10.0, 3.0, 79.0, 7.0, 15.0, 65.0, 49.0, 17.0, 29.0, 22.0, 2.0, 58.0, 16.0, 21.0, 9.0, 16.0, 24.0, 75.0, 12.0, 72.0, 2.0, 4.0, 2.0, 38.0, 11.0, 1.0, 1.0, 1.0, 17.0, 1.0, 6.0, 3.0, 5.0, 2.0, 1.0, 9.0, 3.0, 27.0, 4.0, 2.0, 0.0, 2.0, 1.0, 8.0, 3.0, 44.0, 2.0, 0.0, 2.0, 58.0, 1.0, 40.0, 3.0, 33.0, 2.0, 3.0, 2.0, 55.0, 5.0, 2.0, 1.0, 0.0, 28.0, 7.0, 10.0, 49.0, 23.0, 26.0, 4.0, 3.0, 2.0, 2.0, 4.0, 2.0, 21.0, 15.0, 10.0, 1.0, 2.0, 1.0, 3.0, 1.0, 2.0, 14.0, 51.0, 3.0, 5.0, 55.0, 7.0, 4.0, 35.0, 5.0, 12.0, 50.0, 9.0, 1.0, 4.0, 2.0, 11.0, 22.0, 11.0, 28.0, 15.0, 1.0, 7.0, 23.0, 32.0, 2.0, 1.0, 4.0, 4.0, 70.0, 13.0, 43.0, 32.0, 1.0, 1.0, 1.0, 4.0, 2.0, 4.0, 1.0, 3.0, 1.0, 2.0, 16.0, 5.0, 1.0, 2.0, 7.0, 27.0, 3.0, 23.0, 7.0, 12.0, 10.0, 64.0, 30.0, 4.0, 19.0, 7.0, 6.0, 41.0, 3.0, 2.0, 38.0, 2.0, 1.0, 2.0, 4.0, 1.0, 1.0, 1.0, 3.0, 12.0, 4.0, 1.0, 18.0, 26.0, 26.0, 4.0, 3.0, 14.0, 5.0, 33.0, 3.0, 25.0, 3.0, 46.0, 2.0, 4.0, 14.0, 9.0, 8.0, 14.0, 4.0, 4.0, 1.0, 3.0, 1.0, 4.0, 3.0, 4.0, 10.0, 7.0, 1.0, 4.0, 34.0, 2.0, 9.0, 2.0, 27.0, 1.0, 11.0, 3.0, 39.0, 16.0, 88.0, 1.0, 39.0, 33.0, 26.0, 18.0, 73.0, 48.0, 37.0, 5.0, 41.0, 42.0, 22.0, 2.0, 29.0, 43.0, 5.0, 3.0, 18.0, 25.0, 71.0, 43.0, 90.0, 104.0, 31.0, 47.0, 14.0, 46.0, 6.0, 6.0, 75.0, 27.0, 90.0, 7.0, 63.0, 43.0, 4.0, 100.0, 70.0, 22.0, 31.0, 39.0, 97.0, 16.0, 36.0, 51.0, 32.0, 3.0, 1.0, 26.0, 74.0, 20.0, 41.0, 17.0, 62.0, 31.0, 56.0, 46.0, 52.0, 13.0, 18.0, 23.0, 111.0, 62.0, 19.0, 103.0, 43.0, 26.0, 35.0, 18.0, 4.0, 25.0, 55.0, 4.0, 52.0, 34.0, 35.0, 2.0, 16.0, 42.0, 3.0, 38.0, 26.0, 8.0, 12.0, 18.0, 1.0, 53.0, 7.0, 17.0, 7.0, 35.0, 50.0, 77.0, 4.0, 53.0, 20.0, 6.0, 40.0, 47.0, 10.0, 2.0, 14.0, 21.0, 3.0, 2.0, 55.0, 5.0, 3.0, 22.0, 7.0, 38.0, 126.0, 97.0, 29.0, 22.0, 60.0, 7.0, 87.0, 7.0, 7.0, 90.0, 13.0, 1.0, 4.0, 40.0, 37.0, 21.0, 1.0, 67.0, 1.0, 10.0, 1.0, 89.0, 32.0, 3.0, 54.0, 55.0, 29.0, 13.0, 2.0, 21.0, 33.0, 52.0, 13.0, 58.0, 68.0, 2.0, 19.0, 59.0, 56.0, 3.0, 38.0, 31.0, 10.0, 3.0, 4.0, 44.0, 99.0, 12.0, 81.0, 102.0, 61.0, 12.0, 3.0, 1.0, 3.0, 103.0, 29.0, 13.0, 3.0, 57.0, 6.0, 39.0, 5.0, 22.0, 5.0, 64.0, 2.0, 8.0, 49.0, 5.0, 6.0, 8.0, 44.0, 14.0, 5.0, 31.0, 1.0, 4.0, 42.0, 52.0, 12.0, 55.0, 54.0, 27.0, 69.0, 40.0, 30.0, 61.0, 8.0, 6.0, 6.0, 26.0, 42.0, 37.0, 16.0, 2.0, 19.0, 42.0, 4.0, 2.0, 59.0, 1.0, 2.0, 6.0, 40.0, 40.0, 68.0, 5.0, 0.0, 17.0, 5.0, 44.0, 67.0, 48.0, 84.0, 78.0, 29.0, 9.0, 18.0, 7.0, 61.0, 12.0, 1.0, 1.0, 5.0, 52.0, 20.0, 1.0, 3.0, 3.0, 8.0, 48.0, 15.0, 2.0, 24.0, 29.0, 26.0, 41.0, 6.0, 12.0, 45.0, 13.0, 6.0, 70.0, 4.0, 33.0, 77.0, 3.0, 67.0, 55.0, 25.0, 11.0, 30.0, 109.0, 2.0, 33.0, 58.0, 59.0, 51.0, 28.0, 27.0, 6.0, 21.0, 61.0, 103.0, 50.0, 3.0, 49.0, 79.0, 9.0, 48.0, 3.0, 51.0, 3.0, 61.0, 14.0, 6.0, 17.0, 1.0, 2.0, 59.0, 43.0, 15.0, 3.0, 4.0, 8.0, 23.0, 34.0, 10.0, 3.0, 60.0, 48.0, 6.0, 5.0, 4.0, 22.0, 4.0, 2.0, 4.0, 62.0, 21.0, 6.0, 5.0, 20.0, 13.0, 2.0, 53.0, 7.0, 59.0, 1.0, 3.0, 9.0, 40.0, 3.0, 13.0, 23.0, 4.0, 42.0, 3.0, 64.0, 5.0, 5.0, 8.0, 26.0, 21.0, 58.0, 1.0, 122.0, 47.0, 6.0, 16.0, 11.0, 2.0, 12.0, 67.0, 47.0, 5.0, 3.0, 4.0, 2.0, 16.0, 59.0, 57.0, 2.0, 27.0, 71.0, 78.0, 70.0, 15.0, 38.0, 44.0, 30.0, 62.0, 43.0, 25.0, 66.0, 18.0, 3.0, 12.0, 11.0, 3.0, 7.0, 39.0, 8.0, 2.0, 7.0, 4.0, 24.0, 3.0, 16.0, 15.0, 7.0, 25.0, 10.0, 7.0, 4.0, 9.0, 59.0, 7.0, 5.0, 34.0, 71.0, 11.0, 28.0, 64.0, 17.0, 37.0, 27.0, 56.0, 9.0, 39.0, 29.0, 10.0, 31.0, 7.0, 2.0, 3.0, 55.0, 31.0, 41.0, 41.0, 24.0, 44.0, 32.0, 9.0, 5.0, 74.0, 4.0, 2.0, 54.0, 40.0, 2.0, 6.0, 87.0, 39.0, 82.0, 14.0, 41.0, 57.0, 6.0, 23.0, 44.0, 2.0, 26.0, 17.0, 8.0, 21.0, 4.0, 5.0, 2.0, 0.0, 1.0, 2.0, 1.0, 65.0, 28.0, 15.0, 29.0, 60.0, 14.0, 8.0, 127.0, 25.0, 3.0, 6.0, 5.0, 19.0, 20.0, 32.0, 61.0, 58.0, 3.0, 91.0, 24.0, 14.0, 5.0, 31.0, 6.0, 55.0, 1.0, 42.0, 27.0, 1.0, 17.0, 38.0, 47.0, 30.0, 1.0, 13.0, 21.0, 32.0, 30.0, 48.0, 72.0, 99.0, 11.0, 26.0, 2.0, 29.0, 3.0, 31.0, 3.0, 2.0, 1.0, 6.0, 33.0, 2.0, 2.0, 1.0, 64.0, 8.0, 22.0, 20.0, 46.0, 8.0, 7.0, 2.0, 1.0, 11.0, 33.0, 12.0, 2.0, 9.0, 7.0, 12.0, 1.0, 6.0, 12.0, 12.0, 24.0, 15.0, 5.0, 43.0, 43.0, 9.0, 2.0, 40.0, 57.0, 50.0, 1.0, 6.0, 34.0, 24.0, 7.0, 2.0, 4.0, 19.0, 11.0, 25.0, 30.0, 34.0, 4.0, 8.0, 7.0, 53.0, 2.0, 61.0, 29.0, 31.0, 37.0, 4.0, 25.0, 74.0, 0.0, 18.0, 11.0, 7.0, 7.0, 39.0, 9.0, 15.0, 76.0, 1.0, 34.0, 9.0, 36.0, 4.0, 33.0, 24.0, 22.0, 57.0, 16.0, 50.0, 5.0, 1.0, 9.0, 58.0, 1.0, 5.0, 5.0, 26.0, 4.0, 7.0, 12.0, 8.0, 13.0, 38.0, 29.0, 9.0, 2.0, 54.0, 21.0, 2.0, 3.0, 2.0, 11.0, 52.0, 13.0, 1.0, 4.0, 1.0, 2.0, 68.0, 68.0, 59.0, 46.0, 28.0, 40.0, 7.0, 0.0, 15.0, 1.0, 29.0, 12.0, 5.0, 52.0, 16.0, 2.0, 62.0, 10.0, 2.0, 12.0, 3.0, 57.0, 7.0, 6.0, 15.0, 23.0, 17.0, 44.0, 7.0, 33.0, 39.0, 0.0, 11.0, 6.0, 4.0, 1.0, 23.0, 34.0, 3.0, 6.0, 3.0, 8.0, 17.0, 1.0, 17.0, 7.0, 11.0, 67.0, 103.0, 84.0, 21.0, 10.0, 120.0, 2.0, 34.0, 38.0, 2.0, 62.0, 23.0, 112.0, 70.0, 1.0, 13.0, 10.0, 1.0, 31.0, 29.0, 40.0, 20.0, 14.0, 27.0, 38.0, 56.0, 18.0, 10.0, 7.0, 28.0, 79.0, 54.0, 1.0, 44.0, 52.0, 59.0, 48.0, 87.0, 6.0, 18.0, 32.0, 2.0, 32.0, 20.0, 77.0, 3.0, 2.0, 2.0, 87.0, 81.0, 3.0, 17.0, 4.0, 54.0, 36.0, 28.0, 4.0, 42.0, 71.0, 69.0, 66.0, 31.0, 61.0, 10.0, 8.0, 3.0, 32.0, 15.0, 66.0, 29.0, 59.0, 61.0, 35.0, 18.0, 36.0, 40.0, 4.0, 33.0, 19.0, 22.0, 32.0, 40.0, 5.0, 64.0, 6.0, 2.0, 104.0, 60.0, 31.0, 4.0, 3.0, 40.0, 3.0, 26.0, 14.0, 4.0, 14.0, 15.0, 72.0, 15.0, 73.0, 9.0, 24.0, 62.0, 23.0, 35.0, 41.0, 19.0, 1.0, 52.0, 56.0, 23.0, 2.0, 24.0, 44.0, 20.0, 28.0, 26.0, 10.0, 50.0, 19.0, 42.0, 27.0, 7.0, 46.0, 44.0, 7.0, 44.0, 30.0, 5.0, 2.0, 41.0, 71.0, 43.0, 0.0, 16.0, 13.0, 30.0, 43.0, 58.0, 7.0, 20.0, 20.0, 59.0, 47.0, 57.0, 1.0, 20.0, 43.0, 12.0, 16.0, 6.0, 24.0, 8.0, 12.0, 6.0, 35.0, 60.0, 47.0, 20.0, 34.0, 24.0, 27.0, 1.0, 30.0, 121.0, 61.0, 8.0, 60.0, 29.0, 2.0, 2.0, 4.0, 52.0, 61.0, 23.0, 31.0, 105.0, 49.0, 42.0, 31.0, 4.0, 36.0, 34.0, 53.0, 21.0, 3.0, 19.0, 41.0, 7.0, 2.0, 7.0, 34.0, 72.0, 30.0, 32.0, 22.0, 5.0, 4.0, 30.0, 49.0, 26.0, 2.0, 56.0, 20.0, 32.0, 7.0, 15.0, 7.0, 11.0, 5.0, 17.0, 7.0, 95.0, 9.0, 14.0, 5.0, 9.0, 4.0, 61.0, 14.0, 13.0, 1.0, 2.0, 23.0, 24.0, 108.0, 102.0, 31.0, 52.0, 24.0, 6.0, 1.0, 39.0, 29.0, 17.0, 47.0, 2.0, 2.0, 5.0, 2.0, 2.0, 40.0, 7.0, 60.0, 25.0, 43.0, 2.0, 13.0, 32.0, 57.0, 55.0, 30.0, 2.0, 24.0, 96.0, 1.0, 15.0, 63.0, 61.0, 20.0, 38.0, 45.0, 7.0, 50.0, 46.0, 29.0, 6.0, 7.0, 2.0, 52.0, 1.0, 4.0, 49.0, 47.0, 4.0, 25.0, 73.0, 60.0, 22.0, 56.0, 103.0, 95.0, 4.0, 43.0, 6.0, 58.0, 119.0, 18.0, 2.0, 3.0, 3.0, 23.0, 46.0, 30.0, 61.0, 30.0, 11.0, 7.0, 1.0, 51.0, 34.0, 4.0, 13.0, 2.0, 10.0, 42.0, 61.0, 82.0, 23.0, 2.0, 118.0, 48.0, 37.0, 41.0, 10.0, 53.0, 38.0, 21.0, 1.0, 2.0, 82.0, 31.0, 59.0, 21.0, 59.0, 32.0, 20.0, 8.0, 57.0, 41.0, 4.0, 59.0, 42.0, 51.0, 24.0, 33.0, 39.0, 35.0, 6.0, 33.0, 28.0, 56.0, 3.0, 9.0, 29.0, 7.0, 30.0, 13.0, 44.0, 48.0, 7.0, 68.0, 7.0, 117.0, 54.0, 38.0, 35.0, 35.0, 51.0, 21.0, 74.0, 50.0, 4.0, 41.0, 90.0, 58.0, 35.0, 5.0, 1.0, 86.0, 12.0, 34.0, 54.0, 25.0, 7.0, 28.0, 59.0, 11.0, 10.0, 1.0, 2.0, 20.0, 6.0, 4.0, 3.0, 14.0, 5.0, 45.0, 12.0, 87.0, 62.0, 5.0, 41.0, 15.0, 51.0, 4.0, 27.0, 61.0, 3.0, 12.0, 27.0, 75.0, 6.0, 2.0, 73.0, 62.0, 20.0, 19.0, 29.0, 76.0, 4.0, 3.0, 5.0, 69.0, 20.0, 12.0, 46.0, 65.0, 40.0, 74.0, 53.0, 56.0, 60.0, 14.0, 27.0, 33.0, 33.0, 48.0, 4.0, 25.0, 53.0, 36.0, 15.0, 80.0, 2.0, 2.0, 17.0, 20.0, 36.0, 13.0, 30.0, 36.0, 11.0, 33.0, 6.0, 65.0, 30.0, 5.0, 49.0, 16.0, 24.0, 44.0, 55.0, 38.0, 28.0, 59.0, 59.0, 55.0, 23.0, 66.0, 4.0, 2.0, 5.0, 44.0, 73.0, 104.0, 32.0, 12.0, 71.0, 2.0, 1.0, 6.0, 5.0, 28.0, 74.0, 73.0, 12.0, 47.0, 67.0, 8.0, 15.0, 2.0, 45.0, 26.0, 50.0, 27.0, 32.0, 47.0, 35.0, 23.0, 4.0, 3.0, 33.0, 10.0, 74.0, 98.0, 35.0, 3.0, 83.0, 64.0, 72.0, 31.0, 34.0, 40.0, 2.0, 80.0, 44.0, 54.0, 100.0, 21.0, 63.0, 37.0, 22.0, 126.0, 2.0, 3.0, 1.0, 25.0, 68.0, 3.0, 59.0, 10.0, 22.0, 15.0, 51.0, 51.0, 34.0, 60.0, 61.0, 68.0, 26.0, 44.0, 50.0, 56.0, 10.0, 61.0, 126.0, 79.0, 67.0, 34.0, 22.0, 2.0, 13.0, 4.0, 2.0, 47.0, 30.0, 39.0, 20.0, 8.0, 41.0, 35.0, 61.0, 31.0, 83.0, 59.0, 21.0, 7.0, 55.0, 86.0, 1.0, 1.0, 37.0, 3.0, 3.0, 79.0, 48.0, 59.0, 43.0, 3.0, 83.0, 20.0, 2.0, 53.0, 53.0, 38.0, 60.0, 67.0, 65.0, 32.0, 30.0, 21.0, 9.0, 54.0, 38.0, 58.0, 13.0, 47.0, 7.0, 108.0, 80.0, 72.0, 68.0, 35.0, 82.0, 14.0, 80.0, 118.0, 88.0, 92.0, 61.0, 53.0, 8.0, 36.0, 65.0, 2.0, 22.0, 45.0, 7.0, 48.0, 41.0, 44.0, 58.0, 28.0, 31.0, 63.0, 59.0, 10.0, 55.0, 26.0, 19.0, 2.0, 108.0, 2.0, 16.0, 66.0, 1.0, 8.0, 117.0, 40.0, 31.0, 36.0, 69.0, 74.0, 21.0, 43.0, 29.0, 11.0, 78.0, 65.0, 29.0, 47.0, 34.0, 42.0, 34.0, 2.0, 117.0, 28.0, 58.0, 88.0, 61.0, 35.0, 81.0, 8.0, 36.0, 103.0, 43.0, 49.0, 47.0, 41.0, 4.0, 44.0, 7.0, 18.0, 41.0, 50.0, 54.0, 61.0, 5.0, 4.0, 1.0, 7.0, 52.0, 57.0, 56.0, 44.0, 8.0, 54.0, 2.0, 8.0, 68.0, 21.0, 49.0, 2.0, 1.0, 8.0, 59.0, 17.0, 5.0, 68.0, 35.0, 28.0, 48.0, 5.0, 7.0, 81.0, 3.0, 2.0, 8.0, 8.0, 60.0, 2.0, 18.0, 32.0, 36.0, 14.0, 10.0, 6.0, 63.0, 75.0, 49.0, 25.0, 4.0, 55.0, 8.0, 33.0, 56.0, 3.0, 61.0, 4.0, 39.0, 72.0, 32.0, 4.0, 32.0, 1.0, 3.0, 32.0, 11.0, 2.0, 2.0, 18.0, 1.0, 0.0, 67.0, 12.0, 81.0, 8.0, 10.0, 3.0, 5.0, 2.0, 3.0, 1.0, 21.0, 13.0, 21.0, 60.0, 98.0, 13.0, 54.0, 49.0, 2.0, 24.0, 2.0, 62.0, 35.0, 14.0, 48.0, 18.0, 19.0, 63.0, 11.0, 61.0, 12.0, 11.0, 51.0, 1.0, 1.0, 49.0, 63.0, 45.0, 1.0, 6.0, 54.0, 10.0, 66.0, 17.0, 6.0, 78.0, 2.0, 1.0, 2.0, 2.0, 1.0, 2.0, 61.0, 34.0, 28.0, 3.0, 72.0, 2.0, 2.0, 4.0, 64.0, 103.0, 30.0, 61.0, 1.0, 45.0, 2.0, 17.0, 77.0, 76.0, 2.0, 38.0, 2.0, 2.0, 2.0, 2.0, 12.0, 15.0, 6.0, 3.0, 16.0, 3.0, 5.0, 1.0, 1.0, 2.0, 41.0, 11.0, 4.0, 25.0, 7.0, 7.0, 55.0, 50.0, 53.0, 5.0, 3.0, 5.0, 3.0, 103.0, 38.0, 98.0, 2.0, 6.0, 10.0, 37.0, 28.0, 1.0, 8.0, 6.0, 7.0, 40.0, 20.0, 12.0, 2.0, 5.0, 22.0, 5.0, 3.0, 75.0, 10.0, 1.0, 3.0, 1.0, 1.0, 6.0, 3.0, 8.0, 4.0, 9.0, 2.0, 2.0, 39.0, 25.0, 59.0, 23.0, 30.0, 2.0, 6.0, 3.0, 3.0, 28.0, 40.0, 17.0, 2.0, 1.0, 15.0, 2.0, 5.0, 10.0, 3.0, 7.0, 2.0, 10.0, 1.0, 21.0, 22.0, 3.0, 31.0, 40.0, 10.0, 25.0, 13.0, 27.0, 4.0, 4.0, 2.0, 6.0, 7.0, 8.0, 27.0, 20.0, 43.0, 105.0, 2.0, 6.0, 12.0, 7.0, 42.0, 8.0, 8.0, 4.0, 15.0, 9.0, 53.0, 7.0, 58.0, 15.0, 14.0, 1.0, 30.0, 51.0, 65.0, 36.0, 2.0, 2.0, 46.0, 4.0, 3.0, 3.0, 65.0, 64.0, 42.0, 17.0, 7.0, 2.0, 75.0, 3.0, 26.0, 7.0, 1.0, 16.0, 16.0, 19.0, 47.0, 3.0, 3.0, 15.0, 2.0, 49.0, 16.0, 20.0, 2.0, 16.0, 33.0, 57.0, 60.0, 50.0, 32.0, 6.0, 5.0, 52.0, 33.0, 17.0, 18.0, 3.0, 2.0, 5.0, 67.0, 66.0, 58.0, 4.0, 3.0, 15.0, 26.0, 3.0, 37.0, 11.0, 55.0, 19.0, 30.0, 3.0, 3.0, 65.0, 58.0, 14.0, 63.0, 24.0, 47.0, 3.0, 12.0, 3.0, 0.0, 94.0, 1.0, 6.0, 36.0, 1.0, 43.0, 3.0, 7.0, 4.0, 6.0, 59.0, 3.0, 40.0, 9.0, 7.0, 3.0, 2.0, 41.0, 12.0, 74.0, 41.0, 35.0, 71.0, 26.0, 6.0, 4.0, 25.0, 37.0, 9.0, 48.0, 7.0, 14.0, 22.0, 28.0, 74.0, 59.0, 40.0, 4.0, 57.0, 1.0, 83.0, 3.0, 2.0, 31.0, 68.0, 8.0, 5.0, 15.0, 2.0, 64.0, 17.0, 6.0, 4.0, 8.0, 10.0, 1.0, 61.0, 27.0, 14.0, 10.0, 0.0, 1.0, 7.0, 12.0, 47.0, 30.0, 23.0, 12.0, 14.0, 2.0, 15.0, 37.0, 24.0, 1.0, 39.0, 3.0, 12.0, 20.0, 4.0, 52.0, 47.0, 11.0, 68.0, 32.0, 18.0, 48.0, 3.0, 67.0, 2.0, 4.0, 65.0, 44.0, 4.0, 114.0, 3.0, 26.0, 47.0, 103.0, 42.0, 15.0, 55.0, 1.0, 7.0, 41.0, 56.0, 22.0, 29.0, 65.0, 4.0, 3.0, 31.0, 3.0, 14.0, 3.0, 37.0, 61.0, 5.0, 6.0, 54.0, 21.0, 4.0, 40.0, 48.0, 25.0, 5.0, 3.0, 12.0, 23.0, 1.0, 75.0, 4.0, 3.0, 3.0, 99.0, 2.0, 3.0, 36.0, 3.0, 4.0, 5.0, 5.0, 70.0, 6.0, 63.0, 2.0, 10.0, 3.0, 60.0, 4.0, 56.0, 1.0, 27.0, 60.0, 31.0, 47.0, 27.0, 48.0, 2.0, 27.0, 9.0, 41.0, 32.0, 52.0, 62.0, 34.0, 17.0, 34.0, 43.0, 24.0, 13.0, 1.0, 51.0, 59.0, 4.0, 39.0, 58.0, 5.0, 1.0, 52.0, 6.0, 47.0, 4.0, 28.0, 33.0, 60.0, 30.0, 58.0, 68.0, 1.0, 8.0, 4.0, 8.0, 9.0, 4.0, 14.0, 2.0, 2.0, 76.0, 5.0, 37.0, 3.0, 4.0, 19.0, 26.0, 60.0, 3.0, 1.0, 4.0, 10.0, 5.0, 41.0, 2.0, 7.0, 42.0, 16.0, 34.0, 9.0, 1.0, 4.0, 84.0, 30.0, 9.0, 11.0, 19.0, 3.0, 5.0, 3.0, 2.0, 4.0, 86.0, 5.0, 2.0, 5.0, 23.0, 29.0, 14.0, 2.0, 22.0, 2.0, 4.0, 4.0, 7.0, 34.0, 2.0, 7.0, 7.0, 5.0, 7.0, 15.0, 34.0, 27.0, 31.0, 30.0, 21.0, 2.0, 3.0, 2.0, 23.0, 3.0, 2.0, 9.0, 61.0, 3.0, 7.0, 42.0, 26.0, 62.0, 16.0, 1.0, 8.0, 6.0, 3.0, 16.0, 81.0, 61.0, 42.0, 13.0, 21.0, 6.0, 4.0, 11.0, 2.0, 8.0, 55.0, 9.0, 8.0, 42.0, 34.0, 5.0, 58.0, 8.0, 15.0, 16.0, 7.0, 20.0, 30.0, 6.0, 53.0, 2.0, 5.0, 50.0, 44.0, 3.0, 8.0, 4.0, 10.0, 46.0, 58.0, 14.0, 39.0, 12.0, 120.0, 42.0, 3.0, 50.0, 5.0, 7.0, 10.0, 3.0, 59.0, 3.0, 10.0, 59.0, 6.0, 8.0, 37.0, 33.0, 31.0, 10.0, 1.0, 61.0, 71.0, 8.0, 5.0, 4.0, 22.0, 4.0, 59.0, 40.0, 57.0, 4.0, 3.0, 29.0, 34.0, 63.0, 30.0, 7.0, 89.0, 7.0, 44.0, 77.0, 56.0, 65.0, 81.0, 23.0, 42.0, 5.0, 89.0, 40.0, 41.0, 9.0, 44.0, 53.0, 25.0, 57.0, 25.0, 7.0, 56.0, 10.0, 35.0, 39.0, 28.0, 1.0, 31.0, 9.0, 18.0, 8.0, 35.0, 27.0, 36.0, 3.0, 48.0, 31.0, 7.0, 5.0, 5.0, 65.0, 2.0, 9.0, 10.0, 9.0, 20.0, 6.0, 3.0, 2.0, 41.0, 42.0, 58.0, 44.0, 36.0, 5.0, 1.0, 14.0, 20.0, 107.0, 41.0, 59.0, 41.0, 4.0, 63.0, 45.0, 74.0, 16.0, 11.0, 11.0, 39.0, 3.0, 2.0, 2.0, 40.0, 113.0, 1.0, 2.0, 4.0, 21.0, 21.0, 14.0, 6.0, 3.0, 2.0, 4.0, 1.0, 30.0, 10.0, 15.0, 8.0, 120.0, 16.0, 60.0, 1.0, 15.0, 4.0, 20.0, 27.0, 18.0, 14.0, 7.0, 45.0, 15.0, 13.0, 37.0, 9.0, 52.0, 82.0, 4.0, 56.0, 16.0, 58.0, 17.0, 54.0, 70.0, 11.0, 83.0, 36.0, 45.0, 3.0, 20.0, 16.0, 48.0, 72.0, 2.0, 41.0, 87.0, 60.0, 37.0, 75.0, 67.0, 5.0, 8.0, 74.0, 11.0, 36.0, 57.0, 36.0, 55.0, 10.0, 82.0, 39.0, 42.0, 75.0, 3.0, 104.0, 2.0, 9.0, 1.0, 3.0, 9.0, 2.0, 3.0, 3.0, 1.0, 30.0, 89.0, 60.0, 62.0, 93.0, 65.0, 3.0, 9.0, 65.0, 20.0, 2.0, 62.0, 83.0, 90.0, 34.0, 1.0, 14.0, 20.0, 124.0, 1.0, 39.0, 40.0, 51.0, 65.0, 43.0, 3.0, 1.0, 66.0, 24.0, 31.0, 14.0, 58.0, 84.0, 61.0, 67.0, 38.0, 5.0, 5.0, 58.0, 11.0, 68.0, 2.0, 55.0, 71.0, 1.0, 39.0, 45.0, 65.0, 14.0, 3.0, 71.0, 30.0, 36.0, 31.0, 69.0, 10.0, 4.0, 50.0, 27.0, 5.0, 24.0, 95.0, 27.0, 25.0, 6.0, 64.0, 2.0, 55.0, 11.0, 81.0, 54.0, 60.0, 2.0, 74.0, 5.0, 7.0, 30.0, 52.0, 38.0, 52.0, 2.0, 30.0, 44.0, 8.0, 3.0, 2.0, 10.0, 2.0, 4.0, 9.0, 54.0, 3.0, 1.0, 85.0, 57.0, 8.0, 11.0, 9.0, 40.0, 36.0, 35.0, 46.0, 7.0, 5.0, 5.0, 3.0, 25.0, 17.0, 2.0, 1.0, 7.0, 11.0, 49.0, 39.0, 3.0, 10.0, 5.0, 10.0, 11.0, 31.0, 1.0, 5.0, 26.0, 8.0, 26.0, 7.0, 3.0, 4.0, 48.0, 54.0, 9.0, 36.0, 2.0, 1.0, 62.0, 20.0, 77.0, 15.0, 2.0, 29.0, 23.0, 11.0, 4.0, 4.0, 60.0, 3.0, 18.0, 3.0, 83.0, 4.0, 57.0, 12.0, 44.0, 27.0, 9.0, 15.0, 2.0, 7.0, 11.0, 1.0, 2.0, 6.0, 2.0, 5.0, 6.0, 2.0, 5.0, 9.0, 12.0, 14.0, 1.0, 6.0, 4.0, 50.0, 2.0, 10.0, 2.0, 29.0, 24.0, 45.0, 8.0, 2.0, 2.0, 8.0, 36.0, 3.0, 16.0, 35.0, 9.0, 44.0, 3.0, 3.0, 3.0, 15.0, 63.0, 26.0, 5.0, 2.0, 4.0, 4.0, 23.0, 12.0, 7.0, 82.0, 50.0, 24.0, 27.0, 3.0, 15.0, 51.0, 23.0, 3.0, 72.0, 52.0, 4.0, 6.0, 23.0, 34.0, 5.0, 3.0, 28.0, 81.0, 0.0, 3.0, 53.0, 4.0, 11.0, 35.0, 5.0, 58.0, 30.0, 16.0, 73.0, 42.0, 4.0, 51.0, 9.0, 11.0, 3.0, 53.0, 24.0, 16.0, 43.0, 64.0, 17.0, 26.0, 58.0, 86.0, 30.0, 34.0, 98.0, 94.0, 15.0, 5.0, 77.0, 15.0, 53.0, 44.0, 7.0, 14.0, 25.0, 25.0, 24.0, 25.0, 13.0, 36.0, 18.0, 9.0, 25.0, 16.0, 24.0, 3.0, 8.0, 18.0, 30.0, 6.0, 60.0, 42.0, 8.0, 3.0, 25.0, 4.0, 67.0, 40.0, 5.0, 30.0, 33.0, 128.0, 42.0, 30.0, 3.0, 32.0, 40.0, 25.0, 53.0, 4.0, 42.0, 32.0, 56.0, 30.0, 2.0, 60.0, 37.0, 49.0, 28.0, 22.0, 27.0, 34.0, 34.0, 5.0, 14.0, 42.0, 44.0, 98.0, 8.0, 15.0, 93.0, 21.0, 15.0, 29.0, 25.0, 58.0, 4.0, 26.0, 40.0, 43.0, 20.0, 4.0, 73.0, 20.0, 4.0, 54.0, 6.0, 2.0, 19.0, 2.0, 14.0, 24.0, 13.0, 36.0, 38.0, 19.0, 42.0, 31.0, 6.0, 44.0, 49.0, 55.0, 35.0, 28.0, 34.0, 9.0, 58.0, 65.0, 2.0, 4.0, 11.0, 34.0, 93.0, 66.0, 10.0, 41.0, 4.0, 56.0, 63.0, 31.0, 71.0, 46.0, 53.0, 51.0, 3.0, 15.0, 32.0, 74.0, 31.0, 25.0, 90.0, 36.0, 3.0, 53.0, 13.0, 62.0, 5.0, 5.0, 2.0, 36.0, 10.0, 60.0, 59.0, 3.0, 9.0, 5.0, 27.0, 30.0, 5.0, 27.0, 5.0, 25.0, 5.0, 12.0, 57.0, 7.0, 23.0, 94.0, 49.0, 49.0, 11.0, 44.0, 30.0, 18.0, 23.0, 47.0, 22.0, 11.0, 36.0, 32.0, 2.0, 2.0, 61.0, 18.0, 23.0, 112.0, 43.0, 1.0, 23.0, 79.0, 76.0, 66.0, 51.0, 53.0, 13.0, 5.0, 29.0, 39.0, 114.0, 41.0, 28.0, 22.0, 40.0, 8.0, 30.0, 59.0, 12.0, 7.0, 24.0, 12.0, 36.0, 1.0, 10.0, 5.0, 31.0, 5.0, 47.0, 115.0, 7.0, 58.0, 61.0, 32.0, 5.0, 25.0, 20.0, 3.0, 1.0, 3.0, 10.0, 22.0, 7.0, 41.0, 34.0, 127.0, 4.0, 2.0, 48.0, 29.0, 22.0, 1.0, 1.0, 2.0, 4.0, 16.0, 3.0, 16.0, 2.0, 3.0, 22.0, 46.0, 8.0, 8.0, 4.0, 48.0, 5.0, 4.0, 35.0, 23.0, 87.0, 25.0, 62.0, 46.0, 18.0, 2.0, 42.0, 4.0, 25.0, 58.0, 1.0, 113.0, 23.0, 3.0, 4.0, 22.0, 3.0, 35.0, 50.0, 55.0, 7.0, 15.0, 11.0, 15.0, 63.0, 5.0, 69.0, 17.0, 19.0, 2.0, 36.0, 17.0, 57.0, 26.0, 2.0, 5.0, 55.0, 20.0, 42.0, 4.0, 53.0, 33.0, 71.0, 5.0, 41.0, 3.0, 76.0, 45.0, 32.0, 13.0, 76.0, 1.0, 61.0, 2.0, 29.0, 20.0, 74.0, 1.0, 58.0, 3.0, 43.0, 15.0, 3.0, 29.0, 5.0, 51.0, 68.0, 30.0, 32.0, 39.0, 44.0, 52.0, 3.0, 93.0, 32.0, 58.0, 27.0, 66.0, 28.0, 17.0, 32.0, 55.0, 4.0, 12.0, 7.0, 15.0, 13.0, 120.0, 53.0, 41.0, 4.0, 4.0, 4.0, 59.0, 35.0, 21.0, 3.0, 44.0, 24.0, 21.0, 24.0, 27.0, 40.0, 31.0, 5.0, 17.0, 3.0, 9.0, 12.0, 20.0, 49.0, 49.0, 72.0, 27.0, 26.0, 100.0, 60.0, 18.0, 107.0, 69.0, 28.0, 53.0, 4.0, 1.0, 14.0, 61.0, 3.0, 1.0, 3.0, 8.0, 55.0, 46.0, 2.0, 12.0, 9.0, 32.0, 8.0, 4.0, 64.0, 1.0, 3.0, 8.0, 90.0, 10.0, 3.0, 13.0, 73.0, 10.0, 24.0, 10.0, 10.0, 3.0, 18.0, 17.0, 23.0, 1.0, 53.0, 12.0, 30.0, 4.0, 39.0, 20.0, 3.0, 40.0, 71.0, 2.0, 11.0, 23.0, 32.0, 5.0, 7.0, 8.0, 2.0, 13.0, 23.0, 7.0, 7.0, 4.0, 2.0, 7.0, 2.0, 60.0, 31.0, 3.0, 3.0, 32.0, 20.0, 6.0, 42.0, 2.0, 4.0, 14.0, 11.0, 38.0, 44.0, 6.0, 21.0, 37.0, 2.0, 42.0, 44.0, 2.0, 31.0, 35.0, 1.0, 21.0, 79.0, 17.0, 28.0, 38.0, 1.0, 8.0, 6.0, 7.0, 24.0, 25.0, 2.0, 42.0, 6.0, 65.0, 48.0, 1.0, 3.0, 66.0, 7.0, 48.0, 3.0, 3.0, 38.0, 7.0, 32.0, 103.0, 112.0, 64.0, 36.0, 2.0, 7.0, 34.0, 30.0, 68.0, 60.0, 14.0, 34.0, 89.0, 2.0, 6.0, 2.0, 60.0, 2.0, 4.0, 1.0, 22.0, 12.0, 97.0, 3.0, 5.0, 48.0, 26.0, 51.0, 67.0, 24.0, 105.0, 2.0, 1.0, 5.0, 21.0, 10.0, 1.0, 31.0, 2.0, 73.0, 66.0, 80.0, 10.0, 37.0, 6.0, 11.0, 19.0, 101.0, 63.0, 56.0, 10.0, 24.0, 9.0, 53.0, 2.0, 55.0, 22.0, 94.0, 47.0, 34.0, 52.0, 34.0, 64.0, 34.0, 3.0, 34.0, 59.0, 71.0, 25.0, 26.0, 30.0, 4.0, 50.0, 17.0, 2.0, 1.0, 2.0, 3.0, 5.0, 18.0, 109.0, 19.0, 41.0, 96.0, 121.0, 27.0, 4.0, 28.0, 40.0, 30.0, 1.0, 25.0, 24.0, 3.0, 71.0, 34.0, 3.0, 13.0, 27.0, 4.0, 34.0, 3.0, 3.0, 79.0, 56.0, 2.0, 0.0, 9.0, 11.0, 51.0, 32.0, 5.0, 4.0, 13.0, 11.0, 23.0, 54.0, 28.0, 22.0, 33.0, 37.0, 16.0, 2.0, 9.0, 43.0, 21.0, 29.0, 5.0, 32.0, 63.0, 36.0, 5.0, 12.0, 2.0, 52.0, 34.0, 1.0, 9.0, 109.0, 30.0, 23.0, 15.0, 45.0, 31.0, 43.0, 2.0, 6.0, 37.0, 14.0, 1.0, 80.0, 6.0, 85.0, 29.0, 7.0, 1.0, 2.0, 3.0, 6.0, 92.0, 4.0, 54.0, 53.0, 27.0, 34.0, 61.0, 62.0, 38.0, 114.0, 6.0, 5.0, 16.0, 7.0, 37.0, 11.0, 5.0, 10.0, 23.0, 4.0, 13.0, 34.0, 65.0, 29.0, 14.0, 62.0, 27.0, 13.0, 22.0, 34.0, 9.0, 13.0, 3.0, 13.0, 6.0, 17.0, 42.0, 6.0, 11.0, 36.0, 99.0, 10.0, 31.0, 5.0, 10.0, 57.0, 30.0, 21.0, 42.0, 59.0, 4.0, 4.0, 53.0, 1.0, 3.0, 3.0, 64.0, 2.0, 74.0, 1.0, 3.0, 1.0, 23.0, 1.0, 40.0, 38.0, 15.0, 12.0, 6.0, 25.0, 12.0, 24.0, 38.0, 6.0, 7.0, 7.0, 116.0, 12.0, 7.0, 41.0, 42.0, 14.0, 15.0, 12.0, 4.0, 6.0, 6.0, 63.0, 2.0, 13.0, 14.0, 39.0, 1.0, 1.0, 8.0, 20.0, 5.0, 9.0, 2.0, 36.0, 4.0, 6.0, 3.0, 1.0, 33.0, 7.0, 3.0, 24.0, 39.0, 60.0, 3.0, 2.0, 11.0, 4.0, 6.0, 5.0, 1.0, 1.0, 5.0, 3.0, 8.0, 69.0, 18.0, 5.0, 13.0, 1.0, 29.0, 21.0, 3.0, 58.0, 43.0, 13.0, 20.0, 52.0, 23.0, 5.0, 2.0, 36.0, 22.0, 10.0, 33.0, 9.0, 38.0, 3.0, 47.0, 4.0, 78.0, 6.0, 101.0, 53.0, 37.0, 3.0, 41.0, 4.0, 22.0, 1.0, 5.0, 7.0, 68.0, 21.0, 18.0, 7.0, 9.0, 41.0, 19.0, 2.0, 3.0, 4.0, 67.0, 2.0, 26.0, 40.0, 3.0, 37.0, 4.0, 9.0, 1.0, 53.0, 59.0, 16.0, 11.0, 1.0, 0.0, 2.0, 7.0, 2.0, 3.0, 3.0, 3.0, 57.0, 19.0, 62.0, 67.0, 4.0, 9.0, 27.0, 5.0, 43.0, 28.0, 10.0, 7.0, 14.0, 5.0, 2.0, 42.0, 78.0, 17.0, 28.0, 62.0, 52.0, 41.0, 29.0, 14.0, 24.0, 40.0, 1.0, 61.0, 38.0, 11.0, 19.0, 6.0, 22.0, 15.0, 7.0, 27.0, 42.0, 8.0, 2.0, 16.0, 42.0, 93.0, 3.0, 37.0, 1.0, 51.0, 2.0, 1.0, 2.0, 31.0, 55.0, 16.0, 47.0, 108.0, 4.0, 85.0, 37.0, 35.0, 52.0, 14.0, 12.0, 45.0, 38.0, 34.0, 53.0, 2.0, 68.0, 3.0, 51.0, 19.0, 21.0, 2.0, 10.0, 23.0, 1.0, 67.0, 25.0, 44.0, 65.0, 47.0, 68.0, 56.0, 19.0, 39.0, 7.0, 3.0, 77.0, 52.0, 11.0, 3.0, 36.0, 67.0, 9.0, 53.0, 25.0, 55.0, 35.0, 32.0, 1.0, 38.0, 45.0, 76.0, 23.0, 19.0, 24.0, 3.0, 2.0, 13.0, 24.0, 50.0, 31.0, 4.0, 8.0, 16.0, 2.0, 2.0, 2.0, 36.0, 2.0, 7.0, 124.0, 18.0, 42.0, 51.0, 35.0, 31.0, 51.0, 1.0, 57.0, 18.0, 57.0, 48.0, 8.0, 27.0, 1.0, 70.0, 3.0, 13.0, 40.0, 6.0, 6.0, 60.0, 53.0, 5.0, 31.0, 4.0, 67.0, 14.0, 3.0, 7.0, 41.0, 12.0, 28.0, 6.0, 48.0, 6.0, 3.0, 51.0, 61.0, 16.0, 3.0, 30.0, 26.0, 4.0, 61.0, 46.0, 58.0, 7.0, 14.0, 1.0, 22.0, 13.0, 72.0, 40.0, 3.0, 6.0, 20.0, 3.0, 4.0, 8.0, 76.0, 32.0, 33.0, 2.0, 14.0, 2.0, 1.0, 12.0, 81.0, 29.0, 10.0, 1.0, 4.0, 13.0, 5.0, 10.0, 12.0, 2.0, 4.0, 52.0, 27.0, 20.0, 44.0, 20.0, 25.0, 8.0, 82.0, 98.0, 26.0, 4.0, 14.0, 15.0, 8.0, 10.0, 5.0, 1.0, 11.0, 10.0, 2.0, 3.0, 4.0, 41.0, 12.0, 5.0, 15.0, 35.0, 3.0, 17.0, 4.0, 3.0, 1.0, 2.0, 1.0, 2.0, 83.0, 16.0, 4.0, 3.0, 10.0, 27.0, 3.0, 45.0, 36.0, 87.0, 1.0, 36.0, 2.0, 36.0, 3.0, 11.0, 4.0, 3.0, 53.0, 59.0, 16.0, 8.0, 18.0, 7.0, 12.0, 64.0, 2.0, 12.0, 51.0, 66.0, 5.0, 40.0, 2.0, 86.0, 59.0, 4.0, 12.0, 13.0, 76.0, 15.0, 10.0, 51.0, 64.0, 50.0, 18.0, 2.0, 2.0, 44.0, 2.0, 5.0, 6.0, 59.0, 38.0, 18.0, 40.0, 4.0, 40.0, 5.0, 13.0, 7.0, 32.0, 56.0, 20.0, 106.0, 83.0, 59.0, 44.0, 33.0, 8.0, 21.0, 14.0, 21.0, 3.0, 19.0, 9.0, 29.0, 42.0, 20.0, 2.0, 7.0, 38.0, 69.0, 36.0, 29.0, 8.0, 3.0, 14.0, 9.0, 81.0, 55.0, 10.0, 19.0, 2.0, 27.0, 2.0, 33.0, 2.0, 67.0, 42.0, 0.0, 40.0, 7.0, 6.0, 59.0, 31.0, 10.0, 8.0, 26.0, 5.0, 12.0, 8.0, 7.0, 22.0, 34.0, 2.0, 4.0, 1.0, 1.0, 14.0, 8.0, 88.0, 3.0, 5.0, 10.0, 42.0, 5.0, 4.0, 54.0, 93.0, 55.0, 1.0, 38.0, 37.0, 7.0, 3.0, 3.0, 14.0, 36.0, 11.0, 7.0, 41.0, 33.0, 6.0, 41.0, 2.0, 6.0, 9.0, 42.0, 2.0, 1.0, 3.0, 36.0, 5.0, 47.0, 2.0, 48.0, 4.0, 25.0, 15.0, 6.0, 2.0, 58.0, 71.0, 4.0, 5.0, 18.0, 26.0, 2.0, 2.0, 38.0, 4.0, 2.0, 6.0, 32.0, 60.0, 3.0, 48.0, 48.0, 48.0, 45.0, 8.0, 10.0, 14.0, 2.0, 10.0, 9.0, 7.0, 34.0, 36.0, 3.0, 4.0, 92.0, 8.0, 7.0, 67.0, 4.0, 14.0, 66.0, 11.0, 8.0, 4.0, 7.0, 6.0, 5.0, 5.0, 8.0, 2.0, 8.0, 3.0, 6.0, 59.0, 5.0, 2.0, 42.0, 66.0, 46.0, 25.0, 1.0, 33.0, 26.0, 2.0, 50.0, 4.0, 13.0, 33.0, 9.0, 43.0, 27.0, 62.0, 4.0, 37.0, 61.0, 14.0, 37.0, 57.0, 20.0, 62.0, 20.0, 18.0, 2.0, 54.0, 3.0, 31.0, 2.0, 21.0, 11.0, 16.0, 4.0, 5.0, 9.0, 103.0, 35.0, 62.0, 45.0, 42.0, 1.0, 48.0, 35.0, 67.0, 23.0, 28.0, 3.0, 2.0, 56.0, 25.0, 2.0, 44.0, 5.0, 1.0, 24.0, 5.0, 7.0, 5.0, 70.0, 43.0, 8.0, 8.0, 1.0, 54.0, 1.0, 7.0, 35.0, 16.0, 29.0, 17.0, 10.0, 70.0, 3.0, 5.0, 59.0, 22.0, 61.0, 63.0, 34.0, 63.0, 36.0, 1.0, 40.0, 46.0, 22.0, 8.0, 3.0, 30.0, 60.0, 16.0, 17.0, 9.0, 37.0, 22.0, 10.0, 63.0, 52.0, 6.0, 5.0, 6.0, 35.0, 47.0, 7.0, 3.0, 10.0, 16.0, 15.0, 12.0, 58.0, 54.0, 2.0, 6.0, 9.0, 10.0, 6.0, 11.0, 41.0, 28.0, 43.0, 41.0, 5.0, 7.0, 23.0, 29.0, 21.0, 1.0, 5.0, 13.0, 3.0, 19.0, 21.0, 56.0, 55.0, 3.0, 3.0, 2.0, 6.0, 15.0, 50.0, 12.0, 3.0, 12.0, 12.0, 30.0, 28.0, 8.0, 50.0, 30.0, 6.0, 29.0, 17.0, 11.0, 6.0, 10.0, 1.0, 13.0, 17.0, 3.0, 1.0, 17.0, 35.0, 57.0, 73.0, 2.0, 13.0, 36.0, 59.0, 3.0, 48.0, 34.0, 43.0, 15.0, 45.0, 34.0, 23.0, 4.0, 11.0, 33.0, 5.0, 1.0, 58.0, 17.0, 1.0, 5.0, 15.0, 4.0, 7.0, 59.0, 7.0, 3.0, 2.0, 116.0, 9.0, 3.0, 46.0, 48.0, 2.0, 2.0, 14.0, 52.0, 15.0, 72.0, 26.0, 38.0, 2.0, 28.0, 24.0, 2.0, 5.0, 1.0, 23.0, 20.0, 70.0, 3.0, 36.0, 5.0, 18.0, 51.0, 3.0, 2.0, 43.0, 59.0, 50.0, 2.0, 9.0, 121.0, 17.0, 23.0, 6.0, 5.0, 5.0, 3.0, 14.0, 44.0, 32.0, 68.0, 96.0, 79.0, 11.0, 46.0, 43.0, 9.0, 21.0, 64.0, 46.0, 81.0, 54.0, 60.0, 13.0, 3.0, 57.0, 3.0, 55.0, 34.0, 22.0, 4.0, 27.0, 9.0, 6.0, 89.0, 31.0, 14.0, 10.0, 2.0, 40.0, 12.0, 6.0, 64.0, 57.0, 6.0, 57.0, 27.0, 41.0, 18.0, 3.0, 3.0, 2.0, 4.0, 2.0, 33.0, 39.0, 3.0, 6.0, 7.0, 25.0, 15.0, 39.0, 24.0, 7.0, 83.0, 28.0, 111.0, 7.0, 49.0, 53.0, 72.0, 44.0, 56.0, 32.0, 13.0, 6.0, 1.0, 54.0, 18.0, 6.0, 4.0, 1.0, 47.0, 1.0, 17.0, 26.0, 114.0, 29.0, 56.0, 5.0, 54.0, 11.0, 115.0, 10.0, 66.0, 33.0, 6.0, 17.0, 76.0, 28.0, 67.0, 32.0, 47.0, 3.0, 5.0, 16.0, 7.0, 2.0, 49.0, 13.0, 36.0, 42.0, 49.0, 32.0, 51.0, 37.0, 1.0, 2.0, 6.0, 4.0, 28.0, 56.0, 36.0, 34.0, 115.0, 13.0, 1.0, 97.0, 4.0, 5.0, 89.0, 23.0, 1.0, 13.0, 8.0, 11.0, 15.0, 25.0, 14.0, 3.0, 10.0, 13.0, 29.0, 26.0, 51.0, 31.0, 45.0, 2.0, 6.0, 1.0, 28.0, 43.0, 60.0, 5.0, 32.0, 45.0, 48.0, 114.0, 18.0, 66.0, 61.0, 41.0, 3.0, 26.0, 1.0, 2.0, 123.0, 39.0, 17.0, 26.0, 65.0, 23.0, 9.0, 11.0, 33.0, 55.0, 88.0, 23.0, 14.0, 3.0, 5.0, 2.0, 58.0, 33.0, 6.0, 54.0, 21.0, 58.0, 20.0, 45.0, 124.0, 50.0, 28.0, 15.0, 3.0, 7.0, 11.0, 11.0, 23.0, 1.0, 71.0, 2.0, 7.0, 8.0, 3.0, 3.0, 64.0, 99.0, 3.0, 86.0, 1.0, 3.0, 1.0, 1.0, 5.0, 24.0, 3.0, 9.0, 47.0, 4.0, 1.0, 2.0, 2.0, 22.0, 11.0, 36.0, 13.0, 11.0, 4.0, 46.0, 31.0, 26.0, 45.0, 23.0, 2.0, 17.0, 2.0, 62.0, 22.0, 2.0, 58.0, 33.0, 20.0, 78.0, 14.0, 18.0, 40.0, 93.0, 3.0, 29.0, 8.0, 49.0, 44.0, 3.0, 22.0, 62.0, 103.0, 95.0, 65.0, 67.0, 30.0, 35.0, 35.0, 6.0, 38.0, 17.0, 25.0, 75.0, 69.0, 12.0, 17.0, 9.0, 1.0, 30.0, 5.0, 8.0, 19.0, 40.0, 74.0, 19.0, 32.0, 8.0, 18.0, 26.0, 32.0, 14.0, 63.0, 3.0, 22.0, 4.0, 20.0, 4.0, 5.0, 4.0, 120.0, 30.0, 3.0, 6.0, 57.0, 16.0, 59.0, 36.0, 11.0, 21.0, 1.0, 31.0, 3.0, 18.0, 48.0, 40.0, 3.0, 38.0, 15.0, 25.0, 5.0, 42.0, 2.0, 16.0, 43.0, 8.0, 22.0, 17.0, 12.0, 3.0, 19.0, 33.0, 8.0, 9.0, 16.0, 2.0, 2.0, 6.0, 19.0, 21.0, 27.0, 23.0, 28.0, 7.0, 15.0, 15.0, 35.0, 23.0, 37.0, 32.0, 15.0, 29.0, 22.0, 27.0, 13.0, 15.0, 124.0, 32.0, 6.0, 3.0, 77.0, 20.0, 80.0, 5.0, 29.0, 23.0, 30.0, 35.0, 5.0, 3.0, 12.0, 21.0, 1.0, 36.0, 51.0, 36.0, 76.0, 4.0, 8.0, 58.0, 13.0, 6.0, 4.0, 35.0, 28.0, 23.0, 25.0, 54.0, 2.0, 4.0, 47.0, 18.0, 11.0, 60.0, 38.0, 31.0, 29.0, 9.0, 14.0, 1.0, 5.0, 9.0, 5.0, 49.0, 36.0, 31.0, 26.0, 13.0, 24.0, 14.0, 2.0, 12.0, 12.0, 21.0, 20.0, 16.0, 13.0, 6.0, 40.0, 22.0, 3.0, 2.0, 7.0, 33.0, 53.0, 31.0, 92.0, 24.0, 7.0, 6.0, 10.0, 9.0, 8.0, 3.0, 4.0, 63.0, 25.0, 42.0, 24.0, 14.0, 24.0, 24.0, 22.0, 2.0, 1.0, 24.0, 2.0, 18.0, 2.0, 13.0, 9.0, 2.0, 4.0, 2.0, 16.0, 25.0, 56.0, 21.0, 41.0, 2.0, 18.0, 32.0, 26.0, 15.0, 55.0, 85.0, 74.0, 13.0, 60.0, 2.0, 7.0, 52.0, 34.0, 13.0, 41.0, 19.0, 58.0, 27.0, 31.0, 2.0, 30.0, 101.0, 47.0, 7.0, 27.0, 5.0, 44.0, 37.0, 42.0, 12.0, 6.0, 2.0, 10.0, 3.0, 41.0, 2.0, 3.0, 2.0, 3.0, 6.0, 15.0, 23.0, 52.0, 5.0, 5.0, 1.0, 3.0, 3.0, 57.0, 5.0, 2.0, 24.0, 8.0, 1.0, 20.0, 31.0, 11.0, 11.0, 14.0, 14.0, 8.0, 4.0, 1.0, 1.0, 8.0, 71.0, 12.0, 6.0, 111.0, 18.0, 21.0, 47.0, 58.0, 46.0, 16.0, 1.0, 23.0, 31.0, 86.0, 13.0, 25.0, 4.0, 111.0, 65.0, 2.0, 74.0, 2.0, 17.0, 104.0, 7.0, 26.0, 75.0, 122.0, 12.0, 86.0, 4.0, 51.0, 1.0, 52.0, 31.0, 1.0, 37.0, 23.0, 9.0, 13.0, 17.0, 9.0, 93.0, 16.0, 6.0, 2.0, 16.0, 65.0, 11.0, 18.0, 18.0, 2.0, 59.0, 4.0, 8.0, 1.0, 5.0, 1.0, 4.0, 4.0, 13.0, 63.0, 2.0, 27.0, 2.0, 2.0, 12.0, 23.0, 12.0, 1.0, 30.0, 1.0, 4.0, 56.0, 1.0, 8.0, 3.0, 4.0, 7.0, 39.0, 78.0, 12.0, 3.0, 29.0, 7.0, 52.0, 15.0, 49.0, 60.0, 19.0, 12.0, 6.0, 17.0, 4.0, 1.0, 4.0, 51.0, 4.0, 7.0, 18.0, 61.0, 19.0, 18.0, 5.0, 55.0, 10.0, 23.0, 60.0, 1.0, 65.0, 25.0, 15.0, 61.0, 4.0, 24.0, 68.0, 9.0, 16.0, 48.0, 8.0, 22.0, 59.0, 9.0, 45.0, 4.0, 60.0, 63.0, 23.0, 58.0, 23.0, 9.0, 21.0, 6.0, 43.0, 2.0, 57.0, 21.0, 5.0, 3.0, 2.0, 56.0, 48.0, 3.0, 35.0, 10.0, 30.0, 10.0, 22.0, 68.0, 23.0, 22.0, 2.0, 34.0, 4.0, 19.0, 13.0, 32.0, 39.0, 25.0, 37.0, 4.0, 3.0, 20.0, 4.0, 4.0, 4.0, 1.0, 3.0, 31.0, 2.0, 3.0, 2.0, 3.0, 7.0, 5.0, 2.0, 43.0, 3.0, 17.0, 51.0, 53.0, 22.0, 16.0, 36.0, 4.0, 52.0, 4.0, 1.0, 14.0, 9.0, 11.0, 29.0, 61.0, 57.0, 53.0, 29.0, 3.0, 2.0, 4.0, 24.0, 58.0, 1.0, 3.0, 49.0, 23.0, 6.0, 16.0, 27.0, 62.0, 47.0, 25.0, 2.0, 62.0, 2.0, 4.0, 56.0, 33.0, 54.0, 2.0, 3.0, 28.0, 2.0, 56.0, 22.0, 61.0, 13.0, 7.0, 40.0, 4.0, 4.0, 6.0, 5.0, 3.0, 5.0, 22.0, 65.0, 5.0, 8.0, 63.0, 22.0, 50.0, 36.0, 2.0, 22.0, 39.0, 27.0, 31.0, 3.0, 28.0, 72.0, 53.0, 52.0, 74.0, 42.0, 2.0, 53.0, 28.0, 59.0, 21.0, 3.0, 2.0, 3.0, 7.0, 20.0, 20.0, 25.0, 12.0, 38.0, 4.0, 22.0, 30.0, 55.0, 2.0, 6.0, 4.0, 11.0, 16.0, 1.0, 2.0, 1.0, 59.0, 1.0, 33.0, 57.0, 8.0, 85.0, 16.0, 13.0, 13.0, 5.0, 49.0, 3.0, 38.0, 60.0, 8.0, 5.0, 4.0, 25.0, 47.0, 40.0, 2.0, 5.0, 29.0, 60.0, 6.0, 3.0, 59.0, 50.0, 52.0, 60.0, 55.0, 49.0, 38.0, 63.0, 57.0, 3.0, 4.0, 29.0, 9.0, 36.0, 2.0, 3.0, 64.0, 34.0, 36.0, 25.0, 23.0, 19.0, 60.0, 3.0, 20.0, 18.0, 9.0, 16.0, 19.0, 38.0, 43.0, 3.0, 5.0, 10.0, 63.0, 6.0, 26.0, 64.0, 33.0, 6.0, 70.0, 13.0, 14.0, 28.0, 85.0, 1.0, 16.0, 57.0, 4.0, 1.0, 10.0, 1.0, 7.0, 3.0, 27.0, 64.0, 13.0, 60.0, 6.0, 52.0, 36.0, 12.0, 10.0, 4.0, 18.0, 38.0, 64.0, 68.0, 46.0, 14.0, 10.0, 57.0, 44.0, 58.0, 60.0, 54.0, 45.0, 40.0, 9.0, 45.0, 61.0, 40.0, 111.0, 19.0, 2.0, 82.0, 22.0, 35.0, 2.0, 7.0, 21.0, 17.0, 14.0, 5.0, 3.0, 14.0, 49.0, 7.0, 70.0, 22.0, 12.0, 45.0, 1.0, 6.0, 48.0, 30.0, 51.0, 2.0, 53.0, 18.0, 21.0, 18.0, 28.0, 95.0, 1.0, 3.0, 39.0, 4.0, 2.0, 21.0, 26.0, 23.0, 69.0, 2.0, 2.0, 25.0, 4.0, 6.0, 15.0, 1.0, 1.0, 7.0, 9.0, 2.0, 3.0, 16.0, 31.0, 6.0, 24.0, 8.0, 6.0, 31.0, 24.0, 2.0, 2.0, 46.0, 17.0, 23.0, 7.0, 12.0, 2.0, 5.0, 3.0, 6.0, 3.0, 9.0, 68.0, 94.0, 10.0, 10.0, 34.0, 5.0, 45.0, 38.0, 3.0, 1.0, 14.0, 40.0, 3.0, 2.0, 4.0, 2.0, 6.0, 4.0, 5.0, 29.0, 1.0, 2.0, 7.0, 12.0, 12.0, 51.0, 10.0, 14.0, 1.0, 6.0, 2.0, 2.0, 37.0, 3.0, 33.0, 23.0, 3.0, 1.0, 2.0, 5.0, 8.0, 7.0, 24.0, 4.0, 26.0, 24.0, 49.0, 2.0, 2.0, 1.0, 55.0, 5.0, 7.0, 4.0, 36.0, 1.0, 2.0, 5.0, 104.0, 56.0, 11.0, 4.0, 9.0, 20.0, 6.0, 21.0, 60.0, 6.0, 15.0, 36.0, 26.0, 16.0, 63.0, 12.0, 2.0, 7.0, 15.0, 10.0, 19.0, 61.0, 23.0, 4.0, 11.0, 46.0, 13.0, 4.0, 2.0, 12.0, 3.0, 1.0, 49.0, 6.0, 4.0, 7.0, 35.0, 13.0, 2.0, 10.0, 20.0, 1.0, 9.0, 32.0, 3.0, 6.0, 7.0, 35.0, 50.0, 2.0, 2.0, 2.0, 5.0, 67.0, 22.0, 19.0, 8.0, 6.0, 18.0, 31.0, 34.0, 16.0, 29.0, 8.0, 14.0, 31.0, 2.0, 8.0, 9.0, 49.0, 3.0, 1.0, 22.0, 9.0, 31.0, 27.0, 53.0, 9.0, 14.0, 58.0, 4.0, 21.0, 2.0, 21.0, 23.0, 62.0, 11.0, 3.0, 4.0, 59.0, 21.0, 11.0, 5.0, 24.0, 1.0, 35.0, 2.0, 60.0, 2.0, 50.0, 4.0, 13.0, 1.0, 26.0, 36.0, 7.0, 34.0, 65.0, 1.0, 67.0, 63.0, 19.0, 24.0, 46.0, 96.0, 1.0, 28.0, 1.0, 3.0, 3.0, 42.0, 38.0, 4.0, 6.0, 3.0, 12.0, 25.0, 5.0, 12.0, 4.0, 32.0, 14.0, 69.0, 19.0, 43.0, 58.0, 23.0, 28.0, 20.0, 19.0, 1.0, 51.0, 2.0, 3.0, 9.0, 54.0, 50.0, 12.0, 19.0, 35.0, 14.0, 45.0, 26.0, 52.0, 1.0, 65.0, 25.0, 62.0, 8.0, 25.0, 28.0, 94.0, 4.0, 38.0, 91.0, 16.0, 6.0, 7.0, 16.0, 13.0, 30.0, 4.0, 4.0, 13.0, 36.0, 30.0, 9.0, 30.0, 50.0, 65.0, 3.0, 3.0, 2.0, 18.0, 57.0, 14.0, 4.0, 50.0, 4.0, 17.0, 30.0, 26.0, 30.0, 2.0, 6.0, 37.0, 2.0, 24.0, 61.0, 4.0, 56.0, 3.0, 3.0, 6.0, 65.0, 2.0, 4.0, 29.0, 43.0, 48.0, 48.0, 45.0, 33.0, 45.0, 37.0, 24.0, 26.0, 30.0, 10.0, 8.0, 9.0, 3.0, 21.0, 3.0, 3.0, 2.0, 30.0, 56.0, 5.0, 23.0, 5.0, 1.0, 55.0, 6.0, 4.0, 29.0, 32.0, 51.0, 21.0, 37.0, 41.0, 39.0, 24.0, 54.0, 67.0, 60.0, 32.0, 2.0, 25.0, 8.0, 25.0, 38.0, 43.0, 70.0, 11.0, 43.0, 104.0, 2.0, 13.0, 46.0, 17.0, 61.0, 67.0, 6.0, 46.0, 8.0, 6.0, 19.0, 14.0, 37.0, 57.0, 19.0, 26.0, 33.0, 61.0, 51.0, 1.0, 1.0, 54.0, 55.0, 45.0, 0.0, 1.0, 95.0, 1.0, 14.0, 2.0, 3.0, 49.0, 2.0, 1.0, 1.0, 80.0, 6.0, 5.0, 58.0, 54.0, 43.0, 24.0, 14.0, 46.0, 73.0, 4.0, 37.0, 3.0, 3.0, 56.0, 11.0, 5.0, 17.0, 7.0, 8.0, 8.0, 42.0, 12.0, 7.0, 15.0, 8.0, 54.0, 124.0, 7.0, 1.0, 32.0, 43.0, 2.0, 36.0, 34.0, 40.0, 49.0, 43.0, 48.0, 1.0, 34.0, 19.0, 48.0, 3.0, 35.0, 8.0, 2.0, 57.0, 3.0, 51.0, 5.0, 39.0, 2.0, 53.0, 16.0, 14.0, 1.0, 75.0, 39.0, 1.0, 7.0, 2.0, 6.0, 1.0, 32.0, 36.0, 4.0, 2.0, 19.0, 21.0, 53.0, 49.0, 41.0, 47.0, 3.0, 10.0, 45.0, 36.0, 44.0, 10.0, 67.0, 40.0, 16.0, 31.0, 1.0, 5.0, 25.0, 6.0, 2.0, 3.0, 3.0, 3.0, 9.0, 17.0, 28.0, 15.0, 45.0, 7.0, 21.0, 3.0, 14.0, 1.0, 4.0, 10.0, 1.0, 1.0, 1.0, 56.0, 9.0, 4.0, 7.0, 61.0, 6.0, 1.0, 7.0, 1.0, 14.0, 1.0, 4.0, 3.0, 76.0, 10.0, 37.0, 6.0, 29.0, 21.0, 20.0, 41.0, 15.0, 34.0, 1.0, 33.0, 1.0, 6.0, 17.0, 10.0, 2.0, 7.0, 26.0, 17.0, 32.0, 51.0, 28.0, 13.0, 71.0, 14.0, 19.0, 2.0, 38.0, 90.0, 9.0, 13.0, 24.0, 5.0, 45.0, 8.0, 46.0, 17.0, 8.0, 103.0, 27.0, 25.0, 10.0, 2.0, 4.0, 62.0, 44.0, 48.0, 10.0, 5.0, 9.0, 22.0, 19.0, 32.0, 58.0, 65.0, 73.0, 85.0, 4.0, 7.0, 35.0, 36.0, 43.0, 2.0, 60.0, 3.0, 3.0, 15.0, 9.0, 37.0, 45.0, 38.0, 23.0, 7.0, 94.0, 1.0, 5.0, 59.0, 5.0, 4.0, 5.0, 16.0, 48.0, 48.0, 13.0, 21.0, 50.0, 7.0, 6.0, 49.0, 6.0, 18.0, 5.0, 17.0, 40.0, 24.0, 62.0, 14.0, 32.0, 8.0, 59.0, 94.0, 39.0, 47.0, 36.0, 34.0, 39.0, 59.0, 20.0, 8.0, 72.0, 3.0, 14.0, 80.0, 33.0, 62.0, 17.0, 4.0, 61.0, 9.0, 31.0, 19.0, 52.0, 6.0, 61.0, 25.0, 3.0, 4.0, 58.0, 5.0, 1.0, 59.0, 34.0, 31.0, 28.0, 39.0, 18.0, 2.0, 39.0, 2.0, 17.0, 28.0, 84.0, 23.0, 2.0, 2.0, 71.0, 60.0, 4.0, 3.0, 67.0, 39.0, 71.0, 65.0, 96.0, 2.0, 15.0, 51.0, 6.0, 26.0, 89.0, 15.0, 17.0, 4.0, 9.0, 73.0, 67.0, 6.0, 30.0, 13.0, 3.0, 21.0, 35.0, 92.0, 1.0, 9.0, 49.0, 43.0, 3.0, 33.0, 1.0, 2.0, 1.0, 42.0, 2.0, 60.0, 2.0, 9.0, 4.0, 2.0, 3.0, 2.0, 2.0, 4.0, 2.0, 63.0, 16.0, 5.0, 6.0, 11.0, 28.0, 2.0, 3.0, 7.0, 50.0, 45.0, 3.0, 2.0, 49.0, 9.0, 4.0, 1.0, 10.0, 4.0, 52.0, 28.0, 1.0, 50.0, 20.0, 62.0, 2.0, 6.0, 2.0, 5.0, 24.0, 41.0, 96.0, 32.0, 1.0, 20.0, 31.0, 6.0, 35.0, 94.0, 11.0, 79.0, 53.0, 31.0, 68.0, 34.0, 4.0, 10.0, 3.0, 22.0, 22.0, 8.0, 2.0, 4.0, 3.0, 3.0, 1.0, 19.0, 2.0, 59.0, 25.0, 3.0, 3.0, 1.0, 2.0, 27.0, 6.0, 72.0, 61.0, 14.0, 10.0, 12.0, 48.0, 45.0, 9.0, 35.0, 11.0, 24.0, 15.0, 1.0, 10.0, 35.0, 3.0, 3.0, 2.0, 16.0, 28.0, 41.0, 3.0, 31.0, 61.0, 31.0, 2.0, 52.0, 29.0, 46.0, 28.0, 35.0, 47.0, 2.0, 4.0, 2.0, 14.0, 8.0, 9.0, 1.0, 28.0, 57.0, 54.0, 67.0, 32.0, 3.0, 10.0, 13.0, 11.0, 5.0, 31.0, 52.0, 6.0, 2.0, 31.0, 3.0, 16.0, 41.0, 1.0, 35.0, 47.0, 5.0, 1.0, 2.0, 0.0, 74.0, 2.0, 3.0, 1.0, 24.0, 57.0, 4.0, 34.0, 53.0, 63.0, 24.0, 2.0, 21.0, 2.0, 55.0, 29.0, 43.0, 4.0, 2.0, 21.0, 27.0, 35.0, 20.0, 33.0, 40.0, 34.0, 33.0, 1.0, 34.0, 3.0, 33.0, 19.0, 36.0, 34.0, 35.0, 31.0, 3.0, 9.0, 40.0, 3.0, 24.0, 56.0, 4.0, 29.0, 26.0, 81.0, 5.0, 1.0, 2.0, 5.0, 38.0, 3.0, 51.0, 11.0, 4.0, 3.0, 98.0, 1.0, 50.0, 56.0, 29.0, 3.0, 73.0, 18.0, 7.0, 27.0, 24.0, 4.0, 3.0, 12.0, 51.0, 26.0, 42.0, 6.0, 5.0, 33.0, 88.0, 1.0, 1.0, 1.0, 5.0, 9.0, 42.0, 2.0, 1.0, 35.0, 1.0, 61.0, 27.0, 4.0, 54.0, 4.0, 2.0, 30.0, 40.0, 31.0, 6.0, 1.0, 42.0, 47.0, 2.0, 7.0, 2.0, 26.0, 1.0, 22.0, 26.0, 32.0, 26.0, 39.0, 1.0, 45.0, 34.0, 59.0, 38.0, 2.0, 40.0, 25.0, 58.0, 2.0, 45.0, 21.0, 33.0, 5.0, 3.0, 6.0, 3.0, 37.0, 1.0, 3.0, 27.0, 34.0, 57.0, 3.0, 3.0, 1.0, 58.0, 52.0, 34.0, 2.0, 5.0, 37.0, 32.0, 55.0, 3.0, 17.0, 41.0, 37.0, 17.0, 9.0, 34.0, 6.0, 69.0, 47.0, 6.0, 31.0, 26.0, 5.0, 23.0, 2.0, 29.0, 6.0, 39.0, 5.0, 4.0, 1.0, 1.0, 2.0, 38.0, 49.0, 94.0, 65.0, 17.0, 1.0, 77.0, 38.0, 30.0, 60.0, 34.0, 34.0, 27.0, 4.0, 1.0, 1.0, 29.0, 5.0, 13.0, 4.0, 45.0, 69.0, 20.0, 5.0, 24.0, 93.0, 53.0, 4.0, 35.0, 13.0, 33.0, 103.0, 10.0, 31.0, 79.0, 18.0, 50.0, 46.0, 29.0, 42.0, 34.0, 1.0, 60.0, 18.0, 24.0, 6.0, 2.0, 35.0, 4.0, 7.0, 2.0, 41.0, 57.0, 27.0, 5.0, 56.0, 50.0, 29.0, 58.0, 24.0, 10.0, 78.0, 6.0, 52.0, 16.0, 4.0, 61.0, 6.0, 7.0, 28.0, 2.0, 34.0, 7.0, 17.0, 58.0, 8.0, 7.0, 11.0, 19.0, 19.0, 32.0, 69.0, 7.0, 36.0, 35.0, 46.0, 18.0, 9.0, 52.0, 19.0, 12.0, 22.0, 113.0, 65.0, 58.0, 22.0, 4.0, 21.0, 61.0, 1.0, 1.0, 15.0, 77.0, 2.0, 30.0, 61.0, 54.0, 5.0, 27.0, 1.0, 4.0, 5.0, 1.0, 1.0, 13.0, 21.0, 29.0, 10.0, 39.0, 5.0, 15.0, 1.0, 89.0, 31.0, 15.0, 55.0, 39.0, 1.0, 11.0, 27.0, 15.0, 42.0, 27.0, 50.0, 70.0, 39.0, 4.0, 47.0, 25.0, 35.0, 58.0, 2.0, 36.0, 33.0, 12.0, 39.0, 38.0, 65.0, 21.0, 55.0, 104.0, 24.0, 5.0, 4.0, 37.0, 3.0, 2.0, 16.0, 13.0, 6.0, 2.0, 7.0, 6.0, 16.0, 46.0, 26.0, 2.0, 17.0, 7.0, 18.0, 4.0, 2.0, 40.0, 2.0, 8.0, 29.0, 6.0, 3.0, 22.0, 5.0, 18.0, 2.0, 1.0, 3.0, 1.0, 10.0, 45.0, 54.0, 31.0, 47.0, 22.0, 9.0, 1.0, 2.0, 11.0, 19.0, 77.0, 36.0, 7.0, 3.0, 16.0, 14.0, 57.0, 29.0, 9.0, 10.0, 70.0, 2.0, 4.0, 1.0, 4.0, 2.0, 23.0, 1.0, 34.0, 45.0, 17.0, 40.0, 27.0, 70.0, 21.0, 26.0, 3.0, 3.0, 4.0, 42.0, 26.0, 6.0, 44.0, 41.0, 7.0, 37.0, 26.0, 100.0, 8.0, 40.0, 52.0, 27.0, 80.0, 3.0, 2.0, 17.0, 67.0, 8.0, 57.0, 4.0, 25.0, 2.0, 2.0, 98.0, 41.0, 12.0, 1.0, 18.0, 33.0, 19.0, 4.0, 60.0, 2.0, 4.0, 1.0, 51.0, 2.0, 2.0, 12.0, 47.0, 4.0, 12.0, 2.0, 3.0, 11.0, 46.0, 6.0, 14.0, 29.0, 50.0, 46.0, 31.0, 3.0, 19.0, 65.0, 38.0, 3.0, 8.0, 60.0, 66.0, 27.0, 3.0, 4.0, 22.0, 67.0, 37.0, 18.0, 85.0, 3.0, 87.0, 64.0, 25.0, 39.0, 7.0, 14.0, 7.0, 3.0, 1.0, 10.0, 1.0, 24.0, 4.0, 49.0, 24.0, 16.0, 72.0, 8.0, 4.0, 59.0, 14.0, 3.0, 3.0, 3.0, 56.0, 24.0, 19.0, 9.0, 105.0, 6.0, 14.0, 67.0, 60.0, 72.0, 2.0, 54.0, 29.0, 19.0, 10.0, 19.0, 16.0, 3.0, 13.0, 1.0, 2.0, 35.0, 11.0, 2.0, 6.0, 4.0, 3.0, 17.0, 69.0, 9.0, 39.0, 1.0, 1.0, 13.0, 2.0, 10.0, 10.0, 67.0, 2.0, 1.0, 2.0, 2.0, 1.0, 2.0, 2.0, 6.0, 9.0, 3.0, 1.0, 5.0, 7.0, 2.0, 3.0, 1.0, 4.0, 56.0, 17.0, 35.0, 12.0, 1.0, 58.0, 3.0, 20.0, 2.0, 31.0, 22.0, 54.0, 13.0, 2.0, 1.0, 8.0, 9.0, 75.0, 18.0, 31.0, 3.0, 7.0, 5.0, 91.0, 42.0, 2.0, 3.0, 4.0, 28.0, 13.0, 12.0, 106.0, 66.0, 4.0, 86.0, 42.0, 10.0, 1.0, 1.0, 5.0, 1.0, 127.0, 6.0, 88.0, 15.0, 8.0, 32.0, 55.0, 9.0, 2.0, 6.0, 3.0, 92.0, 34.0, 68.0, 61.0, 10.0, 1.0, 16.0, 8.0, 111.0, 91.0, 73.0, 8.0, 2.0, 61.0, 81.0, 11.0, 56.0, 25.0, 4.0, 103.0, 4.0, 2.0, 55.0, 61.0, 69.0, 6.0, 5.0, 34.0, 2.0, 3.0, 25.0, 9.0, 17.0, 25.0, 9.0, 37.0, 1.0, 15.0, 5.0, 113.0, 6.0, 57.0, 5.0, 2.0, 61.0, 9.0, 3.0, 46.0, 6.0, 119.0, 59.0, 25.0, 10.0, 2.0, 96.0, 10.0, 57.0, 5.0, 10.0, 2.0, 8.0, 65.0, 4.0, 24.0, 7.0, 3.0, 6.0, 48.0, 19.0, 2.0, 22.0, 22.0, 57.0, 12.0, 34.0, 83.0, 41.0, 51.0, 30.0, 117.0, 39.0, 60.0, 56.0, 2.0, 17.0, 4.0, 9.0, 4.0, 8.0, 2.0, 51.0, 24.0, 36.0, 2.0, 40.0, 1.0, 13.0, 13.0, 32.0, 30.0, 7.0, 33.0, 59.0, 44.0, 17.0, 105.0, 7.0, 2.0, 71.0, 7.0, 11.0, 2.0, 7.0, 2.0, 2.0, 2.0, 4.0, 26.0, 1.0, 38.0, 62.0, 2.0, 84.0, 38.0, 6.0, 51.0, 2.0, 43.0, 21.0, 1.0, 5.0, 1.0, 8.0, 6.0, 15.0, 7.0, 30.0, 21.0, 27.0, 47.0, 96.0, 29.0, 27.0, 3.0, 1.0, 3.0, 10.0, 45.0, 38.0, 29.0, 7.0, 15.0, 1.0, 55.0, 65.0, 102.0, 37.0, 54.0, 41.0, 60.0, 11.0, 1.0, 1.0, 2.0, 9.0, 1.0, 2.0, 33.0, 15.0, 4.0, 85.0, 59.0, 4.0, 13.0, 73.0, 20.0, 41.0, 14.0, 45.0, 57.0, 5.0, 23.0, 29.0, 56.0, 28.0, 18.0, 72.0, 37.0, 87.0, 4.0, 32.0, 30.0, 1.0, 17.0, 23.0, 15.0, 15.0, 5.0, 1.0, 12.0, 1.0, 5.0, 2.0, 6.0, 12.0, 53.0, 3.0, 3.0, 5.0, 32.0, 13.0, 13.0, 17.0, 2.0, 30.0, 3.0, 53.0, 58.0, 2.0, 2.0, 4.0, 21.0, 2.0, 71.0, 4.0, 43.0, 8.0, 13.0, 2.0, 16.0, 28.0, 56.0, 1.0, 4.0, 48.0, 6.0, 4.0, 1.0, 17.0, 15.0, 60.0, 121.0, 15.0, 22.0, 5.0, 4.0, 10.0, 11.0, 2.0, 2.0, 25.0, 56.0, 4.0, 54.0, 75.0, 3.0, 39.0, 32.0, 23.0, 24.0, 3.0, 12.0, 24.0, 78.0, 41.0, 100.0, 2.0, 94.0, 16.0, 5.0, 59.0, 7.0, 8.0, 10.0, 4.0, 2.0, 9.0, 6.0, 4.0, 14.0, 2.0, 66.0, 5.0, 1.0, 37.0, 29.0, 2.0, 5.0, 55.0, 33.0, 30.0, 60.0, 57.0, 27.0, 15.0, 2.0, 34.0, 33.0, 36.0, 3.0, 47.0, 10.0, 47.0, 1.0, 47.0, 48.0, 11.0, 1.0, 13.0, 11.0, 4.0, 19.0, 22.0, 0.0, 19.0, 10.0, 92.0, 3.0, 55.0, 4.0, 4.0, 6.0, 25.0, 28.0, 56.0, 3.0, 1.0, 59.0, 70.0, 104.0, 31.0, 15.0, 120.0, 13.0, 65.0, 34.0, 74.0, 38.0, 111.0, 60.0, 50.0, 3.0, 60.0, 21.0, 27.0, 38.0, 1.0, 1.0, 3.0, 5.0, 41.0, 31.0, 8.0, 2.0, 1.0, 55.0, 3.0, 3.0, 3.0, 36.0, 28.0, 4.0, 27.0, 17.0, 4.0, 27.0, 34.0, 26.0, 5.0, 40.0, 58.0, 15.0, 19.0, 1.0, 52.0, 48.0, 1.0, 2.0, 3.0, 1.0, 2.0, 3.0, 2.0, 1.0, 22.0, 47.0, 20.0, 38.0, 12.0, 59.0, 6.0, 7.0, 6.0, 49.0, 2.0, 24.0, 116.0, 15.0, 56.0, 37.0, 47.0, 37.0, 56.0, 2.0, 47.0, 33.0, 51.0, 28.0, 42.0, 39.0, 60.0, 33.0, 8.0, 2.0, 9.0, 55.0, 53.0, 43.0, 32.0, 7.0, 25.0, 60.0, 43.0, 31.0, 92.0, 30.0, 13.0, 48.0, 34.0, 49.0, 1.0, 1.0, 13.0, 1.0, 1.0, 2.0, 2.0, 2.0, 6.0, 24.0, 2.0, 1.0, 53.0, 3.0, 53.0, 40.0, 55.0, 17.0, 30.0, 9.0, 1.0, 87.0, 18.0, 36.0, 15.0, 39.0, 3.0, 2.0, 1.0, 2.0, 1.0, 5.0, 4.0, 1.0, 11.0, 83.0, 2.0, 7.0, 5.0, 57.0, 2.0, 65.0, 3.0, 42.0, 6.0, 39.0, 3.0, 51.0, 2.0, 1.0, 5.0, 3.0, 27.0, 49.0, 17.0, 23.0, 3.0, 2.0, 57.0, 1.0, 43.0, 48.0, 52.0, 2.0, 47.0, 40.0, 56.0, 6.0, 8.0, 35.0, 42.0, 76.0, 12.0, 37.0, 46.0, 6.0, 42.0, 18.0, 64.0, 14.0, 21.0, 1.0, 4.0, 2.0, 35.0, 6.0, 8.0, 22.0, 19.0, 95.0, 35.0, 62.0, 20.0, 48.0, 60.0, 3.0, 24.0, 50.0, 34.0, 74.0, 1.0, 15.0, 52.0, 21.0, 68.0, 4.0, 63.0, 3.0, 3.0, 14.0, 63.0, 5.0, 1.0, 2.0, 5.0, 9.0, 1.0, 2.0, 3.0, 46.0, 20.0, 4.0, 2.0, 2.0, 1.0, 2.0, 37.0, 2.0, 11.0, 6.0, 1.0, 23.0, 4.0, 6.0, 14.0, 36.0, 21.0, 8.0, 31.0, 12.0, 1.0, 8.0, 1.0, 2.0, 5.0, 25.0, 17.0, 5.0, 20.0, 2.0, 3.0, 6.0, 27.0, 2.0, 1.0, 1.0, 15.0, 48.0, 5.0, 6.0, 9.0, 15.0, 2.0, 11.0, 31.0, 13.0, 17.0, 7.0, 3.0, 7.0, 1.0, 4.0, 4.0, 3.0, 65.0, 14.0, 11.0, 14.0, 17.0, 8.0, 47.0, 7.0, 2.0, 22.0, 111.0, 10.0, 29.0, 60.0, 20.0, 3.0, 64.0, 33.0, 1.0, 20.0, 7.0, 2.0, 60.0, 6.0, 6.0, 5.0, 1.0, 70.0, 31.0, 51.0, 4.0, 34.0, 11.0, 11.0, 56.0, 76.0, 4.0, 7.0, 4.0, 31.0, 73.0, 25.0, 7.0, 28.0, 1.0, 7.0, 17.0, 61.0, 27.0, 4.0, 65.0, 28.0, 5.0, 5.0, 44.0, 13.0, 5.0, 23.0, 59.0, 2.0, 61.0, 22.0, 58.0, 20.0, 44.0, 48.0, 61.0, 10.0, 5.0, 60.0, 19.0, 17.0, 28.0, 10.0, 4.0, 2.0, 5.0, 1.0, 1.0, 33.0, 16.0, 1.0, 1.0, 6.0, 33.0, 3.0, 5.0, 4.0, 29.0, 34.0, 33.0, 10.0, 5.0, 31.0, 42.0, 11.0, 2.0, 32.0, 7.0, 6.0, 68.0, 16.0, 26.0, 37.0, 52.0, 8.0, 0.0, 1.0, 72.0, 50.0, 28.0, 49.0, 26.0, 13.0, 12.0, 13.0, 14.0, 55.0, 41.0, 5.0, 6.0, 67.0, 64.0, 28.0, 49.0, 40.0, 46.0, 7.0, 45.0, 7.0, 50.0, 60.0, 7.0, 57.0, 22.0, 8.0, 37.0, 21.0, 40.0, 50.0, 15.0, 2.0, 43.0, 18.0, 43.0, 3.0, 46.0, 1.0, 12.0, 5.0, 13.0, 37.0, 5.0, 50.0, 4.0, 16.0, 11.0, 21.0, 76.0, 15.0, 48.0, 1.0, 38.0, 12.0, 26.0, 2.0, 1.0, 0.0, 2.0, 45.0, 6.0, 3.0, 18.0, 46.0, 3.0, 8.0, 42.0, 4.0, 75.0, 5.0, 2.0, 62.0, 40.0, 53.0, 2.0, 15.0, 2.0, 4.0, 2.0, 67.0, 59.0, 35.0, 62.0, 32.0, 53.0, 74.0, 18.0, 96.0, 38.0, 32.0, 15.0, 51.0, 70.0, 23.0, 3.0, 51.0, 6.0, 46.0, 20.0, 84.0, 3.0, 85.0, 20.0, 79.0, 49.0, 63.0, 25.0, 13.0, 14.0, 5.0, 45.0, 3.0, 4.0, 31.0, 85.0, 30.0, 25.0, 45.0, 43.0, 49.0, 3.0, 59.0, 28.0, 0.0, 38.0, 4.0, 1.0, 110.0, 5.0, 25.0, 31.0, 18.0, 7.0, 56.0, 57.0, 12.0, 8.0, 9.0, 5.0, 77.0, 3.0, 7.0, 5.0, 74.0, 51.0, 13.0, 3.0, 6.0, 60.0, 34.0, 15.0, 100.0, 26.0, 12.0, 19.0, 17.0, 52.0, 12.0, 76.0, 53.0, 3.0, 25.0, 74.0, 97.0, 52.0, 29.0, 6.0, 2.0, 46.0, 4.0, 2.0, 2.0, 3.0, 4.0, 10.0, 5.0, 67.0, 66.0, 33.0, 6.0, 4.0, 35.0, 52.0, 4.0, 51.0, 35.0, 3.0, 49.0, 2.0, 62.0, 20.0, 37.0, 65.0, 13.0, 76.0, 17.0, 27.0, 10.0, 32.0, 12.0, 71.0, 17.0, 22.0, 2.0, 34.0, 13.0, 41.0, 33.0, 26.0, 36.0, 3.0, 6.0, 7.0, 4.0, 37.0, 6.0, 6.0, 81.0, 32.0, 53.0, 14.0, 25.0, 72.0, 12.0, 5.0, 13.0, 82.0, 81.0, 3.0, 68.0, 37.0, 77.0, 9.0, 21.0, 1.0, 74.0, 102.0, 2.0, 50.0, 9.0, 71.0, 10.0, 16.0, 11.0, 70.0, 92.0, 35.0, 35.0, 61.0, 3.0, 29.0, 54.0, 18.0, 7.0, 3.0, 5.0, 7.0, 5.0, 7.0, 29.0, 33.0, 42.0, 6.0, 71.0, 5.0, 45.0, 26.0, 56.0, 48.0, 6.0, 9.0, 39.0, 51.0, 8.0, 6.0, 11.0, 49.0, 54.0, 12.0, 62.0, 9.0, 70.0, 67.0, 55.0, 16.0, 6.0, 42.0, 23.0, 21.0, 22.0, 12.0, 86.0, 1.0, 79.0, 32.0, 53.0, 14.0, 61.0, 45.0, 4.0, 2.0, 4.0, 17.0, 19.0, 34.0, 7.0, 64.0, 3.0, 3.0, 60.0, 64.0, 7.0, 1.0, 108.0, 11.0, 3.0, 55.0, 8.0, 96.0, 21.0, 50.0, 12.0, 49.0, 27.0, 4.0, 126.0, 28.0, 18.0, 35.0, 28.0, 72.0, 32.0, 25.0, 44.0, 7.0, 2.0, 18.0, 60.0, 73.0, 44.0, 3.0, 17.0, 81.0, 29.0, 11.0, 20.0, 59.0, 15.0, 43.0, 31.0, 47.0, 63.0, 41.0, 6.0, 87.0, 1.0, 2.0, 13.0, 56.0, 43.0, 51.0, 13.0, 11.0, 10.0, 60.0, 15.0, 41.0, 10.0, 40.0, 0.0, 69.0, 25.0, 1.0, 47.0, 24.0, 23.0, 6.0, 2.0, 1.0, 1.0, 42.0, 32.0, 12.0, 74.0, 19.0, 2.0, 13.0, 13.0, 38.0, 30.0, 2.0, 49.0, 2.0, 7.0, 2.0, 2.0, 21.0, 21.0, 28.0, 45.0, 89.0, 5.0, 2.0, 37.0, 18.0, 4.0, 68.0, 2.0, 2.0, 72.0, 5.0, 15.0, 8.0, 35.0, 21.0, 67.0, 5.0, 2.0, 2.0, 1.0, 54.0, 70.0, 3.0, 48.0, 5.0, 10.0, 1.0, 3.0, 2.0, 4.0, 4.0, 63.0, 4.0, 4.0, 2.0, 6.0, 77.0, 2.0, 5.0, 10.0, 5.0, 3.0, 3.0, 46.0, 2.0, 1.0, 2.0, 4.0, 39.0, 3.0, 8.0, 49.0, 9.0, 10.0, 1.0, 10.0, 31.0, 8.0, 92.0, 34.0, 12.0, 59.0, 41.0, 45.0, 39.0, 20.0, 13.0, 57.0, 3.0, 38.0, 5.0, 67.0, 1.0, 7.0, 66.0, 27.0, 5.0, 17.0, 61.0, 57.0, 2.0, 4.0, 2.0, 4.0, 1.0, 81.0, 45.0, 44.0, 64.0, 106.0, 2.0, 17.0, 55.0, 27.0, 8.0, 72.0, 26.0, 26.0, 35.0, 19.0, 1.0, 25.0, 4.0, 4.0, 17.0, 22.0, 32.0, 22.0, 29.0, 32.0, 32.0, 28.0, 7.0, 9.0, 61.0, 4.0, 60.0, 22.0, 31.0, 33.0, 62.0, 31.0, 33.0, 54.0, 6.0, 25.0, 18.0, 46.0, 22.0, 41.0, 60.0, 39.0, 8.0, 74.0, 21.0, 1.0, 6.0, 4.0, 3.0, 2.0, 91.0, 32.0, 25.0, 45.0, 34.0, 46.0, 6.0, 31.0, 24.0, 41.0, 2.0, 44.0, 10.0, 3.0, 5.0, 3.0, 33.0, 55.0, 3.0, 25.0, 3.0, 20.0, 36.0, 3.0, 1.0, 13.0, 50.0, 2.0, 1.0, 10.0, 5.0, 3.0, 61.0, 67.0, 31.0, 2.0, 1.0, 63.0, 2.0, 3.0, 24.0, 37.0, 58.0, 27.0, 71.0, 105.0, 47.0, 75.0, 1.0, 4.0, 4.0, 48.0, 58.0, 24.0, 9.0, 4.0, 5.0, 11.0, 49.0, 14.0, 35.0, 56.0, 67.0, 42.0, 1.0, 18.0, 65.0, 1.0, 11.0, 36.0, 61.0, 15.0, 1.0, 2.0, 2.0, 35.0, 5.0, 2.0, 47.0, 34.0, 64.0, 13.0, 19.0, 31.0, 68.0, 9.0, 32.0, 34.0, 13.0, 43.0, 43.0, 3.0, 2.0, 43.0, 3.0, 1.0, 34.0, 12.0, 6.0, 21.0, 50.0, 4.0, 5.0, 0.0, 8.0, 1.0, 46.0, 7.0, 25.0, 27.0, 60.0, 2.0, 60.0, 8.0, 2.0, 51.0, 5.0, 96.0, 53.0, 56.0, 36.0, 24.0, 5.0, 6.0, 67.0, 21.0, 34.0, 49.0, 55.0, 26.0, 113.0, 52.0, 2.0, 93.0, 102.0, 5.0, 13.0, 102.0, 9.0, 2.0, 56.0, 8.0, 3.0, 74.0, 39.0, 65.0, 53.0, 52.0, 23.0, 31.0, 108.0, 55.0, 57.0, 52.0, 52.0, 16.0, 60.0, 54.0, 15.0, 59.0, 18.0, 23.0, 16.0, 14.0, 84.0, 50.0, 5.0, 10.0, 5.0, 8.0, 11.0, 42.0, 1.0, 1.0, 3.0, 15.0, 38.0, 2.0, 73.0, 2.0, 45.0, 4.0, 2.0, 3.0, 7.0, 4.0, 2.0, 2.0, 18.0, 9.0, 2.0, 4.0, 4.0, 2.0, 35.0, 35.0, 25.0, 53.0, 52.0, 5.0, 6.0, 3.0, 67.0, 33.0, 10.0, 3.0, 1.0, 0.0, 0.0, 1.0, 1.0, 0.0, 1.0, 1.0, 0.0, 1.0, 1.0, 1.0, 2.0, 23.0, 23.0, 7.0, 4.0, 2.0, 11.0, 4.0, 30.0, 2.0, 14.0, 2.0, 6.0, 4.0, 13.0, 10.0, 12.0, 6.0, 1.0, 3.0, 1.0, 2.0, 32.0, 26.0, 21.0, 23.0, 3.0, 3.0, 27.0, 2.0, 3.0, 3.0, 5.0, 7.0, 6.0, 41.0, 20.0, 20.0, 2.0, 6.0, 7.0, 2.0, 5.0, 50.0, 7.0, 13.0, 21.0, 3.0, 1.0, 18.0, 8.0, 3.0, 113.0, 3.0, 105.0, 82.0, 8.0, 71.0, 79.0, 52.0, 7.0, 1.0, 56.0, 3.0, 1.0, 3.0, 5.0, 11.0, 2.0, 9.0, 9.0, 1.0, 10.0, 58.0, 9.0, 42.0, 5.0, 30.0, 91.0, 2.0, 4.0, 1.0, 9.0, 6.0, 68.0, 39.0, 21.0, 25.0, 26.0, 56.0, 27.0, 9.0, 11.0, 13.0, 20.0, 23.0, 58.0, 10.0, 21.0, 30.0, 31.0, 25.0, 1.0, 2.0, 17.0, 9.0, 7.0, 26.0, 3.0, 24.0, 8.0, 7.0, 31.0, 20.0, 20.0, 2.0, 6.0, 15.0, 13.0, 19.0, 7.0, 11.0, 31.0, 49.0, 3.0, 1.0, 17.0, 9.0, 1.0, 19.0, 23.0, 12.0, 2.0, 4.0, 2.0, 4.0, 41.0, 78.0, 32.0, 3.0, 25.0, 22.0, 55.0, 16.0, 26.0, 53.0, 52.0, 2.0, 12.0, 27.0, 8.0, 2.0, 11.0, 10.0, 4.0, 35.0, 23.0, 2.0, 7.0, 2.0, 19.0, 2.0, 17.0, 2.0, 4.0, 6.0, 12.0, 54.0, 20.0, 8.0, 56.0, 4.0, 7.0, 20.0, 3.0, 2.0, 14.0, 20.0, 83.0, 4.0, 44.0, 51.0, 5.0, 23.0, 4.0, 37.0, 19.0, 16.0, 2.0, 21.0, 3.0, 5.0, 2.0, 6.0, 3.0, 30.0, 4.0, 63.0, 5.0, 1.0, 2.0, 1.0, 32.0, 5.0, 3.0, 4.0, 7.0, 31.0, 1.0, 4.0, 55.0, 9.0, 7.0, 13.0, 24.0, 4.0, 27.0, 16.0, 2.0, 39.0, 28.0, 45.0, 18.0, 17.0, 3.0, 46.0, 5.0, 33.0, 2.0, 1.0, 1.0, 4.0, 5.0, 4.0, 11.0, 6.0, 59.0, 59.0, 2.0, 9.0, 7.0, 36.0, 60.0, 1.0, 3.0, 10.0, 47.0, 25.0, 17.0, 3.0, 38.0, 32.0, 4.0, 22.0, 30.0, 57.0, 2.0, 38.0, 69.0, 49.0, 58.0, 16.0, 12.0, 2.0, 36.0, 7.0, 35.0, 7.0, 2.0, 64.0, 62.0, 11.0, 22.0, 22.0, 62.0, 71.0, 2.0, 21.0, 2.0, 3.0, 5.0, 22.0, 34.0, 65.0, 64.0, 1.0, 0.0, 3.0, 6.0, 7.0, 35.0, 41.0, 69.0, 99.0, 4.0, 6.0, 3.0, 2.0, 4.0, 115.0, 2.0, 13.0, 41.0, 6.0, 20.0, 78.0, 17.0, 7.0, 56.0, 4.0, 5.0, 48.0, 99.0, 55.0, 38.0, 44.0, 9.0, 54.0, 8.0, 5.0, 62.0, 7.0, 65.0, 26.0, 2.0, 4.0, 35.0, 8.0, 2.0, 7.0, 14.0, 20.0, 2.0, 3.0, 34.0, 2.0, 5.0, 11.0, 16.0, 30.0, 8.0, 1.0, 93.0, 114.0, 2.0, 10.0, 13.0, 7.0, 37.0, 39.0, 7.0, 28.0, 6.0, 33.0, 59.0, 3.0, 7.0, 29.0, 9.0, 3.0, 73.0, 124.0, 4.0, 1.0, 89.0, 5.0, 10.0, 1.0, 6.0, 59.0, 72.0, 1.0, 103.0, 1.0, 3.0, 7.0, 6.0, 4.0, 5.0, 13.0, 6.0, 9.0, 1.0, 5.0, 13.0, 7.0, 17.0, 20.0, 4.0, 1.0, 43.0, 4.0, 23.0, 12.0, 18.0, 12.0, 59.0, 7.0, 91.0, 48.0, 18.0, 18.0, 2.0, 7.0, 54.0, 8.0, 1.0, 107.0, 58.0, 14.0, 3.0, 1.0, 41.0, 4.0, 6.0, 16.0, 41.0, 20.0, 5.0, 25.0, 38.0, 14.0, 12.0, 2.0, 51.0, 21.0, 27.0, 17.0, 2.0, 34.0, 48.0, 55.0, 34.0, 48.0, 3.0, 2.0, 21.0, 3.0, 109.0, 46.0, 58.0, 24.0, 60.0, 59.0, 37.0, 22.0, 47.0, 6.0, 6.0, 4.0, 23.0, 60.0, 4.0, 28.0, 7.0, 14.0, 13.0, 34.0, 2.0, 24.0, 41.0, 20.0, 1.0, 21.0, 35.0, 47.0, 1.0, 37.0, 8.0, 5.0, 52.0, 6.0, 35.0, 6.0, 6.0, 37.0, 4.0, 56.0, 50.0, 56.0, 41.0, 77.0, 32.0, 43.0, 47.0, 2.0, 7.0, 50.0, 3.0, 33.0, 39.0, 70.0, 32.0, 54.0, 9.0, 58.0, 4.0, 74.0, 40.0, 11.0, 8.0, 4.0, 50.0, 20.0, 6.0, 10.0, 2.0, 4.0, 41.0, 57.0, 2.0, 59.0, 33.0, 2.0, 32.0, 55.0, 16.0, 4.0, 14.0, 22.0, 34.0, 3.0, 38.0, 22.0, 52.0, 59.0, 5.0, 44.0, 37.0, 3.0, 5.0, 2.0, 4.0, 15.0, 11.0, 1.0, 8.0, 3.0, 12.0, 7.0, 79.0, 21.0, 8.0, 46.0, 19.0, 48.0, 6.0, 4.0, 5.0, 14.0, 8.0, 2.0, 4.0, 10.0, 26.0, 74.0, 27.0, 23.0, 71.0, 60.0, 51.0, 25.0, 4.0, 2.0, 10.0, 1.0, 80.0, 78.0, 110.0, 4.0, 60.0, 35.0, 35.0, 12.0, 60.0, 1.0, 3.0, 3.0, 8.0, 8.0, 47.0, 7.0, 34.0, 2.0, 40.0, 58.0, 18.0, 6.0, 1.0, 1.0, 1.0, 3.0, 1.0, 11.0, 6.0, 19.0, 12.0, 16.0, 5.0, 1.0, 1.0, 5.0, 21.0, 4.0, 2.0, 27.0, 27.0, 1.0, 19.0, 26.0, 4.0, 2.0, 36.0, 3.0, 11.0, 22.0, 4.0, 1.0, 2.0, 3.0, 56.0, 37.0, 45.0, 36.0, 26.0, 2.0, 7.0, 29.0, 37.0, 7.0, 9.0, 43.0, 10.0, 42.0, 24.0, 6.0, 49.0, 31.0, 2.0, 1.0, 37.0, 2.0, 4.0, 24.0, 49.0, 20.0, 55.0, 10.0, 2.0, 15.0, 2.0, 15.0, 39.0, 46.0, 43.0, 37.0, 4.0, 46.0, 37.0, 18.0, 18.0, 5.0, 22.0, 4.0, 54.0, 5.0, 6.0, 50.0, 3.0, 1.0, 19.0, 35.0, 1.0, 2.0, 25.0, 30.0, 1.0, 39.0, 41.0, 2.0, 51.0, 18.0, 7.0, 2.0, 7.0, 4.0, 50.0, 3.0, 3.0, 2.0, 28.0, 1.0, 54.0, 5.0, 5.0, 36.0, 3.0, 33.0, 2.0, 62.0, 52.0, 28.0, 5.0, 1.0, 15.0, 16.0, 1.0, 102.0, 32.0, 50.0, 21.0, 1.0, 1.0, 1.0, 1.0, 1.0, 0.0, 1.0, 1.0, 1.0, 4.0, 14.0, 89.0, 5.0, 5.0, 122.0, 1.0, 4.0, 12.0, 53.0, 29.0, 24.0, 2.0, 20.0, 2.0, 63.0, 39.0, 46.0, 41.0, 13.0, 54.0, 8.0, 5.0, 20.0, 23.0, 2.0, 6.0, 31.0, 2.0, 37.0, 5.0, 34.0, 16.0, 1.0, 71.0, 29.0, 2.0, 62.0, 46.0, 2.0, 34.0, 4.0, 16.0, 32.0, 86.0, 22.0, 67.0, 4.0, 2.0, 32.0, 3.0, 107.0, 0.0, 5.0, 3.0, 55.0, 2.0, 99.0, 28.0, 61.0, 7.0, 40.0, 76.0, 8.0, 5.0, 43.0, 1.0, 10.0, 44.0, 58.0, 38.0, 14.0, 46.0, 33.0, 42.0, 39.0, 4.0, 55.0, 1.0, 23.0, 33.0, 59.0, 54.0, 58.0, 26.0, 34.0, 2.0, 35.0, 11.0, 96.0, 17.0, 36.0, 24.0, 27.0, 42.0, 19.0, 31.0, 66.0, 53.0, 52.0, 36.0, 56.0, 59.0, 16.0, 22.0, 1.0, 46.0, 25.0, 59.0, 35.0, 3.0, 6.0, 27.0, 16.0, 62.0, 51.0, 60.0, 85.0, 97.0, 124.0, 23.0, 5.0, 55.0, 1.0, 7.0, 83.0, 53.0, 1.0, 17.0, 2.0, 24.0, 4.0, 5.0, 2.0, 21.0, 2.0, 52.0, 14.0, 55.0, 43.0, 7.0, 24.0, 36.0, 53.0, 17.0, 33.0, 6.0, 4.0, 60.0, 2.0, 29.0, 52.0, 10.0, 3.0, 2.0, 38.0, 6.0, 56.0, 33.0, 5.0, 4.0, 9.0, 5.0, 19.0, 30.0, 6.0, 33.0, 75.0, 14.0, 104.0, 14.0, 60.0, 61.0, 26.0, 22.0, 47.0, 95.0, 24.0, 31.0, 15.0, 4.0, 7.0, 13.0, 30.0, 69.0, 67.0, 1.0, 8.0, 18.0, 58.0, 26.0, 34.0, 62.0, 35.0, 3.0, 26.0, 44.0, 23.0, 17.0, 31.0, 66.0, 9.0, 55.0, 48.0, 39.0, 13.0, 8.0, 28.0, 39.0, 13.0, 6.0, 97.0, 31.0, 38.0, 34.0, 1.0, 40.0, 15.0, 4.0, 49.0, 6.0, 128.0, 2.0, 22.0, 17.0, 3.0, 42.0, 40.0, 62.0, 54.0, 95.0, 19.0, 72.0, 12.0, 42.0, 72.0, 2.0, 10.0, 2.0, 91.0, 2.0, 0.0, 26.0, 21.0, 64.0, 36.0, 20.0, 52.0, 3.0, 29.0, 14.0, 34.0, 1.0, 103.0, 31.0, 3.0, 84.0, 7.0, 91.0, 59.0, 4.0, 22.0, 16.0, 17.0, 4.0, 13.0, 52.0, 71.0, 95.0, 64.0, 3.0, 1.0, 1.0, 2.0, 39.0, 30.0, 48.0, 16.0, 1.0, 1.0, 10.0, 54.0, 58.0, 5.0, 2.0, 26.0, 9.0, 70.0, 4.0, 24.0, 57.0, 37.0, 21.0, 72.0, 5.0, 45.0, 2.0, 34.0, 29.0, 42.0, 1.0, 71.0, 4.0, 2.0, 1.0, 8.0, 2.0, 49.0, 47.0, 19.0, 24.0, 32.0, 2.0, 15.0, 1.0, 1.0, 14.0, 1.0, 14.0, 1.0, 2.0, 3.0, 2.0, 5.0, 2.0, 60.0, 1.0, 5.0, 6.0, 19.0, 2.0, 6.0, 2.0, 19.0, 38.0, 17.0, 39.0, 18.0, 37.0, 70.0, 20.0, 6.0, 18.0, 6.0, 9.0, 21.0, 12.0, 11.0, 33.0, 6.0, 10.0, 2.0, 3.0, 7.0, 30.0, 12.0, 34.0, 9.0, 20.0, 100.0, 4.0, 3.0, 2.0, 59.0, 3.0, 2.0, 2.0, 37.0, 13.0, 2.0, 15.0, 3.0, 23.0, 3.0, 6.0, 76.0, 52.0, 59.0, 1.0, 2.0, 69.0, 3.0, 4.0, 5.0, 22.0, 56.0, 11.0, 24.0, 32.0, 2.0, 8.0, 63.0, 1.0, 1.0, 31.0, 50.0, 3.0, 5.0, 1.0, 3.0, 1.0, 38.0, 1.0, 61.0, 3.0, 10.0, 65.0, 29.0, 8.0, 3.0, 3.0, 2.0, 3.0, 2.0, 6.0, 5.0, 50.0, 1.0, 19.0, 1.0, 6.0, 4.0, 47.0, 3.0, 1.0, 2.0, 2.0, 5.0, 4.0, 15.0, 4.0, 6.0, 35.0, 45.0, 4.0, 46.0, 17.0, 49.0, 18.0, 86.0, 97.0, 3.0, 56.0, 2.0, 24.0, 29.0, 20.0, 50.0, 19.0, 17.0, 41.0, 98.0, 29.0, 92.0, 2.0, 4.0, 60.0, 64.0, 13.0, 25.0, 12.0, 2.0, 3.0, 19.0, 47.0, 55.0, 2.0, 7.0, 34.0, 123.0, 90.0, 27.0, 36.0, 116.0, 31.0, 81.0, 69.0, 2.0, 1.0, 2.0, 55.0, 64.0, 49.0, 35.0, 51.0, 18.0, 28.0, 32.0, 37.0, 14.0, 8.0, 23.0, 3.0, 6.0, 54.0, 4.0, 33.0, 6.0, 36.0, 17.0, 48.0, 10.0, 14.0, 33.0, 88.0, 52.0, 23.0, 27.0, 12.0, 52.0, 52.0, 9.0, 33.0, 56.0, 50.0, 4.0, 2.0, 2.0, 53.0, 17.0, 4.0, 55.0, 22.0, 53.0, 11.0, 26.0, 12.0, 50.0, 24.0, 34.0, 5.0, 30.0, 27.0, 61.0, 29.0, 19.0, 42.0, 15.0, 4.0, 62.0, 3.0, 2.0, 3.0, 3.0, 3.0, 3.0, 3.0, 2.0, 39.0, 24.0, 58.0, 45.0, 23.0, 5.0, 24.0, 2.0, 1.0, 7.0, 31.0, 40.0, 4.0, 19.0, 63.0, 16.0, 14.0, 71.0, 33.0, 40.0, 56.0, 24.0, 9.0, 3.0, 16.0, 10.0, 33.0, 4.0, 3.0, 18.0, 7.0, 1.0, 35.0, 66.0, 40.0, 8.0, 2.0, 1.0, 3.0, 6.0, 2.0, 58.0, 26.0, 13.0, 54.0, 2.0, 4.0, 4.0, 11.0, 46.0, 7.0, 3.0, 7.0, 96.0, 65.0, 1.0, 52.0, 13.0, 15.0, 11.0, 12.0, 73.0, 72.0, 27.0, 2.0, 3.0, 3.0, 19.0, 47.0, 4.0, 2.0, 82.0, 12.0, 18.0, 8.0, 7.0, 65.0, 3.0, 74.0, 9.0, 1.0, 5.0, 12.0, 2.0, 3.0, 7.0, 10.0, 1.0, 2.0, 1.0, 44.0, 5.0, 8.0, 1.0, 15.0, 17.0, 1.0, 7.0, 3.0, 88.0, 29.0, 22.0, 4.0, 28.0, 1.0, 3.0, 2.0, 70.0, 5.0, 27.0, 5.0, 22.0, 58.0, 56.0, 16.0, 4.0, 2.0, 3.0, 17.0, 4.0, 3.0, 1.0, 1.0, 3.0, 3.0, 54.0, 7.0, 4.0, 55.0, 10.0, 4.0, 31.0, 26.0, 4.0, 10.0, 3.0, 5.0, 24.0, 34.0, 64.0, 16.0, 2.0, 20.0, 9.0, 27.0, 11.0, 74.0, 21.0, 5.0, 31.0, 48.0, 4.0, 37.0, 45.0, 8.0, 39.0, 10.0, 14.0, 1.0, 0.0, 22.0, 4.0, 12.0, 10.0, 38.0, 7.0, 21.0, 20.0, 49.0, 64.0, 21.0, 2.0, 2.0, 2.0, 11.0, 63.0, 2.0, 29.0, 9.0, 23.0, 3.0, 43.0, 62.0, 84.0, 29.0, 88.0, 26.0, 56.0, 40.0, 16.0, 44.0, 18.0, 12.0, 59.0, 74.0, 57.0, 28.0, 65.0, 43.0, 4.0, 57.0, 7.0, 2.0, 12.0, 48.0, 4.0, 65.0, 52.0, 18.0, 60.0, 2.0, 24.0, 2.0, 30.0, 54.0, 69.0, 69.0, 66.0, 12.0, 50.0, 1.0, 51.0, 33.0, 24.0, 63.0, 2.0, 65.0, 58.0, 5.0, 9.0, 7.0, 12.0, 8.0, 7.0, 4.0, 10.0, 3.0, 31.0, 7.0, 8.0, 1.0, 86.0, 15.0, 7.0, 26.0, 2.0, 22.0, 52.0, 1.0, 19.0, 7.0, 68.0, 33.0, 3.0, 13.0, 1.0, 3.0, 1.0, 3.0, 6.0, 1.0, 27.0, 4.0, 1.0, 106.0, 85.0, 56.0, 61.0, 53.0, 37.0, 25.0, 2.0, 49.0, 9.0, 41.0, 50.0, 15.0, 59.0, 6.0, 75.0, 60.0, 19.0, 9.0, 77.0, 8.0, 3.0, 66.0, 38.0, 79.0, 26.0, 14.0, 45.0, 31.0, 2.0, 9.0, 7.0, 3.0, 3.0, 12.0, 54.0, 1.0, 15.0, 30.0, 67.0, 48.0, 52.0, 32.0, 37.0, 5.0, 67.0, 51.0, 58.0, 46.0, 12.0, 47.0, 6.0, 57.0, 72.0, 2.0, 30.0, 41.0, 9.0, 64.0, 37.0, 12.0, 25.0, 95.0, 51.0, 60.0, 4.0, 20.0, 35.0, 3.0, 2.0, 11.0, 72.0, 76.0, 33.0, 27.0, 3.0, 7.0, 2.0, 10.0, 50.0, 7.0, 44.0, 49.0, 56.0, 2.0, 29.0, 17.0, 22.0, 7.0, 7.0, 51.0, 31.0, 27.0, 60.0, 62.0, 99.0, 48.0, 80.0, 3.0, 7.0, 6.0, 59.0, 31.0, 9.0, 10.0, 68.0, 90.0, 114.0, 3.0, 5.0, 57.0, 60.0, 84.0, 2.0, 39.0, 61.0, 1.0, 1.0, 19.0, 44.0, 4.0, 33.0, 38.0, 52.0, 35.0, 54.0, 65.0, 9.0, 35.0, 1.0, 17.0, 0.0, 2.0, 2.0, 3.0, 6.0, 3.0, 69.0, 60.0, 8.0, 35.0, 43.0, 25.0, 9.0, 43.0, 2.0, 37.0, 45.0, 62.0, 3.0, 4.0, 40.0, 26.0, 42.0, 4.0, 25.0, 34.0, 2.0, 11.0, 51.0, 66.0, 53.0, 7.0, 22.0, 47.0, 31.0, 66.0, 12.0, 25.0, 19.0, 48.0, 66.0, 20.0, 58.0, 11.0, 34.0, 15.0, 46.0, 50.0, 4.0, 37.0, 8.0, 69.0, 0.0, 4.0, 61.0, 6.0, 3.0, 42.0, 2.0, 41.0, 40.0, 15.0, 6.0, 1.0, 25.0, 34.0, 46.0, 4.0, 18.0, 3.0, 98.0, 11.0, 31.0, 8.0, 4.0, 42.0, 21.0, 13.0, 7.0, 5.0, 34.0, 12.0, 2.0, 8.0, 20.0, 59.0, 64.0, 24.0, 9.0, 43.0, 45.0, 24.0, 27.0, 32.0, 28.0, 43.0, 2.0, 38.0, 38.0, 19.0, 120.0, 27.0, 3.0, 60.0, 51.0, 37.0, 110.0, 4.0, 4.0, 35.0, 124.0, 67.0, 73.0, 2.0, 51.0, 5.0, 24.0, 17.0, 9.0, 30.0, 58.0, 57.0, 39.0, 32.0, 44.0, 26.0, 17.0, 6.0, 42.0, 37.0, 2.0, 55.0, 54.0, 53.0, 54.0, 34.0, 3.0, 51.0, 48.0, 62.0, 68.0, 52.0, 14.0, 45.0, 5.0, 64.0, 51.0, 14.0, 27.0, 2.0, 3.0, 2.0, 22.0, 29.0, 0.0, 35.0, 69.0, 38.0, 52.0, 62.0, 87.0, 63.0, 1.0, 23.0, 58.0, 28.0, 3.0, 11.0, 56.0, 61.0, 14.0, 16.0, 104.0, 27.0, 13.0, 4.0, 4.0, 3.0, 6.0, 44.0, 15.0, 49.0, 9.0, 12.0, 66.0, 50.0, 58.0, 58.0, 9.0, 51.0, 25.0, 25.0, 3.0, 45.0, 49.0, 2.0, 86.0, 18.0, 18.0, 54.0, 33.0, 7.0, 4.0, 3.0, 6.0, 58.0, 31.0, 39.0, 38.0, 26.0, 1.0, 43.0, 1.0, 54.0, 5.0, 1.0, 58.0, 55.0, 49.0, 11.0, 18.0, 22.0, 60.0, 30.0, 32.0, 81.0, 64.0, 90.0, 4.0, 69.0, 27.0, 22.0, 71.0, 5.0, 1.0, 85.0, 40.0, 33.0, 1.0, 13.0, 4.0, 5.0, 34.0, 9.0, 7.0, 7.0, 24.0, 59.0, 42.0, 47.0, 11.0, 1.0, 8.0, 40.0, 24.0, 9.0, 18.0, 51.0, 55.0, 3.0, 1.0, 17.0, 15.0, 87.0, 47.0, 54.0, 53.0, 56.0, 3.0, 48.0, 89.0, 8.0, 1.0, 35.0, 6.0, 4.0, 6.0, 18.0, 24.0, 79.0, 42.0, 26.0, 74.0, 52.0, 37.0, 66.0, 3.0, 49.0, 1.0, 49.0, 40.0, 102.0, 6.0, 2.0, 1.0, 2.0, 19.0, 4.0, 3.0, 99.0, 5.0, 7.0, 110.0, 20.0, 43.0, 52.0, 50.0, 3.0, 53.0, 15.0, 48.0, 48.0, 3.0, 63.0, 5.0, 26.0, 75.0, 60.0, 26.0, 4.0, 40.0, 51.0, 39.0, 2.0, 2.0, 10.0, 6.0, 46.0, 20.0, 4.0, 8.0, 23.0, 1.0, 64.0, 50.0, 2.0, 25.0, 14.0, 3.0, 62.0, 50.0, 22.0, 56.0, 1.0, 5.0, 2.0, 3.0, 8.0, 59.0, 31.0, 3.0, 2.0, 32.0, 26.0, 10.0, 13.0, 41.0, 34.0, 14.0, 98.0, 32.0, 34.0, 36.0, 35.0, 43.0, 30.0, 4.0, 23.0, 15.0, 51.0, 4.0, 62.0, 44.0, 68.0, 7.0, 39.0, 26.0, 3.0, 2.0, 50.0, 13.0, 82.0, 10.0, 77.0, 46.0, 1.0, 0.0, 24.0, 112.0, 52.0, 105.0, 101.0, 52.0, 4.0, 7.0, 13.0, 14.0, 64.0, 15.0, 2.0, 22.0, 6.0, 110.0, 29.0, 19.0, 49.0, 22.0, 24.0, 35.0, 32.0, 67.0, 6.0, 4.0, 1.0, 3.0, 19.0, 84.0, 2.0, 46.0, 90.0, 62.0, 2.0, 48.0, 27.0, 2.0, 9.0, 57.0, 27.0, 2.0, 34.0, 3.0, 3.0, 33.0, 16.0, 60.0, 61.0, 58.0, 46.0, 33.0, 19.0, 58.0, 72.0, 9.0, 20.0, 10.0, 7.0, 58.0, 14.0, 3.0, 120.0, 9.0, 63.0, 27.0, 2.0, 8.0, 2.0, 8.0, 66.0, 2.0, 13.0, 51.0, 14.0, 37.0, 35.0, 60.0, 28.0, 51.0, 24.0, 32.0, 50.0, 55.0, 63.0, 10.0, 3.0, 3.0, 3.0, 6.0, 35.0, 76.0, 2.0, 9.0, 46.0, 59.0, 32.0, 12.0, 2.0, 32.0, 6.0, 59.0, 2.0, 10.0, 7.0, 1.0, 3.0, 35.0, 35.0, 5.0, 2.0, 3.0, 3.0, 57.0, 7.0, 28.0, 80.0, 95.0, 83.0, 7.0, 1.0, 18.0, 1.0, 32.0, 35.0, 6.0, 57.0, 36.0, 30.0, 5.0, 39.0, 39.0, 2.0, 39.0, 47.0, 81.0, 5.0, 21.0, 54.0, 20.0, 4.0, 34.0, 6.0, 57.0, 45.0, 2.0, 5.0, 4.0, 28.0, 20.0, 5.0, 13.0, 16.0, 31.0, 53.0, 2.0, 2.0, 42.0, 4.0, 30.0, 26.0, 71.0, 8.0, 61.0, 39.0, 5.0, 55.0, 7.0, 69.0, 4.0, 10.0, 6.0, 9.0, 64.0, 15.0, 2.0, 27.0, 12.0, 4.0, 123.0, 1.0, 51.0, 17.0, 16.0, 25.0, 6.0, 52.0, 16.0, 23.0, 2.0, 40.0, 28.0, 57.0, 3.0, 16.0, 3.0, 64.0, 32.0, 75.0, 24.0, 59.0, 52.0, 40.0, 9.0, 11.0, 17.0, 14.0, 40.0, 10.0, 5.0, 29.0, 1.0, 3.0, 3.0, 4.0, 45.0, 4.0, 41.0, 5.0, 4.0, 3.0, 2.0, 2.0, 110.0, 1.0, 14.0, 26.0, 8.0, 39.0, 11.0, 10.0, 13.0, 2.0, 4.0, 3.0, 73.0, 57.0, 6.0, 57.0, 14.0, 20.0, 25.0, 4.0, 58.0, 3.0, 22.0, 57.0, 1.0, 2.0, 11.0, 18.0, 2.0, 7.0, 35.0, 61.0, 75.0, 26.0, 9.0, 42.0, 4.0, 23.0, 2.0, 7.0, 52.0, 32.0, 2.0, 7.0, 8.0, 71.0, 3.0, 16.0, 1.0, 3.0, 57.0, 64.0, 16.0, 5.0, 5.0, 11.0, 13.0, 15.0, 34.0, 16.0, 5.0, 29.0, 78.0, 44.0, 36.0, 12.0, 13.0, 12.0, 22.0, 32.0, 62.0, 42.0, 6.0, 2.0, 19.0, 10.0, 10.0, 21.0, 7.0, 3.0, 13.0, 8.0, 9.0, 38.0, 38.0, 2.0, 14.0, 20.0, 20.0, 2.0, 23.0, 5.0, 30.0, 29.0, 56.0, 32.0, 11.0, 36.0, 36.0, 43.0, 17.0, 5.0, 42.0, 30.0, 28.0, 53.0, 71.0, 77.0, 10.0, 1.0, 2.0, 1.0, 4.0, 46.0, 3.0, 35.0, 60.0, 21.0, 25.0, 31.0, 22.0, 30.0, 14.0, 41.0, 13.0, 60.0, 6.0, 12.0, 56.0, 45.0, 27.0, 17.0, 105.0, 66.0, 6.0, 35.0, 16.0, 41.0, 66.0, 14.0, 40.0, 27.0, 46.0, 17.0, 51.0, 49.0, 55.0, 25.0, 20.0, 47.0, 61.0, 20.0, 60.0, 3.0, 26.0, 82.0, 47.0, 56.0, 16.0, 18.0, 61.0, 20.0, 8.0, 57.0, 56.0, 48.0, 22.0, 81.0, 4.0, 33.0, 6.0, 81.0, 13.0, 19.0, 23.0, 56.0, 27.0, 23.0, 7.0, 29.0, 21.0, 3.0, 31.0, 11.0, 4.0, 60.0, 60.0, 37.0, 59.0, 47.0, 54.0, 51.0, 14.0, 21.0, 20.0, 31.0, 14.0, 49.0, 11.0, 8.0, 16.0, 38.0, 14.0, 53.0, 20.0, 8.0, 58.0, 57.0, 52.0, 39.0, 2.0, 3.0, 2.0, 9.0, 6.0, 56.0, 54.0, 37.0, 34.0, 29.0, 14.0, 31.0, 27.0, 11.0, 3.0, 7.0, 4.0, 61.0, 60.0, 2.0, 39.0, 58.0, 65.0, 25.0, 112.0, 68.0, 14.0, 20.0, 12.0, 60.0, 67.0, 26.0, 59.0, 30.0, 52.0, 42.0, 30.0, 16.0, 9.0, 33.0, 10.0, 38.0, 15.0, 8.0, 62.0, 17.0, 2.0, 57.0, 26.0, 1.0, 27.0, 10.0, 26.0, 60.0, 60.0, 4.0, 68.0, 2.0, 5.0, 6.0, 31.0, 6.0, 70.0, 38.0, 38.0, 6.0, 31.0, 47.0, 16.0, 7.0, 26.0, 61.0, 49.0, 42.0, 5.0, 30.0, 62.0, 31.0, 29.0, 61.0, 40.0, 8.0, 28.0, 5.0, 80.0, 5.0, 51.0, 33.0, 63.0, 46.0, 36.0, 70.0, 43.0, 30.0, 1.0, 30.0, 1.0, 6.0, 32.0, 68.0, 11.0, 18.0, 45.0, 5.0, 3.0, 25.0, 24.0, 63.0, 4.0, 58.0, 106.0, 76.0, 62.0, 4.0, 32.0, 1.0, 3.0, 20.0, 59.0, 40.0, 21.0, 29.0, 0.0, 60.0, 4.0, 22.0, 76.0, 62.0, 37.0, 37.0, 61.0, 1.0, 3.0, 12.0, 4.0, 3.0, 6.0, 82.0, 48.0, 55.0, 25.0, 28.0, 4.0, 5.0, 21.0, 52.0, 59.0, 26.0, 11.0, 9.0, 49.0, 20.0, 6.0, 21.0, 27.0, 3.0, 36.0, 1.0, 1.0, 70.0, 58.0, 50.0, 3.0, 116.0, 51.0, 44.0, 70.0, 56.0, 48.0, 4.0, 50.0, 27.0, 22.0, 43.0, 13.0, 81.0, 53.0, 28.0, 69.0, 57.0, 1.0, 4.0, 8.0, 13.0, 66.0, 54.0, 43.0, 44.0, 56.0, 109.0, 83.0, 23.0, 8.0, 2.0, 40.0, 24.0, 16.0, 110.0, 66.0, 40.0, 59.0, 21.0, 23.0, 4.0, 20.0, 5.0, 15.0, 33.0, 54.0, 6.0, 8.0, 6.0, 28.0, 15.0, 37.0, 38.0, 3.0, 31.0, 30.0, 4.0, 2.0, 40.0, 28.0, 1.0, 125.0, 21.0, 62.0, 35.0, 13.0, 6.0, 6.0, 3.0, 6.0, 35.0, 38.0, 4.0, 14.0, 4.0, 13.0, 25.0, 6.0, 18.0, 20.0, 23.0, 3.0, 70.0, 21.0, 6.0, 21.0, 2.0, 30.0, 47.0, 8.0, 71.0, 10.0, 62.0, 1.0, 4.0, 85.0, 4.0, 30.0, 1.0, 2.0, 33.0, 23.0, 3.0, 6.0, 2.0, 10.0, 1.0, 48.0, 24.0, 1.0, 2.0, 128.0, 47.0, 9.0, 26.0, 118.0, 3.0, 3.0, 33.0, 3.0, 1.0, 1.0, 3.0, 17.0, 3.0, 6.0, 3.0, 26.0, 15.0, 56.0, 52.0, 10.0, 54.0, 2.0, 2.0, 8.0, 11.0, 65.0, 41.0, 3.0, 56.0, 9.0, 48.0, 23.0, 31.0, 4.0, 11.0, 27.0, 5.0, 47.0, 11.0, 19.0, 14.0, 5.0, 4.0, 5.0, 46.0, 37.0, 31.0, 48.0, 3.0, 33.0, 20.0, 43.0, 40.0, 4.0, 57.0, 57.0, 52.0, 21.0, 23.0, 17.0, 59.0, 15.0, 2.0, 16.0, 70.0, 10.0, 49.0, 9.0, 15.0, 72.0, 38.0, 29.0, 66.0, 51.0, 4.0, 26.0, 37.0, 64.0, 5.0, 7.0, 53.0, 79.0, 6.0, 18.0, 34.0, 2.0, 19.0, 3.0, 59.0, 13.0, 26.0, 122.0, 2.0, 17.0, 5.0, 2.0, 52.0, 106.0, 20.0, 1.0, 13.0, 1.0, 29.0, 34.0, 13.0, 18.0, 3.0, 3.0, 25.0, 20.0, 1.0, 31.0, 1.0, 9.0, 1.0, 1.0, 5.0, 4.0, 18.0, 26.0, 15.0, 25.0, 9.0, 105.0, 22.0, 89.0, 43.0, 15.0, 19.0, 92.0, 13.0, 1.0, 8.0, 10.0, 2.0, 39.0, 27.0, 2.0, 88.0, 72.0, 22.0, 27.0, 11.0, 5.0, 17.0, 3.0, 5.0, 1.0, 5.0, 41.0, 102.0, 21.0, 1.0, 81.0, 11.0, 52.0, 11.0, 48.0, 43.0, 19.0, 35.0, 52.0, 101.0, 41.0, 18.0, 60.0, 4.0, 29.0, 2.0, 3.0, 46.0, 8.0, 40.0, 1.0, 10.0, 65.0, 13.0, 62.0, 60.0, 12.0, 6.0, 2.0, 13.0, 5.0, 46.0, 2.0, 47.0, 41.0, 29.0, 63.0, 33.0, 13.0, 25.0, 25.0, 97.0, 32.0, 31.0, 54.0, 64.0, 43.0, 59.0, 41.0, 26.0, 36.0, 36.0, 2.0, 64.0, 60.0, 2.0, 44.0, 71.0, 14.0, 2.0, 18.0, 68.0, 47.0, 3.0, 33.0, 63.0, 117.0, 61.0, 1.0, 53.0, 67.0, 32.0, 60.0, 92.0, 2.0, 35.0, 9.0, 5.0, 12.0, 12.0, 51.0, 33.0, 38.0, 30.0, 6.0, 11.0, 24.0, 61.0, 16.0, 59.0, 23.0, 45.0, 47.0, 62.0, 46.0, 21.0, 42.0, 9.0, 39.0, 65.0, 9.0, 1.0, 87.0, 122.0, 64.0, 79.0, 111.0, 3.0, 69.0, 4.0, 4.0, 3.0, 32.0, 62.0, 58.0, 2.0, 122.0, 90.0, 71.0, 93.0, 39.0, 106.0, 4.0, 31.0, 31.0, 15.0, 3.0, 55.0, 58.0, 49.0, 37.0, 18.0, 23.0, 38.0, 7.0, 9.0, 68.0, 83.0, 2.0, 10.0, 6.0, 39.0, 17.0, 28.0, 66.0, 21.0, 45.0, 17.0, 64.0, 4.0, 82.0, 22.0, 33.0, 59.0, 5.0, 3.0, 7.0, 6.0, 40.0, 8.0, 26.0, 33.0, 37.0, 3.0, 3.0, 23.0, 63.0, 2.0, 36.0, 1.0, 19.0, 2.0, 19.0, 4.0, 14.0, 106.0, 39.0, 1.0, 46.0, 22.0, 1.0, 7.0, 32.0, 6.0, 41.0, 41.0, 36.0, 2.0, 6.0, 6.0, 59.0, 8.0, 1.0, 2.0, 1.0, 11.0, 29.0, 55.0, 4.0, 4.0, 5.0, 56.0, 57.0, 67.0, 28.0, 52.0, 22.0, 12.0, 61.0, 4.0, 5.0, 62.0, 57.0, 12.0, 24.0, 65.0, 29.0, 16.0, 24.0, 29.0, 2.0, 2.0, 7.0, 12.0, 37.0, 25.0, 45.0, 32.0, 4.0, 85.0, 29.0, 45.0, 28.0, 21.0, 37.0, 18.0, 68.0, 41.0, 5.0, 5.0, 5.0, 90.0, 44.0, 60.0, 58.0, 75.0, 3.0, 98.0, 7.0, 4.0, 23.0, 1.0, 11.0, 15.0, 76.0, 93.0, 4.0, 53.0, 60.0, 2.0, 3.0, 3.0, 22.0, 39.0, 8.0, 70.0, 75.0, 9.0, 4.0, 5.0, 4.0, 23.0, 51.0, 20.0, 5.0, 100.0, 42.0, 80.0, 4.0, 2.0, 114.0, 3.0, 54.0, 3.0, 1.0, 2.0, 21.0, 17.0, 11.0, 73.0, 44.0, 31.0, 74.0, 65.0, 86.0, 78.0, 3.0, 3.0, 60.0, 75.0, 3.0, 14.0, 44.0, 74.0, 20.0, 3.0, 55.0, 58.0, 29.0, 15.0, 6.0, 52.0, 5.0, 5.0, 10.0, 22.0, 20.0, 47.0, 11.0, 37.0, 65.0, 30.0, 1.0, 30.0, 12.0, 20.0, 2.0, 66.0, 50.0, 37.0, 48.0, 6.0, 6.0, 3.0, 0.0, 11.0, 71.0, 28.0, 75.0, 27.0, 23.0, 40.0, 93.0, 60.0, 80.0, 6.0, 5.0, 127.0, 40.0, 5.0, 11.0, 61.0, 10.0, 5.0, 3.0, 20.0, 7.0, 2.0, 55.0, 34.0, 6.0, 1.0, 5.0, 15.0, 42.0, 49.0, 100.0, 3.0, 59.0, 37.0, 42.0, 59.0, 1.0, 89.0, 27.0, 11.0, 121.0, 74.0, 61.0, 43.0, 44.0, 84.0, 25.0, 79.0, 48.0, 3.0, 12.0, 47.0, 14.0, 41.0, 60.0, 46.0, 49.0, 36.0, 55.0, 26.0, 9.0, 2.0, 100.0, 47.0, 52.0, 41.0, 7.0, 58.0, 21.0, 67.0, 89.0, 58.0, 61.0, 4.0, 29.0, 50.0, 18.0, 63.0, 38.0, 61.0, 33.0, 13.0, 2.0, 2.0, 29.0, 93.0, 63.0, 41.0, 39.0, 89.0, 3.0, 50.0, 75.0, 63.0, 10.0, 3.0, 11.0, 1.0, 4.0, 5.0, 45.0, 3.0, 29.0, 18.0, 1.0, 57.0, 11.0, 4.0, 10.0, 4.0, 2.0, 1.0, 5.0, 23.0, 41.0, 18.0, 2.0, 58.0, 29.0, 48.0, 58.0, 52.0, 66.0, 30.0, 12.0, 18.0, 25.0, 23.0, 60.0, 33.0, 22.0, 79.0, 10.0, 16.0, 41.0, 7.0, 22.0, 52.0, 68.0, 44.0, 97.0, 9.0, 1.0, 51.0, 50.0, 45.0, 27.0, 1.0, 0.0, 34.0, 56.0, 5.0, 52.0, 11.0, 2.0, 111.0, 3.0, 4.0, 38.0, 65.0, 2.0, 3.0, 2.0, 76.0, 118.0, 7.0, 17.0, 35.0, 10.0, 2.0, 3.0, 55.0, 2.0, 100.0, 98.0, 4.0, 25.0, 33.0, 82.0, 14.0, 31.0, 28.0, 16.0, 42.0, 39.0, 23.0, 34.0, 59.0, 1.0, 67.0, 6.0, 7.0, 74.0, 27.0, 61.0, 52.0, 24.0, 11.0, 2.0, 61.0, 52.0, 3.0, 11.0, 85.0, 43.0, 69.0, 46.0, 16.0, 40.0, 29.0, 12.0, 60.0, 32.0, 9.0, 55.0, 48.0, 7.0, 95.0, 16.0, 3.0, 35.0, 37.0, 67.0, 109.0, 9.0, 31.0, 58.0, 3.0, 68.0, 8.0, 52.0, 71.0, 44.0, 60.0, 22.0, 22.0, 46.0, 6.0, 31.0, 17.0, 67.0, 3.0, 63.0, 45.0, 32.0, 6.0, 24.0, 22.0, 32.0, 11.0, 57.0, 39.0, 12.0, 29.0, 77.0, 11.0, 10.0, 15.0, 4.0, 10.0, 17.0, 91.0, 32.0, 47.0, 35.0, 16.0, 31.0, 43.0, 10.0, 21.0, 55.0, 5.0, 13.0, 4.0, 22.0, 32.0, 44.0, 5.0, 13.0, 4.0, 50.0, 49.0, 44.0, 5.0, 64.0, 10.0, 3.0, 20.0, 9.0, 46.0, 9.0, 45.0, 8.0, 5.0, 47.0, 8.0, 58.0, 76.0, 4.0, 35.0, 11.0, 19.0, 3.0, 60.0, 34.0, 45.0, 18.0, 114.0, 20.0, 6.0, 27.0, 33.0, 35.0, 64.0, 28.0, 12.0, 0.0, 28.0, 3.0, 66.0, 74.0, 16.0, 72.0, 35.0, 44.0, 1.0, 33.0, 47.0, 48.0, 50.0, 58.0, 25.0, 59.0, 66.0, 12.0, 9.0, 42.0, 22.0, 3.0, 2.0, 49.0, 3.0, 28.0, 7.0, 65.0, 9.0, 61.0, 59.0, 55.0, 14.0, 2.0, 7.0, 2.0, 74.0, 54.0, 32.0, 31.0, 99.0, 56.0, 74.0, 21.0, 26.0, 65.0, 4.0, 108.0, 16.0, 84.0, 2.0, 35.0, 27.0, 104.0, 54.0, 61.0, 20.0, 89.0, 74.0, 60.0, 11.0, 42.0, 91.0, 51.0, 34.0, 82.0, 8.0, 61.0, 67.0, 47.0, 2.0, 5.0, 2.0, 72.0, 12.0, 6.0, 63.0, 4.0, 9.0, 70.0, 86.0, 47.0, 12.0, 3.0, 43.0, 6.0, 1.0, 7.0, 49.0, 47.0, 29.0, 39.0, 19.0, 63.0, 81.0, 19.0, 42.0, 109.0, 2.0, 3.0, 23.0, 29.0, 11.0, 2.0, 26.0, 66.0, 2.0, 65.0, 9.0, 12.0, 61.0, 75.0, 54.0, 20.0, 49.0, 0.0, 5.0, 34.0, 69.0, 14.0, 7.0, 1.0, 47.0, 4.0, 33.0, 80.0, 92.0, 8.0, 35.0, 24.0, 28.0, 7.0, 16.0, 2.0, 54.0, 16.0, 54.0, 60.0, 18.0, 3.0, 1.0, 2.0, 58.0, 9.0, 2.0, 64.0, 65.0, 45.0, 1.0, 3.0, 2.0, 67.0, 59.0, 55.0, 21.0, 94.0, 97.0, 24.0, 6.0, 61.0, 1.0, 38.0, 30.0, 3.0, 66.0, 7.0, 42.0, 4.0, 29.0, 39.0, 76.0, 43.0, 26.0, 27.0, 11.0, 9.0, 37.0, 60.0, 75.0, 79.0, 2.0, 6.0, 57.0, 43.0, 101.0, 23.0, 22.0, 44.0, 56.0, 27.0, 41.0, 34.0, 7.0, 10.0, 58.0, 57.0, 2.0, 44.0, 17.0, 4.0, 52.0, 44.0, 15.0, 19.0, 123.0, 72.0, 26.0, 4.0, 42.0, 61.0, 53.0, 42.0, 2.0, 3.0, 5.0, 64.0, 32.0, 48.0, 50.0, 68.0, 21.0, 12.0, 58.0, 9.0, 95.0, 34.0, 4.0, 60.0, 65.0, 54.0, 23.0, 16.0, 6.0, 26.0, 77.0, 44.0, 58.0, 14.0, 77.0, 124.0, 85.0, 18.0, 5.0, 13.0, 14.0, 15.0, 11.0, 47.0, 2.0, 56.0, 34.0, 36.0, 39.0, 59.0, 6.0, 37.0, 31.0, 28.0, 30.0, 17.0, 3.0, 36.0, 25.0, 16.0, 104.0, 56.0, 29.0, 23.0, 5.0, 5.0, 9.0, 120.0, 50.0, 3.0, 84.0, 61.0, 21.0, 28.0, 94.0, 5.0, 26.0, 35.0, 10.0, 64.0, 59.0, 64.0, 54.0, 7.0, 24.0, 92.0, 20.0, 13.0, 13.0, 16.0, 10.0, 36.0, 23.0, 30.0, 19.0, 5.0, 6.0, 43.0, 71.0, 9.0, 4.0, 9.0, 49.0, 9.0, 3.0, 7.0, 75.0, 16.0, 85.0, 51.0, 82.0, 5.0, 66.0, 35.0, 13.0, 89.0, 10.0, 62.0, 108.0, 21.0, 78.0, 55.0, 41.0, 8.0, 22.0, 7.0, 76.0, 42.0, 9.0, 13.0, 16.0, 45.0, 35.0, 10.0, 59.0, 17.0, 10.0, 2.0, 50.0, 53.0, 60.0, 21.0, 58.0, 68.0, 40.0, 16.0, 38.0, 34.0, 55.0, 9.0, 126.0, 37.0, 43.0, 1.0, 79.0, 58.0, 38.0, 36.0, 11.0, 6.0, 52.0, 3.0, 3.0, 14.0, 43.0, 4.0, 1.0, 57.0, 18.0, 26.0, 2.0, 3.0, 18.0, 63.0, 3.0, 56.0, 54.0, 74.0, 41.0, 61.0, 10.0, 63.0, 28.0, 18.0, 36.0, 11.0, 32.0, 28.0, 16.0, 60.0, 28.0, 54.0, 12.0, 29.0, 15.0, 5.0, 108.0, 8.0, 37.0, 8.0, 28.0, 117.0, 7.0, 2.0, 3.0, 67.0, 12.0, 5.0, 2.0, 70.0, 31.0, 2.0, 23.0, 50.0, 2.0, 51.0, 57.0, 0.0, 72.0, 12.0, 82.0, 58.0, 11.0, 61.0, 20.0, 46.0, 64.0, 1.0, 5.0, 2.0, 50.0, 11.0, 33.0, 19.0, 27.0, 4.0, 79.0, 7.0, 3.0, 33.0, 28.0, 34.0, 3.0, 125.0, 16.0, 1.0, 19.0, 50.0, 13.0, 14.0, 39.0, 38.0, 33.0, 92.0, 32.0, 63.0, 3.0, 43.0, 60.0, 96.0, 57.0, 58.0, 53.0, 66.0, 2.0, 1.0, 3.0, 15.0, 72.0, 2.0, 82.0, 26.0, 23.0, 4.0, 14.0, 17.0, 9.0, 24.0, 11.0, 6.0, 13.0, 2.0, 11.0, 5.0, 61.0, 16.0, 3.0, 39.0, 10.0, 2.0, 40.0, 22.0, 15.0, 41.0, 63.0, 3.0, 60.0, 19.0, 82.0, 6.0, 5.0, 7.0, 61.0, 22.0, 53.0, 2.0, 40.0, 29.0, 4.0, 12.0, 101.0, 43.0, 28.0, 11.0, 13.0, 32.0, 41.0, 4.0, 43.0, 64.0, 102.0, 113.0, 26.0, 3.0, 4.0, 31.0, 15.0, 55.0, 6.0, 57.0, 36.0, 14.0, 65.0, 94.0, 30.0, 19.0, 3.0, 5.0, 3.0, 34.0, 71.0, 11.0, 32.0, 7.0, 39.0, 62.0, 52.0, 47.0, 8.0, 34.0, 3.0, 11.0, 4.0, 17.0, 11.0, 1.0, 3.0, 1.0, 26.0, 15.0, 1.0, 53.0, 83.0, 71.0, 13.0, 74.0, 12.0, 27.0, 5.0, 18.0, 47.0, 55.0, 6.0, 36.0, 58.0, 67.0, 6.0, 39.0, 31.0, 64.0, 72.0, 7.0, 29.0, 75.0, 64.0, 46.0, 51.0, 2.0, 1.0, 49.0, 2.0, 2.0, 8.0, 2.0, 7.0, 16.0, 52.0, 80.0, 25.0, 24.0, 27.0, 9.0, 16.0, 45.0, 44.0, 2.0, 1.0, 51.0, 54.0, 24.0, 7.0, 3.0, 12.0, 36.0, 6.0, 38.0, 9.0, 69.0, 6.0, 42.0, 4.0, 14.0, 59.0, 35.0, 2.0, 9.0, 6.0, 84.0, 40.0, 66.0, 22.0, 54.0, 60.0, 60.0, 25.0, 4.0, 8.0, 29.0, 50.0, 69.0, 107.0, 10.0, 46.0, 48.0, 64.0, 59.0, 7.0, 97.0, 14.0, 93.0, 86.0, 27.0, 47.0, 62.0, 32.0, 36.0, 51.0, 9.0, 1.0, 6.0, 23.0, 58.0, 24.0, 59.0, 55.0, 36.0, 9.0, 60.0, 76.0, 58.0, 59.0, 70.0, 4.0, 32.0, 83.0, 21.0, 119.0, 57.0, 59.0, 61.0, 4.0, 37.0, 7.0, 105.0, 4.0, 8.0, 45.0, 2.0, 20.0, 102.0, 71.0, 25.0, 8.0, 26.0, 65.0, 54.0, 33.0, 29.0, 67.0, 34.0, 72.0, 62.0, 47.0, 27.0, 82.0, 43.0, 8.0, 66.0, 61.0, 46.0, 15.0, 14.0, 4.0, 6.0, 10.0, 39.0, 44.0, 24.0, 33.0, 61.0, 7.0, 46.0, 7.0, 1.0, 28.0, 19.0, 44.0, 81.0, 1.0, 21.0, 79.0, 52.0, 62.0, 60.0, 82.0, 94.0, 25.0, 7.0, 15.0, 13.0, 40.0, 41.0, 38.0, 47.0, 2.0, 1.0, 108.0, 5.0, 11.0, 67.0, 13.0, 21.0, 9.0, 7.0, 8.0, 25.0, 20.0, 6.0, 6.0, 63.0, 54.0, 4.0, 5.0, 28.0, 62.0, 75.0, 7.0, 77.0, 13.0, 3.0, 21.0, 13.0, 7.0, 11.0, 0.0, 15.0, 118.0, 9.0, 30.0, 61.0, 21.0, 37.0, 1.0, 28.0, 63.0, 13.0, 30.0, 25.0, 29.0, 39.0, 6.0, 14.0, 46.0, 3.0, 102.0, 5.0, 55.0, 20.0, 52.0, 1.0, 6.0, 11.0, 7.0, 28.0, 16.0, 34.0, 95.0, 38.0, 21.0, 35.0, 57.0, 15.0, 8.0, 17.0, 21.0, 62.0, 37.0, 16.0, 47.0, 10.0, 51.0, 34.0, 6.0, 42.0, 12.0, 21.0, 68.0, 13.0, 27.0, 8.0, 40.0, 47.0, 7.0, 12.0, 15.0, 3.0, 26.0, 21.0, 58.0, 0.0, 24.0, 2.0, 21.0, 10.0, 27.0, 30.0, 20.0, 27.0, 5.0, 4.0, 4.0, 3.0, 33.0, 3.0, 34.0, 4.0, 45.0, 1.0, 4.0, 14.0, 69.0, 16.0, 43.0, 1.0, 61.0, 39.0, 7.0, 6.0, 36.0, 86.0, 41.0, 5.0, 14.0, 20.0, 67.0, 10.0, 9.0, 94.0, 24.0, 58.0, 12.0, 26.0, 10.0, 33.0, 52.0, 11.0, 40.0, 31.0, 64.0, 24.0, 1.0, 53.0, 13.0, 8.0, 3.0, 22.0, 34.0, 2.0, 24.0, 45.0, 10.0, 7.0, 21.0, 15.0, 42.0, 50.0, 58.0, 50.0, 70.0, 21.0, 1.0, 40.0, 55.0, 6.0, 5.0, 27.0, 11.0, 2.0, 17.0, 110.0, 36.0, 7.0, 20.0, 46.0, 2.0, 16.0, 22.0, 14.0, 32.0, 31.0, 1.0, 56.0, 14.0, 28.0, 14.0, 2.0, 20.0, 10.0, 42.0, 2.0, 23.0, 51.0, 6.0, 34.0, 42.0, 4.0, 96.0, 41.0, 40.0, 1.0, 96.0, 21.0, 24.0, 61.0, 59.0, 48.0, 31.0, 21.0, 5.0, 21.0, 50.0, 25.0, 59.0, 11.0, 70.0, 74.0, 25.0, 14.0, 52.0, 1.0, 26.0, 58.0, 25.0, 46.0, 22.0, 3.0, 33.0, 21.0, 39.0, 33.0, 4.0, 1.0, 3.0, 60.0, 64.0, 4.0, 8.0, 1.0, 1.0, 2.0, 2.0, 65.0, 2.0, 36.0, 33.0, 74.0, 20.0, 8.0, 7.0, 58.0, 15.0, 17.0, 47.0, 29.0, 20.0, 18.0, 38.0, 10.0, 1.0, 31.0, 90.0, 1.0, 17.0, 29.0, 26.0, 1.0, 43.0, 31.0, 47.0, 99.0, 21.0, 5.0, 29.0, 26.0, 39.0, 42.0, 49.0, 22.0, 32.0, 20.0, 4.0, 30.0, 35.0, 5.0, 62.0, 51.0, 50.0, 31.0, 55.0, 33.0, 34.0, 39.0, 6.0, 5.0, 4.0, 8.0, 1.0, 56.0, 40.0, 109.0, 34.0, 41.0, 56.0, 31.0, 31.0, 4.0, 12.0, 69.0, 27.0, 38.0, 1.0, 33.0, 56.0, 2.0, 57.0, 61.0, 112.0, 35.0, 20.0, 36.0, 9.0, 36.0, 23.0, 13.0, 36.0, 46.0, 4.0, 53.0, 62.0, 16.0, 14.0, 12.0, 24.0, 43.0, 12.0, 35.0, 14.0, 19.0, 22.0, 57.0, 1.0, 22.0, 16.0, 45.0, 9.0, 56.0, 15.0, 1.0, 1.0, 28.0, 3.0, 15.0, 43.0, 62.0, 31.0, 43.0, 47.0, 20.0, 2.0, 16.0, 46.0, 20.0, 34.0, 41.0, 57.0, 43.0, 67.0, 115.0, 61.0, 2.0, 105.0, 53.0, 56.0, 46.0, 82.0, 9.0, 20.0, 62.0, 4.0, 93.0, 63.0, 65.0, 54.0, 27.0, 39.0, 26.0, 73.0, 44.0, 8.0, 10.0, 15.0, 59.0, 15.0, 38.0, 7.0, 58.0, 30.0, 5.0, 15.0, 32.0, 41.0, 56.0, 53.0, 32.0, 4.0, 4.0, 78.0, 1.0, 87.0, 66.0, 58.0, 5.0, 99.0, 35.0, 33.0, 13.0, 82.0, 13.0, 4.0, 3.0, 4.0, 51.0, 45.0, 4.0, 2.0, 17.0, 1.0, 3.0, 23.0, 8.0, 7.0, 11.0, 6.0, 7.0, 3.0, 5.0, 27.0, 2.0, 2.0, 2.0, 15.0, 7.0, 6.0, 14.0, 5.0, 1.0, 2.0, 2.0, 6.0, 5.0, 1.0, 4.0, 10.0, 9.0, 21.0, 6.0, 16.0, 3.0, 12.0, 19.0, 8.0, 8.0, 1.0, 51.0, 112.0, 11.0, 36.0, 18.0, 48.0, 47.0, 28.0, 28.0, 37.0, 40.0, 58.0, 21.0, 20.0, 60.0, 7.0, 35.0, 5.0, 2.0, 2.0, 49.0, 3.0, 43.0, 34.0, 2.0, 1.0, 1.0, 1.0, 3.0, 5.0, 26.0, 24.0, 56.0, 2.0, 40.0, 61.0, 55.0, 44.0, 41.0, 22.0, 2.0, 2.0, 61.0, 28.0, 29.0, 43.0, 32.0, 8.0, 7.0, 2.0, 43.0, 6.0, 18.0, 20.0, 48.0, 23.0, 22.0, 44.0, 46.0, 61.0, 83.0, 60.0, 82.0, 5.0, 3.0, 3.0, 64.0, 51.0, 18.0, 3.0, 93.0, 3.0, 27.0, 61.0, 31.0, 3.0, 60.0, 81.0, 4.0, 55.0, 20.0, 76.0, 3.0, 4.0, 49.0, 55.0, 3.0, 4.0, 3.0, 66.0, 3.0, 57.0, 2.0, 2.0, 15.0, 52.0, 48.0, 26.0, 38.0, 37.0, 16.0, 88.0, 34.0, 59.0, 7.0, 65.0, 37.0, 58.0, 123.0, 26.0, 19.0, 22.0, 9.0, 12.0, 56.0, 21.0, 12.0, 12.0, 57.0, 70.0, 3.0, 41.0, 81.0, 62.0, 65.0, 8.0, 53.0, 37.0, 33.0, 21.0, 1.0, 1.0, 0.0, 117.0, 45.0, 10.0, 4.0, 1.0, 1.0, 3.0, 16.0, 4.0, 5.0, 9.0, 2.0, 1.0, 42.0, 60.0, 11.0, 12.0, 14.0, 79.0, 3.0, 31.0, 15.0, 18.0, 2.0, 2.0, 3.0, 19.0, 5.0, 15.0, 2.0, 6.0, 9.0, 41.0, 1.0, 14.0, 56.0, 6.0, 9.0, 7.0, 1.0, 33.0, 56.0, 55.0, 21.0, 41.0, 23.0, 58.0, 28.0, 12.0, 21.0, 13.0, 18.0, 85.0, 44.0, 22.0, 59.0, 38.0, 18.0, 34.0, 75.0, 79.0, 30.0, 38.0, 21.0, 43.0, 22.0, 57.0, 75.0, 30.0, 9.0, 61.0, 22.0, 3.0, 1.0, 9.0, 53.0, 34.0, 54.0, 3.0, 63.0, 58.0, 55.0, 50.0, 4.0, 19.0, 59.0, 17.0, 35.0, 27.0, 2.0, 50.0, 12.0, 13.0, 121.0, 8.0, 37.0, 21.0, 16.0, 5.0, 4.0, 4.0, 57.0, 52.0, 69.0, 41.0, 12.0, 46.0, 60.0, 68.0, 40.0, 84.0, 38.0, 60.0, 47.0, 64.0, 59.0, 20.0, 45.0, 68.0, 81.0, 14.0, 35.0, 1.0, 75.0, 1.0, 50.0, 116.0, 36.0, 2.0, 51.0, 69.0, 86.0, 4.0, 108.0, 105.0, 33.0, 4.0, 1.0, 3.0, 18.0, 23.0, 3.0, 61.0, 30.0, 9.0, 49.0, 5.0, 118.0, 33.0, 30.0, 24.0, 23.0, 18.0, 26.0, 23.0, 18.0, 67.0, 43.0, 58.0, 57.0, 9.0, 6.0, 13.0, 69.0, 73.0, 41.0, 16.0, 47.0, 31.0, 55.0, 6.0, 51.0, 77.0, 106.0, 14.0, 67.0, 59.0, 5.0, 52.0, 17.0, 45.0, 21.0, 41.0, 63.0, 9.0, 2.0, 4.0, 2.0, 8.0, 2.0, 84.0, 33.0, 45.0, 51.0, 3.0, 22.0, 52.0, 25.0, 33.0, 5.0, 11.0, 3.0, 31.0, 50.0, 16.0, 30.0, 4.0, 32.0, 53.0, 61.0, 37.0, 18.0, 2.0, 13.0, 48.0, 20.0, 9.0, 10.0, 65.0, 18.0, 30.0, 11.0, 51.0, 6.0, 3.0, 13.0, 1.0, 35.0, 14.0, 59.0, 100.0, 60.0, 42.0, 31.0, 4.0, 38.0, 45.0, 7.0, 8.0, 23.0, 46.0, 34.0, 47.0, 61.0, 59.0, 51.0, 18.0, 27.0, 33.0, 66.0, 8.0, 33.0, 24.0, 10.0, 5.0, 4.0, 41.0, 39.0, 6.0, 36.0, 1.0, 11.0, 8.0, 5.0, 15.0, 59.0, 2.0, 55.0, 1.0, 28.0, 2.0, 29.0, 19.0, 2.0, 8.0, 4.0, 45.0, 22.0, 2.0, 7.0, 71.0, 3.0, 3.0, 22.0, 5.0, 39.0, 11.0, 6.0, 2.0, 61.0, 14.0, 4.0, 36.0, 22.0, 11.0, 43.0, 3.0, 47.0, 8.0, 71.0, 58.0, 25.0, 104.0, 2.0, 38.0, 23.0, 28.0, 40.0, 57.0, 48.0, 6.0, 82.0, 70.0, 50.0, 24.0, 17.0, 1.0, 91.0, 21.0, 1.0, 3.0, 3.0, 5.0, 2.0, 15.0, 60.0, 7.0, 8.0, 28.0, 2.0, 19.0, 60.0, 19.0, 13.0, 52.0, 3.0, 1.0, 2.0, 5.0, 3.0, 17.0, 8.0, 12.0, 10.0, 5.0, 7.0, 58.0, 2.0, 9.0, 35.0, 49.0, 27.0, 28.0, 4.0, 39.0, 3.0, 9.0, 2.0, 18.0, 18.0, 4.0, 34.0, 9.0, 12.0, 3.0, 2.0, 39.0, 38.0, 3.0, 36.0, 3.0, 2.0, 6.0, 72.0, 9.0, 1.0, 47.0, 14.0, 16.0, 2.0, 6.0, 5.0, 6.0, 25.0, 18.0, 6.0, 65.0, 4.0, 47.0, 9.0, 27.0, 58.0, 62.0, 29.0, 10.0, 35.0, 30.0, 60.0, 50.0, 53.0, 14.0, 4.0, 10.0, 34.0, 10.0, 3.0, 49.0, 6.0, 8.0, 57.0, 74.0, 8.0, 22.0, 60.0, 20.0, 26.0, 82.0, 4.0, 7.0, 23.0, 7.0, 37.0, 7.0, 13.0, 67.0, 8.0, 30.0, 32.0, 120.0, 7.0, 4.0, 15.0, 23.0, 8.0, 26.0, 33.0, 56.0, 3.0, 35.0, 33.0, 36.0, 17.0, 104.0, 1.0, 7.0, 41.0, 3.0, 37.0, 31.0, 3.0, 44.0, 110.0, 3.0, 54.0, 19.0, 29.0, 11.0, 82.0, 18.0, 5.0, 32.0, 71.0, 112.0, 30.0, 26.0, 7.0, 30.0, 5.0, 11.0, 2.0, 3.0, 64.0, 27.0, 61.0, 3.0, 62.0, 22.0, 43.0, 114.0, 34.0, 53.0, 13.0, 61.0, 34.0, 34.0, 3.0, 123.0, 91.0, 29.0, 32.0, 25.0, 21.0, 19.0, 39.0, 2.0, 23.0, 32.0, 58.0, 23.0, 47.0, 24.0, 14.0, 57.0, 9.0, 38.0, 3.0, 36.0, 17.0, 60.0, 6.0, 60.0, 11.0, 4.0, 6.0, 57.0, 7.0, 97.0, 40.0, 23.0, 2.0, 39.0, 35.0, 57.0, 104.0, 1.0, 21.0, 34.0, 71.0, 16.0, 29.0, 21.0, 52.0, 5.0, 13.0, 4.0, 42.0, 42.0, 7.0, 26.0, 65.0, 9.0, 71.0, 3.0, 4.0, 43.0, 3.0, 11.0, 60.0, 14.0, 26.0, 3.0, 54.0, 44.0, 57.0, 22.0, 25.0, 16.0, 6.0, 45.0, 67.0, 8.0, 24.0, 27.0, 38.0, 6.0, 36.0, 8.0, 25.0, 41.0, 53.0, 33.0, 4.0, 75.0, 29.0, 62.0, 43.0, 31.0, 9.0, 102.0, 12.0, 8.0, 61.0, 62.0, 8.0, 41.0, 16.0, 7.0, 50.0, 22.0, 27.0, 65.0, 2.0, 27.0, 51.0, 47.0, 81.0, 31.0, 14.0, 44.0, 17.0, 61.0, 3.0, 60.0, 16.0, 58.0, 3.0, 66.0, 47.0, 88.0, 10.0, 16.0, 77.0, 31.0, 21.0, 51.0, 56.0, 2.0, 6.0, 37.0, 37.0, 39.0, 31.0, 27.0, 58.0, 15.0, 12.0, 12.0, 61.0, 45.0, 31.0, 12.0, 11.0, 58.0, 30.0, 49.0, 69.0, 31.0, 44.0, 74.0, 45.0, 23.0, 18.0, 50.0, 40.0, 91.0, 54.0, 31.0, 25.0, 62.0, 50.0, 60.0, 3.0, 1.0, 2.0, 6.0, 5.0, 51.0, 36.0, 5.0, 2.0, 20.0, 14.0, 6.0, 4.0, 8.0, 18.0, 2.0, 64.0, 8.0, 8.0, 27.0, 9.0, 15.0, 32.0, 72.0, 63.0, 24.0, 20.0, 47.0, 22.0, 1.0, 3.0, 25.0, 25.0, 4.0, 78.0, 57.0, 36.0, 8.0, 3.0, 20.0, 100.0, 37.0, 25.0, 61.0, 17.0, 48.0, 15.0, 90.0, 24.0, 24.0, 47.0, 44.0, 16.0, 63.0, 11.0, 51.0, 38.0, 20.0, 11.0, 14.0, 28.0, 14.0, 57.0, 34.0, 93.0, 50.0, 11.0, 5.0, 59.0, 35.0, 6.0, 59.0, 43.0, 4.0, 12.0, 38.0, 29.0, 40.0, 55.0, 31.0, 8.0, 47.0, 13.0, 1.0, 22.0, 46.0, 6.0, 41.0, 74.0, 3.0, 4.0, 6.0, 13.0, 1.0, 92.0, 25.0, 11.0, 11.0, 59.0, 20.0, 15.0, 8.0, 3.0, 3.0, 45.0, 30.0, 5.0, 26.0, 53.0, 46.0, 15.0, 6.0, 19.0, 25.0, 5.0, 63.0, 37.0, 14.0, 20.0, 5.0, 4.0, 32.0, 37.0, 66.0, 39.0, 22.0, 26.0, 59.0, 18.0, 1.0, 47.0, 49.0, 33.0, 6.0, 92.0, 34.0, 43.0, 79.0, 22.0, 17.0, 43.0, 18.0, 30.0, 48.0, 29.0, 65.0, 2.0, 31.0, 36.0, 37.0, 20.0, 76.0, 8.0, 4.0, 6.0, 45.0, 58.0, 12.0, 44.0, 116.0, 32.0, 30.0, 8.0, 37.0, 119.0, 11.0, 46.0, 45.0, 28.0, 7.0, 58.0, 46.0, 25.0, 16.0, 3.0, 7.0, 3.0, 58.0, 5.0, 11.0, 26.0, 55.0, 36.0, 44.0, 82.0, 66.0, 11.0, 57.0, 9.0, 45.0, 49.0, 20.0, 1.0, 50.0, 11.0, 17.0, 106.0, 7.0, 7.0, 18.0, 59.0, 29.0, 44.0, 4.0, 30.0, 20.0, 82.0, 16.0, 2.0, 66.0, 65.0, 8.0, 47.0, 17.0, 59.0, 70.0, 55.0, 33.0, 16.0, 2.0, 28.0, 21.0, 42.0, 29.0, 8.0, 2.0, 59.0, 21.0, 60.0, 48.0, 70.0, 5.0, 13.0, 21.0, 21.0, 35.0, 13.0, 17.0, 2.0, 22.0, 21.0, 13.0, 21.0, 14.0, 33.0, 71.0, 2.0, 2.0, 2.0, 28.0, 2.0, 65.0, 72.0, 47.0, 12.0, 28.0, 18.0, 2.0, 19.0, 13.0, 43.0, 99.0, 34.0, 56.0, 120.0, 37.0, 52.0, 1.0, 19.0, 4.0, 33.0, 100.0, 23.0, 2.0, 36.0, 2.0, 10.0, 37.0, 2.0, 52.0, 93.0, 13.0, 4.0, 77.0, 46.0, 40.0, 56.0, 4.0, 65.0, 34.0, 47.0, 127.0, 58.0, 12.0, 14.0, 39.0, 1.0, 82.0, 32.0, 2.0, 54.0, 2.0, 48.0, 3.0, 46.0, 5.0, 60.0, 63.0, 75.0, 44.0, 11.0, 9.0, 48.0, 23.0, 37.0, 26.0, 105.0, 3.0, 104.0, 47.0, 23.0, 5.0, 61.0, 85.0, 35.0, 41.0, 57.0, 3.0, 20.0, 16.0, 2.0, 32.0, 112.0, 5.0, 31.0, 2.0, 3.0, 1.0, 9.0, 1.0, 12.0, 4.0, 1.0, 3.0, 11.0, 14.0, 7.0, 2.0, 65.0, 3.0, 2.0, 9.0, 11.0, 12.0, 67.0, 5.0, 20.0, 7.0, 36.0, 2.0, 18.0, 1.0, 53.0, 16.0, 39.0, 36.0, 1.0, 6.0, 50.0, 11.0, 32.0, 4.0, 17.0, 13.0, 62.0, 36.0, 100.0, 2.0, 3.0, 25.0, 4.0, 41.0, 6.0, 5.0, 35.0, 44.0, 42.0, 27.0, 59.0, 40.0, 24.0, 56.0, 89.0, 17.0, 54.0, 81.0, 2.0, 26.0, 34.0, 16.0, 5.0, 2.0, 32.0, 72.0, 24.0, 27.0, 13.0, 27.0, 14.0, 8.0, 10.0, 18.0, 8.0, 52.0, 9.0, 1.0, 48.0, 3.0, 2.0, 9.0, 31.0, 25.0, 33.0, 58.0, 25.0, 94.0, 36.0, 84.0, 4.0, 25.0, 20.0, 32.0, 41.0, 36.0, 6.0, 5.0, 5.0, 14.0, 28.0, 22.0, 86.0, 58.0, 19.0, 27.0, 32.0, 42.0, 4.0, 4.0, 40.0, 3.0, 2.0, 3.0, 60.0, 33.0, 16.0, 2.0, 14.0, 36.0, 45.0, 7.0, 4.0, 2.0, 3.0, 3.0, 2.0, 1.0, 47.0, 21.0, 5.0, 48.0, 25.0, 21.0, 43.0, 53.0, 26.0, 58.0, 11.0, 3.0, 13.0, 26.0, 39.0, 56.0, 30.0, 2.0, 8.0, 24.0, 16.0, 19.0, 31.0, 18.0, 49.0, 36.0, 43.0, 27.0, 122.0, 22.0, 68.0, 34.0, 14.0, 2.0, 24.0, 7.0, 9.0, 24.0, 10.0, 21.0, 60.0, 7.0, 5.0, 3.0, 13.0, 1.0, 1.0, 1.0, 2.0, 6.0, 36.0, 44.0, 4.0, 8.0, 18.0, 54.0, 9.0, 41.0, 66.0, 51.0, 101.0, 63.0, 119.0, 49.0, 23.0, 84.0, 21.0, 22.0, 42.0, 50.0, 89.0, 15.0, 121.0, 120.0, 10.0, 35.0, 5.0, 41.0, 105.0, 35.0, 20.0, 8.0, 2.0, 50.0, 28.0, 2.0, 4.0, 47.0, 39.0, 10.0, 9.0, 40.0, 7.0, 1.0, 23.0, 6.0, 61.0, 13.0, 2.0, 28.0, 47.0, 60.0, 29.0, 11.0, 37.0, 99.0, 39.0, 20.0, 4.0, 1.0, 5.0, 3.0, 1.0, 59.0, 36.0, 54.0, 36.0, 15.0, 62.0, 71.0, 7.0, 52.0, 85.0, 4.0, 57.0, 8.0, 40.0, 3.0, 48.0, 3.0, 28.0, 9.0, 59.0, 21.0, 23.0, 68.0, 20.0, 69.0, 12.0, 40.0, 1.0, 65.0, 52.0, 17.0, 89.0, 13.0, 51.0, 5.0, 61.0, 11.0, 16.0, 2.0, 21.0, 51.0, 28.0, 5.0, 34.0, 23.0, 22.0, 44.0, 52.0, 13.0, 45.0, 37.0, 14.0, 15.0, 25.0, 67.0, 7.0, 81.0, 59.0, 3.0, 47.0, 25.0, 100.0, 8.0, 26.0, 22.0, 11.0, 4.0, 9.0, 5.0, 16.0, 54.0, 60.0, 6.0, 1.0, 45.0, 14.0, 5.0, 56.0, 36.0, 10.0, 5.0, 17.0, 57.0, 4.0, 7.0, 117.0, 1.0, 33.0, 41.0, 1.0, 126.0, 38.0, 7.0, 26.0, 24.0, 2.0, 54.0, 23.0, 1.0, 2.0, 7.0, 65.0, 28.0, 1.0, 1.0, 126.0, 11.0, 8.0, 17.0, 16.0, 55.0, 1.0, 72.0, 3.0, 40.0, 4.0, 29.0, 68.0, 53.0, 103.0, 2.0, 2.0, 36.0, 112.0, 22.0, 2.0, 6.0, 15.0, 0.0, 1.0, 0.0, 0.0, 1.0, 1.0, 0.0, 2.0, 88.0, 4.0, 1.0, 16.0, 19.0, 1.0, 60.0, 77.0, 4.0, 3.0, 39.0, 4.0, 40.0, 20.0, 10.0, 5.0, 5.0, 31.0, 16.0, 37.0, 12.0, 64.0, 9.0, 3.0, 36.0, 14.0, 75.0, 21.0, 6.0, 19.0, 13.0, 21.0, 57.0, 9.0, 3.0, 3.0, 4.0, 75.0, 22.0, 7.0, 2.0, 14.0, 1.0, 27.0, 8.0, 3.0, 71.0, 2.0, 1.0, 3.0, 33.0, 1.0, 1.0, 63.0, 3.0, 3.0, 1.0, 10.0, 38.0, 3.0, 66.0, 24.0, 5.0, 2.0, 18.0, 25.0, 1.0, 18.0, 50.0, 79.0, 27.0, 1.0, 4.0, 11.0, 54.0, 82.0, 18.0, 8.0, 19.0, 3.0, 93.0, 13.0, 59.0, 19.0, 54.0, 37.0, 29.0, 28.0, 8.0, 27.0, 2.0, 55.0, 88.0, 27.0, 57.0, 5.0, 6.0, 50.0, 30.0, 47.0, 46.0, 1.0, 0.0, 1.0, 2.0, 43.0, 49.0, 34.0, 54.0, 4.0, 5.0, 42.0, 12.0, 3.0, 49.0, 82.0, 67.0, 3.0, 3.0, 7.0, 34.0, 2.0, 15.0, 25.0, 19.0, 20.0, 19.0, 16.0, 13.0, 40.0, 65.0, 3.0, 83.0, 2.0, 2.0, 15.0, 30.0, 78.0, 41.0, 1.0, 19.0, 26.0, 6.0, 63.0, 45.0, 7.0, 35.0, 82.0, 50.0, 2.0, 3.0, 57.0, 113.0, 24.0, 70.0, 55.0, 51.0, 75.0, 11.0, 38.0, 7.0, 12.0, 12.0, 51.0, 32.0, 18.0, 33.0, 97.0, 1.0, 105.0, 10.0, 5.0, 18.0, 3.0, 68.0, 1.0, 2.0, 5.0, 65.0, 34.0, 4.0, 28.0, 50.0, 38.0, 2.0, 11.0, 5.0, 24.0, 5.0, 1.0, 90.0, 29.0, 4.0, 2.0, 14.0, 5.0, 87.0, 5.0, 64.0, 2.0, 66.0, 62.0, 1.0, 7.0, 1.0, 57.0, 58.0, 0.0, 0.0, 1.0, 106.0, 42.0, 24.0, 13.0, 39.0, 7.0, 83.0, 35.0, 13.0, 2.0, 15.0, 3.0, 17.0, 3.0, 1.0, 126.0, 101.0, 4.0, 6.0, 2.0, 3.0, 1.0, 2.0, 7.0, 52.0, 3.0, 16.0, 3.0, 53.0, 18.0, 55.0, 3.0, 35.0, 3.0, 16.0, 4.0, 2.0, 30.0, 20.0, 34.0, 31.0, 16.0, 29.0, 6.0, 2.0, 48.0, 38.0, 20.0, 23.0, 49.0, 39.0, 107.0, 1.0, 6.0, 10.0, 27.0, 60.0, 102.0, 42.0, 1.0, 21.0, 80.0, 20.0, 44.0, 19.0, 8.0, 15.0, 7.0, 5.0, 3.0, 37.0, 21.0, 2.0, 2.0, 2.0, 8.0, 1.0, 20.0, 4.0, 11.0, 95.0, 4.0, 35.0, 58.0, 3.0, 33.0, 69.0, 3.0, 13.0, 22.0, 29.0, 54.0, 7.0, 47.0, 33.0, 38.0, 53.0, 2.0, 69.0, 66.0, 10.0, 38.0, 31.0, 26.0, 61.0, 18.0, 12.0, 2.0, 15.0, 19.0, 17.0, 103.0, 16.0, 3.0, 13.0, 3.0, 7.0, 7.0, 14.0, 29.0, 21.0, 40.0, 16.0, 55.0, 7.0, 87.0, 6.0, 38.0, 8.0, 4.0, 18.0, 28.0, 43.0, 27.0, 56.0, 58.0, 1.0, 25.0, 34.0, 8.0, 74.0, 1.0, 9.0, 4.0, 74.0, 14.0, 30.0, 93.0, 83.0, 56.0, 23.0, 61.0, 7.0, 47.0, 66.0, 3.0, 44.0, 28.0, 41.0, 56.0, 21.0, 62.0, 40.0, 38.0, 22.0, 8.0, 3.0, 13.0, 8.0, 36.0, 22.0, 5.0, 6.0, 2.0, 3.0, 109.0, 20.0, 54.0, 52.0, 3.0, 74.0, 4.0, 85.0, 43.0, 20.0, 1.0, 3.0, 120.0, 84.0, 7.0, 10.0, 35.0, 72.0, 68.0, 2.0, 51.0, 45.0, 10.0, 3.0, 75.0, 63.0, 92.0, 66.0, 78.0, 7.0, 19.0, 58.0, 83.0, 32.0, 61.0, 48.0, 44.0, 103.0, 10.0, 3.0, 14.0, 11.0, 3.0, 13.0, 5.0, 4.0, 20.0, 1.0, 24.0, 3.0, 27.0, 6.0, 10.0, 6.0, 2.0, 29.0, 1.0, 33.0, 28.0, 31.0, 23.0, 70.0, 44.0, 2.0, 44.0, 38.0, 3.0, 24.0, 3.0, 5.0, 44.0, 33.0, 2.0, 78.0, 57.0, 44.0, 44.0, 4.0, 74.0, 33.0, 63.0, 58.0, 124.0, 25.0, 43.0, 70.0, 12.0, 44.0, 60.0, 13.0, 24.0, 36.0, 36.0, 9.0, 56.0, 66.0, 13.0, 59.0, 75.0, 31.0, 30.0, 4.0, 14.0, 88.0, 2.0, 2.0, 2.0, 67.0, 65.0, 47.0, 2.0, 49.0, 12.0, 25.0, 2.0, 64.0, 2.0, 32.0, 35.0, 16.0, 119.0, 52.0, 1.0, 41.0, 57.0, 70.0, 21.0, 49.0, 4.0, 101.0, 8.0, 24.0, 1.0, 10.0, 9.0, 37.0, 65.0, 7.0, 40.0, 88.0, 53.0, 14.0, 3.0, 94.0, 68.0, 5.0, 64.0, 11.0, 31.0, 57.0, 56.0, 1.0, 5.0, 39.0, 59.0, 26.0, 3.0, 33.0, 71.0, 32.0, 55.0, 11.0, 98.0, 2.0, 4.0, 51.0, 22.0, 3.0, 4.0, 5.0, 7.0, 57.0, 25.0, 2.0, 4.0, 2.0, 2.0, 1.0, 5.0, 3.0, 56.0, 21.0, 43.0, 38.0, 30.0, 34.0, 45.0, 3.0, 45.0, 19.0, 8.0, 5.0, 27.0, 4.0, 14.0, 49.0, 2.0, 28.0, 1.0, 2.0, 38.0, 3.0, 13.0, 54.0, 59.0, 45.0, 3.0, 42.0, 17.0, 1.0, 56.0, 48.0, 66.0, 2.0, 34.0, 58.0, 32.0, 6.0, 17.0, 2.0, 27.0, 100.0, 55.0, 37.0, 75.0, 33.0, 121.0, 47.0, 8.0, 36.0, 21.0, 21.0, 8.0, 63.0, 68.0, 15.0, 18.0, 43.0, 24.0, 55.0, 15.0, 60.0, 122.0, 37.0, 3.0, 22.0, 7.0, 33.0, 22.0, 44.0, 30.0, 59.0, 10.0, 58.0, 21.0, 103.0, 30.0, 15.0, 45.0, 74.0, 5.0, 21.0, 75.0, 73.0, 23.0, 48.0, 2.0, 25.0, 25.0, 44.0, 16.0, 45.0, 110.0, 30.0, 3.0, 1.0, 10.0, 3.0, 10.0, 2.0, 1.0, 2.0, 38.0, 50.0, 53.0, 57.0, 38.0, 56.0, 53.0, 21.0, 79.0, 21.0, 61.0, 32.0, 60.0, 34.0, 102.0, 33.0, 11.0, 96.0, 5.0, 59.0, 2.0, 3.0, 53.0, 63.0, 8.0, 43.0, 5.0, 50.0, 3.0, 24.0, 10.0, 2.0, 65.0, 14.0, 59.0, 5.0, 5.0, 16.0, 42.0, 5.0, 7.0, 73.0, 17.0, 33.0, 30.0, 10.0, 6.0, 39.0, 72.0, 90.0, 25.0, 30.0, 16.0, 27.0, 43.0, 33.0, 23.0, 37.0, 48.0, 6.0, 59.0, 43.0, 2.0, 22.0, 20.0, 60.0, 50.0, 44.0, 55.0, 7.0, 5.0, 46.0, 28.0, 1.0, 35.0, 21.0, 16.0, 15.0, 60.0, 20.0, 19.0, 54.0, 86.0, 10.0, 28.0, 12.0, 47.0, 33.0, 3.0, 68.0, 62.0, 90.0, 32.0, 4.0, 3.0, 74.0, 38.0, 4.0, 20.0, 35.0, 39.0, 3.0, 23.0, 37.0, 59.0, 22.0, 51.0, 63.0, 61.0, 3.0, 45.0, 46.0, 35.0, 53.0, 6.0, 9.0, 4.0, 45.0, 39.0, 32.0, 57.0, 2.0, 20.0, 5.0, 61.0, 2.0, 1.0, 4.0, 5.0, 38.0, 1.0, 11.0, 42.0, 12.0, 13.0, 63.0, 38.0, 13.0, 4.0, 21.0, 8.0, 67.0, 8.0, 3.0, 40.0, 21.0, 49.0, 29.0, 38.0, 7.0, 19.0, 7.0, 2.0, 51.0, 27.0, 55.0, 11.0, 3.0, 37.0, 18.0, 7.0, 44.0, 7.0, 87.0, 34.0, 16.0, 3.0, 38.0, 43.0, 9.0, 49.0, 42.0, 1.0, 2.0, 18.0, 1.0, 1.0, 17.0, 2.0, 15.0, 5.0, 7.0, 5.0, 3.0, 3.0, 3.0, 21.0, 2.0, 48.0, 14.0, 41.0, 44.0, 4.0, 23.0, 41.0, 36.0, 85.0, 1.0, 20.0, 23.0, 3.0, 93.0, 41.0, 9.0, 84.0, 3.0, 14.0, 75.0, 2.0, 5.0, 42.0, 101.0, 3.0, 68.0, 16.0, 1.0, 70.0, 49.0, 59.0, 12.0, 62.0, 19.0, 15.0, 1.0, 9.0, 3.0, 8.0, 16.0, 30.0, 28.0, 45.0, 41.0, 9.0, 13.0, 48.0, 2.0, 1.0, 0.0, 1.0, 4.0, 25.0, 8.0, 20.0, 18.0, 18.0, 56.0, 4.0, 63.0, 37.0, 26.0, 8.0, 35.0, 4.0, 101.0, 44.0, 21.0, 58.0, 42.0, 38.0, 21.0, 57.0, 41.0, 9.0, 32.0, 25.0, 8.0, 17.0, 5.0, 40.0, 17.0, 33.0, 4.0, 34.0, 32.0, 36.0, 55.0, 55.0, 32.0, 2.0, 2.0, 16.0, 3.0, 30.0, 60.0, 46.0, 48.0, 58.0, 65.0, 8.0, 25.0, 60.0, 7.0, 1.0, 17.0, 45.0, 22.0, 48.0, 9.0, 65.0, 27.0, 24.0, 41.0, 39.0, 50.0, 66.0, 56.0, 59.0, 45.0, 30.0, 7.0, 48.0, 39.0, 11.0, 3.0, 15.0, 39.0, 45.0, 4.0, 10.0, 48.0, 46.0, 107.0, 60.0, 34.0, 12.0, 96.0, 69.0, 85.0, 19.0, 60.0, 30.0, 62.0, 95.0, 75.0, 42.0, 51.0, 13.0, 5.0, 22.0, 42.0, 22.0, 79.0, 15.0, 2.0, 57.0, 29.0, 6.0, 27.0, 38.0, 39.0, 70.0, 31.0, 28.0, 57.0, 9.0, 60.0, 2.0, 8.0, 14.0, 22.0, 38.0, 34.0, 35.0, 61.0, 55.0, 115.0, 61.0, 25.0, 6.0, 53.0, 22.0, 122.0, 22.0, 4.0, 3.0, 43.0, 6.0, 108.0, 4.0, 4.0, 37.0, 49.0, 43.0, 62.0, 59.0, 30.0, 54.0, 47.0, 30.0, 64.0, 61.0, 52.0, 10.0, 14.0, 56.0, 48.0, 1.0, 55.0, 4.0, 68.0, 14.0, 52.0, 49.0, 14.0, 84.0, 29.0, 14.0, 46.0, 24.0, 34.0, 58.0, 52.0, 6.0, 38.0, 3.0, 58.0, 70.0, 83.0, 7.0, 41.0, 111.0, 52.0, 46.0, 64.0, 18.0, 21.0, 36.0, 67.0, 4.0, 29.0, 39.0, 3.0, 64.0, 14.0, 37.0, 2.0, 4.0, 79.0, 4.0, 62.0, 28.0, 13.0, 56.0, 77.0, 16.0, 35.0, 8.0, 13.0, 82.0, 5.0, 31.0, 93.0, 1.0, 45.0, 79.0, 110.0, 1.0, 1.0, 64.0, 74.0, 3.0, 55.0, 113.0, 121.0, 30.0, 72.0, 4.0, 7.0, 18.0, 22.0, 61.0, 27.0, 57.0, 1.0, 124.0, 57.0, 44.0, 10.0, 113.0, 78.0, 17.0, 48.0, 2.0, 9.0, 73.0, 42.0, 65.0, 55.0, 21.0, 22.0, 17.0, 2.0, 56.0, 12.0, 56.0, 30.0, 57.0, 6.0, 59.0, 16.0, 2.0, 20.0, 2.0, 73.0, 127.0, 60.0, 51.0, 1.0, 4.0, 11.0, 5.0, 69.0, 26.0, 74.0, 32.0, 55.0, 42.0, 125.0, 9.0, 41.0, 3.0, 4.0, 3.0, 69.0, 9.0, 1.0, 47.0, 9.0, 57.0, 16.0, 52.0, 26.0, 61.0, 2.0, 1.0, 67.0, 1.0, 1.0, 54.0, 40.0, 115.0, 13.0, 60.0, 64.0, 1.0, 6.0, 90.0, 2.0, 64.0, 27.0, 77.0, 33.0, 3.0, 49.0, 84.0, 5.0, 2.0, 128.0, 59.0, 63.0, 41.0, 64.0, 34.0, 24.0, 40.0, 67.0, 67.0, 64.0, 30.0, 7.0, 42.0, 2.0, 48.0, 32.0, 69.0, 31.0, 111.0, 22.0, 30.0, 3.0, 57.0, 8.0, 6.0, 38.0, 29.0, 32.0, 49.0, 7.0, 24.0, 3.0, 53.0, 26.0, 3.0, 2.0, 4.0, 6.0, 54.0, 24.0, 36.0, 8.0, 120.0, 15.0, 42.0, 61.0, 46.0, 36.0, 12.0, 64.0, 38.0, 47.0, 67.0, 71.0, 5.0, 5.0, 68.0, 50.0, 46.0, 97.0, 10.0, 57.0, 6.0, 113.0, 66.0, 5.0, 66.0, 118.0, 19.0, 29.0, 30.0, 19.0, 20.0, 45.0, 28.0, 56.0, 15.0, 29.0, 10.0, 14.0, 18.0, 18.0, 8.0, 18.0, 33.0, 53.0, 55.0, 55.0, 24.0, 4.0, 5.0, 54.0, 83.0, 48.0, 52.0, 25.0, 54.0, 38.0, 62.0, 1.0, 7.0, 3.0, 57.0, 2.0, 0.0, 2.0, 56.0, 8.0, 1.0, 44.0, 83.0, 8.0, 4.0, 10.0, 10.0, 17.0, 2.0, 70.0, 8.0, 57.0, 65.0, 4.0, 9.0, 4.0, 1.0, 7.0, 39.0, 43.0, 6.0, 13.0, 4.0, 4.0, 7.0, 7.0, 16.0, 9.0, 8.0, 1.0, 3.0, 2.0, 6.0, 55.0, 29.0, 124.0, 29.0, 6.0, 8.0, 1.0, 14.0, 87.0, 15.0, 19.0, 58.0, 51.0, 79.0, 72.0, 47.0, 30.0, 37.0, 74.0, 65.0, 2.0, 4.0, 42.0, 73.0, 2.0, 8.0, 10.0, 12.0, 43.0, 64.0, 40.0, 80.0, 69.0, 13.0, 39.0, 61.0, 15.0, 12.0, 35.0, 110.0, 50.0, 60.0, 38.0, 42.0, 56.0, 8.0, 7.0, 94.0, 4.0, 73.0, 16.0, 3.0, 10.0, 44.0, 87.0, 8.0, 17.0, 26.0, 6.0, 6.0, 10.0, 35.0, 53.0, 59.0, 5.0, 33.0, 2.0, 4.0, 12.0, 22.0, 18.0, 5.0, 72.0, 4.0, 61.0, 58.0, 71.0, 40.0, 17.0, 12.0, 62.0, 21.0, 8.0, 60.0, 42.0, 124.0, 47.0, 7.0, 2.0, 1.0, 3.0, 3.0, 9.0, 7.0, 4.0, 67.0, 76.0, 36.0, 53.0, 4.0, 71.0, 4.0, 3.0, 11.0, 43.0, 36.0, 59.0, 48.0, 2.0, 23.0, 16.0, 12.0, 46.0, 49.0, 57.0, 30.0, 18.0, 61.0, 7.0, 66.0, 40.0, 79.0, 2.0, 51.0, 61.0, 10.0, 36.0, 19.0, 31.0, 10.0, 65.0, 107.0, 116.0, 17.0, 41.0, 1.0, 7.0, 45.0, 49.0, 5.0, 7.0, 15.0, 7.0, 67.0, 34.0, 1.0, 90.0, 4.0, 104.0, 18.0, 2.0, 27.0, 41.0, 53.0, 21.0, 22.0, 35.0, 4.0, 63.0, 54.0, 12.0, 8.0, 1.0, 2.0, 11.0, 10.0, 37.0, 36.0, 36.0, 70.0, 13.0, 33.0, 21.0, 38.0, 2.0, 2.0, 5.0, 13.0, 31.0, 61.0, 67.0, 1.0, 3.0, 62.0, 2.0, 30.0, 10.0, 57.0, 5.0, 11.0, 55.0, 60.0, 4.0, 6.0, 46.0, 23.0, 57.0, 105.0, 22.0, 17.0, 2.0, 46.0, 55.0, 68.0, 66.0, 61.0, 54.0, 54.0, 52.0, 25.0, 12.0, 26.0, 116.0, 11.0, 39.0, 9.0, 1.0, 12.0, 5.0, 1.0, 44.0, 8.0, 19.0, 8.0, 34.0, 4.0, 2.0, 127.0, 4.0, 5.0, 62.0, 2.0, 7.0, 5.0, 3.0, 3.0, 1.0, 23.0, 29.0, 61.0, 2.0, 11.0, 4.0, 11.0, 15.0, 6.0, 9.0, 9.0, 8.0, 2.0, 2.0, 3.0, 2.0, 2.0, 35.0, 12.0, 2.0, 7.0, 5.0, 5.0, 31.0, 2.0, 3.0, 40.0, 5.0, 56.0, 13.0, 2.0, 2.0, 1.0, 3.0, 3.0, 46.0, 46.0, 4.0, 20.0, 46.0, 22.0, 4.0, 11.0, 20.0, 3.0, 53.0, 63.0, 5.0, 4.0, 22.0, 23.0, 3.0, 2.0, 24.0, 2.0, 4.0, 4.0, 7.0, 71.0, 11.0, 53.0, 27.0, 95.0, 38.0, 11.0, 28.0, 26.0, 1.0, 21.0, 4.0, 8.0, 28.0, 62.0, 9.0, 121.0, 92.0, 3.0, 1.0, 2.0, 1.0, 4.0, 12.0, 102.0, 3.0, 7.0, 2.0, 31.0, 55.0, 3.0, 45.0, 73.0, 47.0, 45.0, 34.0, 6.0, 29.0, 1.0, 1.0, 1.0, 22.0, 58.0, 24.0, 2.0, 11.0, 2.0, 16.0, 36.0, 55.0, 22.0, 39.0, 35.0, 30.0, 18.0, 56.0, 35.0, 28.0, 52.0, 36.0, 37.0, 38.0, 55.0, 17.0, 23.0, 77.0, 28.0, 16.0, 74.0, 7.0, 1.0, 96.0, 123.0, 21.0, 8.0, 106.0, 52.0, 1.0, 20.0, 43.0, 20.0, 40.0, 24.0, 63.0, 9.0, 48.0, 5.0, 31.0, 6.0, 26.0, 12.0, 49.0, 64.0, 41.0, 20.0, 9.0, 36.0, 7.0, 59.0, 49.0, 8.0, 61.0, 23.0, 4.0, 69.0, 2.0, 2.0, 21.0, 25.0, 2.0, 1.0, 43.0, 48.0, 48.0, 13.0, 3.0, 4.0, 5.0, 20.0, 6.0, 10.0, 57.0, 5.0, 12.0, 21.0, 33.0, 34.0, 16.0, 4.0, 31.0, 11.0, 42.0, 39.0, 16.0, 17.0, 2.0, 3.0, 51.0, 5.0, 14.0, 24.0, 4.0, 12.0, 55.0, 7.0, 11.0, 4.0, 16.0, 4.0, 23.0, 51.0, 61.0, 11.0, 36.0, 12.0, 27.0, 107.0, 18.0, 71.0, 24.0, 7.0, 2.0, 3.0, 24.0, 13.0, 57.0, 2.0, 55.0, 22.0, 51.0, 33.0, 1.0, 13.0, 68.0, 9.0, 110.0, 72.0, 61.0, 31.0, 44.0, 21.0, 3.0, 56.0, 4.0, 2.0, 3.0, 1.0, 28.0, 46.0, 2.0, 2.0, 7.0, 32.0, 13.0, 106.0, 14.0, 57.0, 9.0, 60.0, 4.0, 122.0, 14.0, 38.0, 28.0, 7.0, 21.0, 11.0, 57.0, 4.0, 38.0, 49.0, 6.0, 24.0, 34.0, 105.0, 58.0, 60.0, 23.0, 32.0, 44.0, 1.0, 28.0, 10.0, 10.0, 64.0, 9.0, 64.0, 72.0, 31.0, 5.0, 39.0, 34.0, 16.0, 23.0, 21.0, 1.0, 10.0, 11.0, 6.0, 9.0, 21.0, 3.0, 22.0, 20.0, 6.0, 8.0, 2.0, 16.0, 42.0, 1.0, 42.0, 115.0, 5.0, 11.0, 42.0, 46.0, 60.0, 92.0, 92.0, 3.0, 6.0, 12.0, 5.0, 6.0, 66.0, 23.0, 12.0, 14.0, 2.0, 3.0, 3.0, 1.0, 8.0, 19.0, 15.0, 24.0, 16.0, 11.0, 45.0, 1.0, 80.0, 46.0, 49.0, 65.0, 46.0, 74.0, 8.0, 2.0, 3.0, 6.0, 26.0, 20.0, 29.0, 1.0, 24.0, 40.0, 41.0, 1.0, 6.0, 33.0, 27.0, 4.0, 15.0, 23.0, 3.0, 13.0, 12.0, 5.0, 82.0, 2.0, 16.0, 39.0, 4.0, 10.0, 57.0, 54.0, 20.0, 28.0, 59.0, 31.0, 55.0, 43.0, 25.0, 77.0, 21.0, 19.0, 36.0, 16.0, 64.0, 21.0, 38.0, 56.0, 18.0, 27.0, 37.0, 20.0, 43.0, 4.0, 62.0, 9.0, 42.0, 47.0, 25.0, 81.0, 78.0, 83.0, 11.0, 25.0, 65.0, 3.0, 35.0, 10.0, 51.0, 29.0, 88.0, 37.0, 5.0, 13.0, 4.0, 5.0, 4.0, 3.0, 23.0, 9.0, 18.0, 17.0, 1.0, 4.0, 2.0, 5.0, 75.0, 49.0, 3.0, 19.0, 38.0, 57.0, 11.0, 2.0, 33.0, 35.0, 80.0, 22.0, 84.0, 11.0, 66.0, 35.0, 1.0, 78.0, 11.0, 8.0, 46.0, 3.0, 39.0, 36.0, 8.0, 23.0, 9.0, 46.0, 19.0, 7.0, 15.0, 9.0, 70.0, 64.0, 29.0, 45.0, 2.0, 62.0, 23.0, 18.0, 116.0, 23.0, 12.0, 64.0, 57.0, 16.0, 68.0, 95.0, 3.0, 38.0, 4.0, 71.0, 46.0, 30.0, 39.0, 1.0, 9.0, 0.0, 1.0, 13.0, 3.0, 67.0, 48.0, 36.0, 5.0, 1.0, 62.0, 23.0, 69.0, 79.0, 13.0, 43.0, 31.0, 3.0, 72.0, 32.0, 25.0, 67.0, 6.0, 6.0, 69.0, 2.0, 53.0, 62.0, 38.0, 113.0, 69.0, 22.0, 14.0, 4.0, 35.0, 14.0, 63.0, 34.0, 3.0, 49.0, 12.0, 31.0, 11.0, 23.0, 61.0, 25.0, 36.0, 1.0, 66.0, 44.0, 49.0, 17.0, 12.0, 80.0, 91.0, 110.0, 98.0, 4.0, 3.0, 3.0, 1.0, 94.0, 17.0, 65.0, 33.0, 57.0, 1.0, 14.0, 3.0, 1.0, 25.0, 44.0, 21.0, 16.0, 52.0, 111.0, 13.0, 2.0, 11.0, 58.0, 19.0, 2.0, 31.0, 3.0, 54.0, 47.0, 57.0, 73.0, 7.0, 44.0, 123.0, 12.0, 55.0, 2.0, 1.0, 2.0, 6.0, 47.0, 40.0, 70.0, 2.0, 2.0, 2.0, 1.0, 11.0, 36.0, 2.0, 44.0, 3.0, 98.0, 1.0, 47.0, 10.0, 4.0, 4.0, 1.0, 13.0, 56.0, 7.0, 2.0, 48.0, 14.0, 1.0, 28.0, 22.0, 47.0, 80.0, 82.0, 48.0, 17.0, 7.0, 23.0, 42.0, 19.0, 1.0, 126.0, 38.0, 69.0, 94.0, 0.0, 2.0, 4.0, 38.0, 12.0, 71.0, 84.0, 50.0, 62.0, 23.0, 3.0, 10.0, 71.0, 2.0, 2.0, 35.0, 2.0, 38.0, 58.0, 35.0, 19.0, 8.0, 29.0, 65.0, 25.0, 16.0, 2.0, 25.0, 49.0, 45.0, 2.0, 45.0, 81.0, 44.0, 57.0, 25.0, 19.0, 2.0, 2.0, 3.0, 121.0, 15.0, 2.0, 34.0, 4.0, 3.0, 3.0, 17.0, 2.0, 3.0, 31.0, 1.0, 72.0, 37.0, 25.0, 24.0, 19.0, 62.0, 4.0, 27.0, 17.0, 75.0, 49.0, 34.0, 29.0, 7.0, 17.0, 12.0, 4.0, 2.0, 29.0, 5.0, 5.0, 11.0, 9.0, 57.0, 7.0, 46.0, 121.0, 26.0, 51.0, 21.0, 11.0, 21.0, 45.0, 28.0, 67.0, 9.0, 7.0, 34.0, 49.0, 4.0, 24.0, 11.0, 2.0, 23.0, 2.0, 8.0, 27.0, 4.0, 13.0, 61.0, 16.0, 1.0, 1.0, 11.0, 2.0, 43.0, 6.0, 66.0, 8.0, 5.0, 16.0, 1.0, 8.0, 18.0, 43.0, 5.0, 3.0, 31.0, 4.0, 14.0, 24.0, 27.0, 1.0, 23.0, 4.0, 56.0, 28.0, 5.0, 2.0, 29.0, 7.0, 114.0, 79.0, 52.0, 4.0, 49.0, 9.0, 85.0, 4.0, 1.0, 75.0, 31.0, 7.0, 29.0, 6.0, 2.0, 1.0, 29.0, 1.0, 54.0, 11.0, 68.0, 2.0, 39.0, 2.0, 56.0, 59.0, 90.0, 94.0, 42.0, 4.0, 45.0, 4.0, 23.0, 28.0, 73.0, 80.0, 13.0, 81.0, 5.0, 24.0, 11.0, 39.0, 18.0, 1.0, 58.0, 27.0, 10.0, 6.0, 44.0, 3.0, 9.0, 40.0, 7.0, 7.0, 74.0, 38.0, 8.0, 97.0, 2.0, 41.0, 5.0, 3.0, 90.0, 13.0, 30.0, 33.0, 3.0, 15.0, 51.0, 71.0, 121.0, 110.0, 13.0, 87.0, 121.0, 1.0, 28.0, 77.0, 10.0, 58.0, 12.0, 58.0, 12.0, 38.0, 51.0, 45.0, 66.0, 9.0, 4.0, 21.0, 2.0, 9.0, 3.0, 38.0, 95.0, 18.0, 53.0, 35.0, 62.0, 16.0, 1.0, 2.0, 3.0, 3.0, 7.0, 21.0, 12.0, 64.0, 72.0, 98.0, 11.0, 2.0, 19.0, 11.0, 20.0, 12.0, 64.0, 30.0, 20.0, 20.0, 38.0, 23.0, 23.0, 3.0, 1.0, 86.0, 105.0, 23.0, 4.0, 30.0, 51.0, 6.0, 9.0, 81.0, 22.0, 31.0, 112.0, 49.0, 28.0, 3.0, 26.0, 9.0, 26.0, 1.0, 17.0, 3.0, 13.0, 5.0, 4.0, 99.0, 12.0, 65.0, 55.0, 27.0, 8.0, 39.0, 28.0, 5.0, 35.0, 7.0, 30.0, 6.0, 30.0, 11.0, 23.0, 66.0, 97.0, 6.0, 76.0, 12.0, 16.0, 51.0, 69.0, 16.0, 34.0, 22.0, 39.0, 55.0, 32.0, 22.0, 31.0, 4.0, 3.0, 35.0, 3.0, 8.0, 8.0, 35.0, 6.0, 9.0, 2.0, 56.0, 6.0, 1.0, 10.0, 3.0, 3.0, 3.0, 13.0, 46.0, 20.0, 16.0, 2.0, 2.0, 16.0, 1.0, 7.0, 1.0, 8.0, 11.0, 5.0, 4.0, 17.0, 1.0, 102.0, 1.0, 2.0, 30.0, 13.0, 5.0, 23.0, 30.0, 15.0, 34.0, 17.0, 31.0, 23.0, 68.0, 3.0, 1.0, 54.0, 9.0, 44.0, 9.0, 19.0, 22.0, 39.0, 54.0, 82.0, 37.0, 32.0, 2.0, 47.0, 40.0, 24.0, 47.0, 58.0, 73.0, 26.0, 5.0, 25.0, 59.0, 56.0, 26.0, 40.0, 80.0, 77.0, 1.0, 23.0, 45.0, 1.0, 9.0, 19.0, 12.0, 52.0, 15.0, 13.0, 93.0, 21.0, 10.0, 1.0, 67.0, 32.0, 21.0, 11.0, 98.0, 1.0, 4.0, 51.0, 66.0, 35.0, 54.0, 123.0, 24.0, 4.0, 21.0, 1.0, 56.0, 5.0, 1.0, 47.0, 98.0, 11.0, 1.0, 46.0, 13.0, 2.0, 97.0, 3.0, 1.0, 23.0, 39.0, 63.0, 3.0, 8.0, 74.0, 11.0, 29.0, 3.0, 16.0, 8.0, 34.0, 44.0, 16.0, 44.0, 50.0, 3.0, 57.0, 47.0, 20.0, 36.0, 54.0, 5.0, 82.0, 1.0, 94.0, 20.0, 8.0, 93.0, 48.0, 46.0, 32.0, 9.0, 2.0, 39.0, 78.0, 12.0, 55.0, 57.0, 67.0, 14.0, 12.0, 31.0, 64.0, 31.0, 51.0, 13.0, 56.0, 2.0, 3.0, 3.0, 2.0, 61.0, 63.0, 43.0, 2.0, 47.0, 62.0, 63.0, 65.0, 13.0, 11.0, 29.0, 4.0, 1.0, 46.0, 2.0, 3.0, 6.0, 30.0, 9.0, 26.0, 35.0, 6.0, 2.0, 8.0, 25.0, 2.0, 24.0, 2.0, 9.0, 1.0, 45.0, 1.0, 31.0, 14.0, 15.0, 30.0, 51.0, 6.0, 13.0, 79.0, 2.0, 3.0, 27.0, 3.0, 45.0, 17.0, 2.0, 7.0, 3.0, 38.0, 6.0, 2.0, 14.0, 59.0, 20.0, 24.0, 37.0, 20.0, 9.0, 70.0, 9.0, 14.0, 55.0, 7.0, 15.0, 8.0, 15.0, 9.0, 69.0, 1.0, 5.0, 3.0, 4.0, 3.0, 15.0, 11.0, 9.0, 13.0, 1.0, 2.0, 4.0, 25.0, 1.0, 5.0, 44.0, 1.0, 1.0, 2.0, 80.0, 2.0, 3.0, 2.0, 25.0, 3.0, 2.0, 10.0, 10.0, 33.0, 33.0, 61.0, 31.0, 85.0, 25.0, 24.0, 4.0, 54.0, 72.0, 4.0, 8.0, 68.0, 21.0, 103.0, 2.0, 11.0, 46.0, 52.0, 13.0, 60.0, 56.0, 5.0, 22.0, 64.0, 1.0, 18.0, 14.0, 2.0, 43.0, 36.0, 9.0, 25.0, 24.0, 40.0, 27.0, 0.0, 49.0, 9.0, 6.0, 16.0, 43.0, 8.0, 114.0, 67.0, 34.0, 7.0, 57.0, 12.0, 59.0, 20.0, 13.0, 8.0, 58.0, 5.0, 18.0, 7.0, 27.0, 54.0, 2.0, 6.0, 6.0, 1.0, 45.0, 7.0, 2.0, 36.0, 9.0, 44.0, 120.0, 3.0, 39.0, 14.0, 74.0, 2.0, 124.0, 79.0, 35.0, 13.0, 92.0, 7.0, 2.0, 13.0, 61.0, 27.0, 74.0, 58.0, 111.0, 2.0, 12.0, 6.0, 1.0, 43.0, 1.0, 5.0, 20.0, 57.0, 48.0, 55.0, 58.0, 13.0, 2.0, 15.0, 104.0, 16.0, 3.0, 5.0, 27.0, 21.0, 31.0, 86.0, 86.0, 39.0, 5.0, 49.0, 45.0, 40.0, 40.0, 60.0, 45.0, 13.0, 10.0, 62.0, 36.0, 77.0, 5.0, 14.0, 44.0, 16.0, 50.0, 106.0, 27.0, 9.0, 31.0, 17.0, 1.0, 2.0, 32.0, 41.0, 37.0, 12.0, 10.0, 49.0, 22.0, 47.0, 10.0, 12.0, 65.0, 53.0, 4.0, 5.0, 58.0, 69.0, 16.0, 8.0, 30.0, 56.0, 109.0, 21.0, 8.0, 2.0, 31.0, 64.0, 3.0, 37.0, 1.0, 3.0, 3.0, 14.0, 67.0, 15.0, 1.0, 2.0, 1.0, 30.0, 68.0, 48.0, 13.0, 10.0, 3.0, 5.0, 70.0, 9.0, 22.0, 25.0, 17.0, 21.0, 3.0, 2.0, 2.0, 5.0, 19.0, 12.0, 87.0, 18.0, 86.0, 74.0, 14.0, 23.0, 13.0, 1.0, 4.0, 4.0, 55.0, 33.0, 5.0, 25.0, 67.0, 4.0, 8.0, 8.0, 22.0, 2.0, 93.0, 12.0, 18.0, 49.0, 27.0, 4.0, 37.0, 8.0, 19.0, 25.0, 20.0, 13.0, 34.0, 46.0, 16.0, 2.0, 14.0, 53.0, 36.0, 25.0, 33.0, 8.0, 57.0, 17.0, 104.0, 66.0, 25.0, 4.0, 78.0, 7.0, 32.0, 14.0, 20.0, 2.0, 3.0, 29.0, 47.0, 5.0, 40.0, 76.0, 2.0, 6.0, 10.0, 6.0, 2.0, 83.0, 4.0, 11.0, 9.0, 7.0, 11.0, 10.0, 3.0, 39.0, 26.0, 64.0, 44.0, 10.0, 33.0, 20.0, 2.0, 16.0, 4.0, 27.0, 58.0, 12.0, 68.0, 1.0, 7.0, 21.0, 20.0, 34.0, 2.0, 3.0, 2.0, 7.0, 46.0, 4.0, 52.0, 25.0, 2.0, 8.0, 23.0, 27.0, 41.0, 1.0, 8.0, 5.0, 8.0, 56.0, 60.0, 5.0, 26.0, 2.0, 1.0, 64.0, 10.0, 26.0, 27.0, 2.0, 44.0, 3.0, 85.0, 3.0, 3.0, 58.0, 94.0, 56.0, 11.0, 37.0, 27.0, 38.0, 22.0, 45.0, 60.0, 20.0, 30.0, 15.0, 30.0, 90.0, 40.0, 7.0, 18.0, 9.0, 45.0, 100.0, 13.0, 58.0, 3.0, 3.0, 23.0, 45.0, 44.0, 3.0, 11.0, 2.0, 0.0, 16.0, 70.0, 2.0, 78.0, 54.0, 47.0, 30.0, 4.0, 58.0, 1.0, 30.0, 5.0, 4.0, 7.0, 36.0, 62.0, 5.0, 29.0, 36.0, 27.0, 15.0, 15.0, 3.0, 10.0, 64.0, 2.0, 33.0, 84.0, 26.0, 79.0, 29.0, 18.0, 12.0, 35.0, 7.0, 51.0, 4.0, 2.0, 13.0, 7.0, 42.0, 1.0, 63.0, 34.0, 36.0, 18.0, 3.0, 5.0, 16.0, 55.0, 6.0, 23.0, 2.0, 57.0, 17.0, 10.0, 51.0, 1.0, 66.0, 3.0, 2.0, 55.0, 5.0, 38.0, 29.0, 7.0, 36.0, 1.0, 66.0, 81.0, 37.0, 50.0, 59.0, 4.0, 1.0, 34.0, 4.0, 2.0, 37.0, 2.0, 18.0, 6.0, 6.0, 23.0, 5.0, 32.0, 105.0, 4.0, 0.0, 40.0, 66.0, 1.0, 8.0, 49.0, 116.0, 36.0, 12.0, 9.0, 58.0, 1.0, 36.0, 7.0, 35.0, 80.0, 3.0, 24.0, 4.0, 36.0, 29.0, 2.0, 3.0, 6.0, 14.0, 5.0, 3.0, 2.0, 3.0, 3.0, 58.0, 29.0, 8.0, 5.0, 16.0, 4.0, 67.0, 14.0, 32.0, 2.0, 3.0, 9.0, 44.0, 49.0, 1.0, 69.0, 4.0, 5.0, 8.0, 8.0, 3.0, 53.0, 109.0, 22.0, 1.0, 2.0, 6.0, 12.0, 65.0, 3.0, 2.0, 24.0, 3.0, 4.0, 128.0, 2.0, 115.0, 29.0, 66.0, 6.0, 23.0, 53.0, 119.0, 8.0, 110.0, 66.0, 57.0, 26.0, 7.0, 29.0, 3.0, 65.0, 69.0, 25.0, 20.0, 15.0, 6.0, 15.0, 1.0, 32.0, 5.0, 106.0, 1.0, 49.0, 72.0, 0.0, 34.0, 8.0, 46.0, 1.0, 47.0, 6.0, 64.0, 60.0, 28.0, 27.0, 1.0, 56.0, 50.0, 3.0, 64.0, 55.0, 37.0, 69.0, 17.0, 16.0, 25.0, 46.0, 10.0, 85.0, 60.0, 4.0, 71.0, 18.0, 9.0, 11.0, 1.0, 44.0, 1.0, 10.0, 13.0, 42.0, 56.0, 56.0, 36.0, 4.0, 5.0, 35.0, 65.0, 35.0, 11.0, 3.0, 2.0, 19.0, 32.0, 11.0, 105.0, 2.0, 5.0, 30.0, 3.0, 42.0, 14.0, 34.0, 35.0, 33.0, 4.0, 10.0, 4.0, 25.0, 14.0, 8.0, 17.0, 3.0, 36.0, 28.0, 40.0, 17.0, 32.0, 31.0, 6.0, 29.0, 20.0, 1.0, 31.0, 3.0, 4.0, 45.0, 31.0, 1.0, 13.0, 5.0, 3.0, 55.0, 3.0, 1.0, 30.0, 45.0, 71.0, 43.0, 23.0, 33.0, 2.0, 8.0, 15.0, 8.0, 46.0, 4.0, 3.0, 47.0, 5.0, 13.0, 14.0, 26.0, 2.0, 2.0, 18.0, 1.0, 1.0, 57.0, 31.0, 66.0, 1.0, 32.0, 4.0, 21.0, 36.0, 24.0, 120.0, 2.0, 4.0, 24.0, 11.0, 2.0, 67.0, 1.0, 14.0, 10.0, 9.0, 49.0, 65.0, 32.0, 79.0, 4.0, 1.0, 17.0, 56.0, 2.0, 33.0, 43.0, 63.0, 2.0, 2.0, 72.0, 61.0, 51.0, 36.0, 38.0, 117.0, 6.0, 36.0, 61.0, 48.0, 16.0, 36.0, 1.0, 82.0, 5.0, 105.0, 52.0, 95.0, 6.0, 57.0, 47.0, 19.0, 1.0, 5.0, 3.0, 31.0, 51.0, 2.0, 33.0, 2.0, 1.0, 6.0, 2.0, 61.0, 35.0, 36.0, 82.0, 1.0, 5.0, 104.0, 17.0, 60.0, 64.0, 8.0, 2.0, 81.0, 8.0, 29.0, 1.0, 40.0, 72.0, 9.0, 71.0, 20.0, 73.0, 66.0, 3.0, 2.0, 1.0, 2.0, 1.0, 5.0, 20.0, 4.0, 52.0, 78.0, 42.0, 11.0, 23.0, 8.0, 3.0, 19.0, 13.0, 5.0, 85.0, 80.0, 3.0, 21.0, 24.0, 12.0, 5.0, 62.0, 18.0, 34.0, 35.0, 3.0, 37.0, 5.0, 56.0, 65.0, 46.0, 55.0, 60.0, 42.0, 43.0, 2.0, 70.0, 2.0, 16.0, 4.0, 4.0, 32.0, 68.0, 22.0, 27.0, 30.0, 58.0, 5.0, 2.0, 44.0, 57.0, 3.0, 14.0, 1.0, 32.0, 6.0, 48.0, 71.0, 8.0, 1.0, 2.0, 2.0, 4.0, 4.0, 15.0, 2.0, 6.0, 4.0, 1.0, 3.0, 55.0, 2.0, 3.0, 58.0, 4.0, 31.0, 10.0, 10.0, 2.0, 11.0, 61.0, 75.0, 27.0, 3.0, 54.0, 7.0, 4.0, 18.0, 5.0, 57.0, 14.0, 1.0, 48.0, 94.0, 39.0, 45.0, 4.0, 7.0, 75.0, 53.0, 41.0, 15.0, 53.0, 122.0, 4.0, 94.0, 30.0, 61.0, 25.0, 12.0, 4.0, 17.0, 60.0, 3.0, 120.0, 56.0, 39.0, 2.0, 9.0, 29.0, 39.0, 3.0, 38.0, 7.0, 30.0, 2.0, 6.0, 40.0, 55.0, 2.0, 4.0, 119.0, 32.0, 31.0, 8.0, 94.0, 92.0, 1.0, 7.0, 32.0, 7.0, 5.0, 2.0, 6.0, 2.0, 1.0, 1.0, 6.0, 2.0, 2.0, 7.0, 2.0, 59.0, 2.0, 8.0, 35.0, 7.0, 121.0, 51.0, 69.0, 12.0, 24.0, 1.0, 50.0, 35.0, 4.0, 30.0, 13.0, 5.0, 55.0, 9.0, 35.0, 4.0, 17.0, 2.0, 2.0, 6.0, 16.0, 11.0, 6.0, 3.0, 1.0, 49.0, 30.0, 13.0, 3.0, 2.0, 87.0, 6.0, 47.0, 3.0, 19.0, 21.0, 2.0, 15.0, 6.0, 3.0, 13.0, 3.0, 38.0, 26.0, 40.0, 2.0, 1.0, 25.0, 4.0, 2.0, 27.0, 2.0, 33.0, 11.0, 95.0, 45.0, 2.0, 29.0, 1.0, 25.0, 22.0, 94.0, 9.0, 24.0, 36.0, 15.0, 55.0, 12.0, 14.0, 2.0, 8.0, 22.0, 5.0, 7.0, 5.0, 18.0, 29.0, 1.0, 42.0, 12.0, 44.0, 3.0, 3.0, 25.0, 79.0, 4.0, 12.0, 60.0, 4.0, 6.0, 60.0, 46.0, 43.0, 30.0, 75.0, 24.0, 3.0, 2.0, 1.0, 22.0, 33.0, 2.0, 23.0, 3.0, 21.0, 13.0, 32.0, 2.0, 9.0, 32.0, 32.0, 1.0, 27.0, 13.0, 4.0, 2.0, 30.0, 46.0, 59.0, 1.0, 6.0, 13.0, 33.0, 11.0, 59.0, 66.0, 66.0, 38.0, 29.0, 46.0, 55.0, 61.0, 42.0, 51.0, 59.0, 10.0, 6.0, 89.0, 8.0, 59.0, 2.0, 12.0, 23.0, 31.0, 16.0, 5.0, 8.0, 15.0, 3.0, 19.0, 1.0, 15.0, 4.0, 12.0, 17.0, 7.0, 2.0, 7.0, 6.0, 74.0, 14.0, 36.0, 47.0, 6.0, 2.0, 16.0, 7.0, 10.0, 26.0, 46.0, 42.0, 7.0, 16.0, 54.0, 47.0, 7.0, 26.0, 7.0, 31.0, 33.0, 6.0, 1.0, 79.0, 36.0, 30.0, 11.0, 39.0, 25.0, 4.0, 3.0, 36.0, 20.0, 14.0, 2.0, 3.0, 22.0, 2.0, 8.0, 12.0, 56.0, 7.0, 3.0, 54.0, 46.0, 26.0, 15.0, 8.0, 3.0, 2.0, 29.0, 26.0, 32.0, 4.0, 59.0, 2.0, 16.0, 32.0, 3.0, 3.0, 31.0, 56.0, 50.0, 34.0, 15.0, 9.0, 24.0, 20.0, 33.0, 50.0, 18.0, 58.0, 18.0, 47.0, 45.0, 50.0, 12.0, 7.0, 59.0, 40.0, 25.0, 33.0, 3.0, 19.0, 39.0, 29.0, 51.0, 81.0, 7.0, 20.0, 26.0, 47.0, 8.0, 22.0, 22.0, 42.0, 61.0, 26.0, 10.0, 2.0, 16.0, 54.0, 19.0, 25.0, 16.0, 1.0, 22.0, 13.0, 21.0, 3.0, 3.0, 14.0, 49.0, 55.0, 36.0, 82.0, 26.0, 60.0, 64.0, 53.0, 61.0, 32.0, 1.0, 23.0, 2.0, 29.0, 6.0, 25.0, 54.0, 3.0, 32.0, 58.0, 81.0, 19.0, 54.0, 5.0, 93.0, 19.0, 7.0, 2.0, 38.0, 30.0, 61.0, 41.0, 1.0, 8.0, 38.0, 5.0, 21.0, 24.0, 11.0, 17.0, 71.0, 17.0, 50.0, 34.0, 56.0, 24.0, 46.0, 54.0, 61.0, 29.0, 46.0, 60.0, 10.0, 5.0, 63.0, 28.0, 54.0, 32.0, 22.0, 7.0, 91.0, 37.0, 7.0, 26.0, 56.0, 37.0, 48.0, 3.0, 67.0, 49.0, 1.0, 21.0, 40.0, 33.0, 70.0, 32.0, 45.0, 20.0, 3.0, 19.0, 45.0, 4.0, 1.0, 15.0, 2.0, 37.0, 14.0, 55.0, 72.0, 80.0, 19.0, 22.0, 15.0, 3.0, 33.0, 7.0, 70.0, 6.0, 8.0, 2.0, 24.0, 2.0, 2.0, 52.0, 11.0, 10.0, 17.0, 9.0, 21.0, 14.0, 40.0, 31.0, 27.0, 11.0, 1.0, 8.0, 7.0, 24.0, 1.0, 21.0, 56.0, 1.0, 8.0, 17.0, 7.0, 1.0, 17.0, 16.0, 27.0, 61.0, 11.0, 4.0, 5.0, 25.0, 2.0, 49.0, 2.0, 59.0, 2.0, 10.0, 62.0, 2.0, 31.0, 2.0, 16.0, 16.0, 1.0, 8.0, 73.0, 19.0, 26.0, 3.0, 3.0, 30.0, 13.0, 77.0, 36.0, 15.0, 2.0, 14.0, 19.0, 29.0, 26.0, 3.0, 2.0, 10.0, 4.0, 40.0, 0.0, 19.0, 3.0, 14.0, 29.0, 19.0, 12.0, 4.0, 58.0, 4.0, 28.0, 25.0, 2.0, 8.0, 1.0, 79.0, 71.0, 41.0, 73.0, 56.0, 47.0, 33.0, 10.0, 60.0, 41.0, 6.0, 16.0, 37.0, 49.0, 1.0, 44.0, 15.0, 115.0, 3.0, 52.0, 52.0, 19.0, 9.0, 37.0, 47.0, 2.0, 4.0, 30.0, 3.0, 2.0, 64.0, 5.0, 5.0, 3.0, 5.0, 8.0, 8.0, 10.0, 10.0, 36.0, 6.0, 4.0, 44.0, 16.0, 22.0, 5.0, 41.0, 17.0, 2.0, 34.0, 39.0, 77.0, 44.0, 16.0, 34.0, 18.0, 6.0, 0.0, 0.0, 1.0, 1.0, 1.0, 4.0, 10.0, 48.0, 42.0, 10.0, 26.0, 13.0, 104.0, 5.0, 20.0, 1.0, 45.0, 46.0, 2.0, 20.0, 60.0, 8.0, 25.0, 34.0, 79.0, 47.0, 24.0, 20.0, 8.0, 54.0, 59.0, 4.0, 5.0, 45.0, 68.0, 35.0, 7.0, 11.0, 2.0, 61.0, 3.0, 37.0, 1.0, 2.0, 3.0, 12.0, 2.0, 61.0, 30.0, 32.0]\n",
      "Outliers: [168.0, 4223.0, 1580.0, 534.0, 196.0, 1827.0, 3482.0, 894.0, 1576.0, 1540.0, 181.0, 38564.0, 202.0, 1385.0, 8957.0, 130.0, 810.0, 45917.0, 1892.0, 282.0, 12053.0, 26011.0, 1276.0, 42868.0, 220.0, 2305.0, 274.0, 10003.0, 3868.0, 7713.0, 4279.0, 5047.0, 33209.0, 151.0, 27289.0, 3573.0, 1926.0, 3218.0, 27643.0, 17955.0, 28002.0, 2354.0, 520.0, 23215.0, 396.0, 828.0, 1533.0, 21584.0, 1218.0, 278.0, 2261.0, 333.0, 3187.0, 1195.0, 1390.0, 1333.0, 1508.0, 140.0, 16096.0, 22948.0, 32371.0, 485.0, 881.0, 284.0, 3215.0, 208.0, 1026.0, 585.0, 3006.0, 5889.0, 7372.0, 35729.0, 369.0, 5376.0, 1121.0, 201.0, 1212.0, 1441.0, 3635.0, 2641.0, 1056.0, 522.0, 1948.0, 3024.0, 1587.0, 6545.0, 15224.0, 32910.0, 1174.0, 1109.0, 305.0, 342.0, 1854.0, 531.0, 280.0, 9720.0, 1280.0, 1175.0, 710.0, 1563.0, 452.0, 617.0, 17049.0, 32144.0, 2025.0, 10536.0, 194.0, 2098.0, 1384.0, 9927.0, 138.0, 807.0, 1385.0, 1786.0, 2881.0, 955.0, 722.0, 3847.0, 1167.0, 566.0, 4054.0, 572.0, 163.0, 271.0, 36729.0, 26759.0, 11294.0, 40277.0, 909.0, 3720.0, 13584.0, 158.0, 1563.0, 245.0, 5109.0, 4245.0, 213.0, 1544.0, 3797.0, 185.0, 1143.0, 137.0, 680.0, 1084.0, 601.0, 1283.0, 269.0, 167.0, 600.0, 9277.0, 1047.0, 247.0, 33552.0, 2405.0, 147.0, 18981.0, 257.0, 27604.0, 213.0, 33933.0, 2262.0, 129.0, 455.0, 708.0, 2615.0, 183.0, 202.0, 794.0, 33441.0, 309.0, 31955.0, 1172.0, 1369.0, 2186.0, 22939.0, 11444.0, 6278.0, 1861.0, 774.0, 1394.0, 218.0, 5953.0, 28479.0, 1590.0, 6343.0, 159.0, 35887.0, 1378.0, 5773.0, 34851.0, 2469.0, 286.0, 15005.0, 1976.0, 2112.0, 1537.0, 11367.0, 18076.0, 30935.0, 413.0, 909.0, 469.0, 1518.0, 1122.0, 1418.0, 169.0, 1492.0, 162.0, 215.0, 43648.0, 1533.0, 776.0, 415.0, 5703.0, 3614.0, 8001.0, 15686.0, 4132.0, 221.0, 165.0, 39975.0, 2932.0, 1479.0, 7112.0, 4208.0, 6346.0, 5632.0, 23687.0, 5237.0, 297.0, 32235.0, 1171.0, 1044.0, 971.0, 365.0, 4593.0, 148.0, 439.0, 16353.0, 3219.0, 1066.0, 2547.0, 1615.0, 146.0, 4009.0, 2506.0, 37704.0, 5687.0, 132.0, 4984.0, 593.0, 1115.0, 1918.0, 268.0, 5674.0, 550.0, 32211.0, 578.0, 2544.0, 2164.0, 1183.0, 223.0, 853.0, 3394.0, 14859.0, 154.0, 144.0, 255.0, 189.0, 139.0, 1508.0, 138.0, 1534.0, 4224.0, 22376.0, 1220.0, 3329.0, 713.0, 942.0, 6709.0, 1303.0, 808.0, 6059.0, 180.0, 173.0, 2610.0, 2198.0, 276.0, 395.0, 134.0, 1286.0, 1279.0, 1081.0, 1312.0, 724.0, 1915.0, 853.0, 162.0, 54448.0, 959.0, 237.0, 3109.0, 530.0, 3574.0, 1413.0, 188.0, 1752.0, 1807.0, 2003.0, 2236.0, 657.0, 829.0, 5157.0, 276.0, 131.0, 18956.0, 1125.0, 28674.0, 4378.0, 4526.0, 809.0, 13786.0, 171.0, 2234.0, 897.0, 858.0, 13540.0, 1406.0, 333.0, 1047.0, 9079.0, 243.0, 31412.0, 1386.0, 3195.0, 489.0, 2994.0, 957.0, 8263.0, 1607.0, 1447.0, 2253.0, 4486.0, 131.0, 25730.0, 1049.0, 663.0, 23046.0, 862.0, 5202.0, 10259.0, 942.0, 18134.0, 246.0, 899.0, 1642.0, 4947.0, 2750.0, 3184.0, 281.0, 610.0, 3308.0, 34742.0, 2954.0, 1464.0, 954.0, 2879.0, 2100.0, 608.0, 1100.0, 532.0, 788.0, 136.0, 1703.0, 1021.0, 140.0, 313.0, 6008.0, 137.0, 1545.0, 397.0, 794.0, 143.0, 273.0, 223.0, 1142.0, 3884.0, 8244.0, 132.0, 188.0, 240.0, 486.0, 140.0, 991.0, 2483.0, 741.0, 396.0, 32811.0, 422.0, 345.0, 1143.0, 241.0, 306.0, 134.0, 2746.0, 496.0, 272.0, 133.0, 540.0, 230.0, 5958.0, 1767.0, 760.0, 15979.0, 176.0, 7974.0, 868.0, 28422.0, 1080.0, 698.0, 3399.0, 8126.0, 141.0, 132.0, 276.0, 140.0, 3606.0, 2513.0, 3554.0, 1424.0, 223.0, 130.0, 1045.0, 3984.0, 1078.0, 3183.0, 66239.0, 5964.0, 16664.0, 26920.0, 2562.0, 34167.0, 1214.0, 187.0, 153.0, 6885.0, 2711.0, 155.0, 184.0, 206.0, 304.0, 129.0, 185.0, 185.0, 131.0, 28364.0, 7636.0, 2116.0, 142.0, 9945.0, 2504.0, 134.0, 3246.0, 24784.0, 5549.0, 28208.0, 3034.0, 1753.0, 155.0, 17598.0, 626.0, 132.0, 734.0, 675.0, 1270.0, 705.0, 412.0, 414.0, 10608.0, 477.0, 28151.0, 139.0, 3451.0, 4014.0, 1137.0, 958.0, 133.0, 376.0, 3119.0, 3223.0, 3592.0, 1192.0, 707.0, 5022.0, 233.0, 2813.0, 2515.0, 5735.0, 480.0, 6429.0, 5774.0, 903.0, 29141.0, 631.0, 1213.0, 3192.0, 1206.0, 574.0, 946.0, 883.0, 634.0, 821.0, 299.0, 3208.0, 774.0, 5107.0, 299.0, 6051.0, 4863.0, 40161.0, 1212.0, 430.0, 658.0, 851.0, 3877.0, 2241.0, 4886.0, 3081.0, 4239.0, 5946.0, 2014.0, 2908.0, 2810.0, 4390.0, 1476.0, 330.0, 165.0, 1409.0, 38118.0, 883.0, 256.0, 2859.0, 628.0, 6398.0, 3143.0, 165.0, 183.0, 433.0, 2251.0, 4545.0, 7504.0, 32011.0, 284.0, 686.0, 34264.0, 611.0, 4273.0, 219.0, 11178.0, 60163.0, 5531.0, 603.0, 7372.0, 41180.0, 1612.0, 492.0, 3898.0, 6937.0, 1973.0, 2271.0, 173.0, 3836.0, 7269.0, 2628.0, 1729.0, 10044.0, 4186.0, 34252.0, 1123.0, 450.0, 647.0, 1776.0, 395.0, 2934.0, 6064.0, 65259.0, 16296.0, 22385.0, 187.0, 146.0, 622.0, 3511.0, 24748.0, 4171.0, 2261.0, 255.0, 990.0, 1786.0, 14696.0, 143.0, 232.0, 19893.0, 7646.0, 296.0, 1815.0, 3817.0, 139.0, 22102.0, 2134.0, 1876.0, 3161.0, 2485.0, 177.0, 35696.0, 461.0, 789.0, 450.0, 2188.0, 146.0, 138.0, 131.0, 145.0, 139.0, 140.0, 248.0, 602.0, 2447.0, 1004.0, 21983.0, 34898.0, 2134.0, 1574.0, 1958.0, 3546.0, 14724.0, 4506.0, 2787.0, 2121.0, 29952.0, 148.0, 1769.0, 134.0, 300.0, 450.0, 1330.0, 2765.0, 449.0, 731.0, 236.0, 1364.0, 16909.0, 272.0, 734.0, 7892.0, 1177.0, 163.0, 7351.0, 4805.0, 190.0, 170.0, 167.0, 33738.0, 3183.0, 616.0, 999.0, 206.0, 3903.0, 3981.0, 12043.0, 427.0, 1644.0, 2156.0, 580.0, 194.0, 838.0, 8447.0, 579.0, 912.0, 559.0, 7481.0, 453.0, 40379.0, 2256.0, 5556.0, 16265.0, 2970.0, 560.0, 289.0, 3875.0, 503.0, 9961.0, 2520.0, 23771.0, 2693.0, 1910.0, 1124.0, 1680.0, 5008.0, 222.0, 138.0, 609.0, 17067.0, 280.0, 7127.0, 30346.0, 10914.0, 705.0, 12650.0, 31018.0, 434.0, 1083.0, 1180.0, 144.0, 3284.0, 275.0, 2485.0, 30925.0, 2400.0, 156.0, 4110.0, 2231.0, 134.0, 1238.0, 736.0, 1842.0, 2997.0, 1847.0, 2350.0, 5921.0, 1610.0, 3248.0, 133.0, 3283.0, 27919.0, 1049.0, 662.0, 562.0, 16543.0, 361.0, 209.0, 660.0, 229.0, 15317.0, 5699.0, 1232.0, 1612.0, 131.0, 1872.0, 5726.0, 635.0, 227.0, 1029.0, 25005.0, 1890.0, 1243.0, 26782.0, 15713.0, 600.0, 2678.0, 571.0, 698.0, 29056.0, 5547.0, 963.0, 9745.0, 3645.0, 34977.0, 4260.0, 145.0, 166.0, 30812.0, 568.0, 11331.0, 6136.0, 4232.0, 2136.0, 1160.0, 137.0, 286.0, 1289.0, 1325.0, 856.0, 3119.0, 3547.0, 1028.0, 144.0, 12414.0, 132.0, 28961.0, 758.0, 855.0, 1648.0, 1150.0, 1832.0, 627.0, 4021.0, 374.0, 11939.0, 1086.0, 17139.0, 301.0, 303.0, 4537.0, 1946.0, 1571.0, 33053.0, 6501.0, 2014.0, 15415.0, 197.0, 137.0, 342.0, 10516.0, 1752.0, 1308.0, 4245.0, 3405.0, 6361.0, 926.0, 182.0, 30819.0, 189.0, 1337.0, 8824.0, 144.0, 165.0, 207.0, 3476.0, 8768.0, 15864.0, 17343.0, 26006.0, 2877.0, 15177.0, 164.0, 1781.0, 4375.0, 4479.0, 2390.0, 1235.0, 1547.0, 301.0, 131.0, 539.0, 621.0, 2398.0, 1013.0, 3850.0, 1203.0, 28080.0, 8748.0, 882.0, 7886.0, 155.0, 143.0, 24971.0, 9415.0, 764.0, 780.0, 36444.0, 2138.0, 2334.0, 7273.0, 1504.0, 1293.0, 2855.0, 5907.0, 393.0, 2662.0, 136.0, 10938.0, 4939.0, 1229.0, 716.0, 136.0, 1134.0, 26759.0, 3910.0, 5158.0, 255.0, 7461.0, 585.0, 280.0, 8883.0, 636.0, 137.0, 3511.0, 610.0, 288.0, 33642.0, 314.0, 4993.0, 2014.0, 616.0, 230.0, 1514.0, 2653.0, 2434.0, 182.0, 12893.0, 709.0, 6753.0, 245.0, 44882.0, 15108.0, 373.0, 60914.0, 26131.0, 18969.0, 40384.0, 37186.0, 9525.0, 387.0, 4414.0, 25049.0, 2272.0, 786.0, 1779.0, 1073.0, 24097.0, 22847.0, 138.0, 1029.0, 35486.0, 1057.0, 10517.0, 6832.0, 2584.0, 4262.0, 3421.0, 2548.0, 13131.0, 29229.0, 854.0, 49287.0, 1002.0, 987.0, 161.0, 34281.0, 755.0, 1080.0, 2423.0, 1867.0, 1500.0, 5951.0, 141.0, 2734.0, 1307.0, 17532.0, 11136.0, 697.0, 1338.0, 4811.0, 140.0, 28559.0, 2467.0, 470.0, 23367.0, 264.0, 786.0, 2082.0, 21795.0, 74627.0, 51441.0, 19021.0, 10707.0, 248.0, 34693.0, 2657.0, 1875.0, 1957.0, 2324.0, 4741.0, 218.0, 11424.0, 1007.0, 741.0, 8876.0, 10899.0, 1954.0, 39971.0, 1345.0, 2271.0, 1256.0, 31504.0, 263.0, 322.0, 716.0, 199.0, 191.0, 4886.0, 6721.0, 41045.0, 10723.0, 777.0, 4034.0, 1944.0, 642.0, 219.0, 9549.0, 1570.0, 260.0, 2226.0, 432.0, 1575.0, 1726.0, 760.0, 528.0, 586.0, 8270.0, 6245.0, 757.0, 2242.0, 324.0, 164.0, 155.0, 171.0, 541.0, 27861.0, 652.0, 4424.0, 16141.0, 1139.0, 2440.0, 8425.0, 431.0, 1414.0, 52929.0, 1836.0, 851.0, 2282.0, 1131.0, 400.0, 1169.0, 20770.0, 2180.0, 540.0, 607.0, 6045.0, 318.0, 146.0, 4878.0, 851.0, 6362.0, 8578.0, 157.0, 193.0, 6305.0, 325.0, 26722.0, 233.0, 195.0, 43029.0, 11673.0, 132.0, 2198.0, 1151.0, 206.0, 20522.0, 18835.0, 30888.0, 673.0, 19418.0, 18173.0, 1253.0, 4061.0, 33041.0, 1630.0, 353.0, 1024.0, 34036.0, 2034.0, 2070.0, 5422.0, 11568.0, 292.0, 3455.0, 1521.0, 13574.0, 294.0, 3378.0, 1204.0, 34422.0, 5675.0, 12081.0, 3987.0, 4401.0, 15074.0, 37529.0, 30469.0, 7473.0, 1727.0, 11475.0, 1444.0, 142.0, 34790.0, 34841.0, 11036.0, 58157.0, 3188.0, 2553.0, 866.0, 997.0, 10707.0, 7907.0, 4879.0, 1337.0, 248.0, 3889.0, 5931.0, 30554.0, 4131.0, 867.0, 470.0, 1217.0, 6070.0, 1591.0, 140.0, 23196.0, 2727.0, 8646.0, 44670.0, 637.0, 3294.0, 164.0, 2761.0, 285.0, 2435.0, 7479.0, 5005.0, 297.0, 2181.0, 6253.0, 2593.0, 3125.0, 3928.0, 40828.0, 3390.0, 723.0, 20966.0, 5473.0, 2439.0, 517.0, 13072.0, 2375.0, 33187.0, 835.0, 344.0, 4099.0, 262.0, 9811.0, 884.0, 837.0, 7315.0, 12038.0, 4184.0, 556.0, 1171.0, 449.0, 1700.0, 37365.0, 671.0, 36342.0, 31269.0, 34645.0, 28297.0, 134.0, 3787.0, 954.0, 2918.0, 247.0, 39696.0, 5060.0, 242.0, 509.0, 21725.0, 759.0, 11931.0, 168.0, 280.0, 170.0, 148.0, 1028.0, 220.0, 38155.0, 1268.0, 3310.0, 706.0, 3929.0, 437.0, 1375.0, 1878.0, 1010.0, 161.0, 4069.0, 3447.0, 165.0, 2727.0, 1776.0, 163.0, 1827.0, 163.0, 265.0, 7255.0, 29272.0, 4960.0, 4229.0, 5940.0, 24548.0, 11390.0, 213.0, 34215.0, 1667.0, 1307.0, 3913.0, 5653.0, 2637.0, 33379.0, 306.0, 4387.0, 478.0, 34921.0, 14810.0, 15470.0, 169.0, 1225.0, 7095.0, 257.0, 5478.0, 2272.0, 26107.0, 2049.0, 2739.0, 1998.0, 386.0, 203.0, 12732.0, 4455.0, 11200.0, 58069.0, 171.0, 6163.0, 23994.0, 17493.0, 60018.0, 1400.0, 29971.0, 31712.0, 2932.0, 141.0, 8811.0, 171.0, 567.0, 554.0, 2344.0, 543.0, 174.0, 6981.0, 272.0, 129.0, 7652.0, 16128.0, 2527.0, 356.0, 131.0, 32810.0, 1916.0, 624.0, 1579.0, 723.0, 9649.0, 365.0, 169.0, 552.0, 5705.0, 2949.0, 787.0, 2585.0, 284.0, 3883.0, 2331.0, 7849.0, 25273.0, 155.0, 3410.0, 2236.0, 219.0, 154.0, 4354.0, 1425.0, 214.0, 1820.0, 6776.0, 533.0, 1219.0, 542.0, 4298.0, 8951.0, 9040.0, 329.0, 2326.0, 743.0, 34958.0, 6721.0, 278.0, 13788.0, 3672.0, 15416.0, 177.0, 717.0, 207.0, 1674.0, 5975.0, 2058.0, 171.0, 1919.0, 43860.0, 130.0, 401.0, 222.0, 6834.0, 4417.0, 2123.0, 1675.0, 1009.0, 45283.0, 17282.0, 146.0, 17304.0, 462.0, 408.0, 289.0, 333.0, 224.0, 6275.0, 5215.0, 1681.0, 301.0, 130.0, 335.0, 232.0, 651.0, 180.0, 139.0, 22162.0, 1947.0, 5359.0, 13300.0, 32059.0, 203.0, 130.0, 1267.0, 2492.0, 344.0, 29257.0, 142.0, 3320.0, 419.0, 911.0, 33501.0, 2254.0, 29296.0, 1755.0, 441.0, 3402.0, 6304.0, 9321.0, 11184.0, 317.0, 11431.0, 995.0, 739.0, 1864.0, 129.0, 138.0, 150.0, 1020.0, 26592.0, 133.0, 14132.0, 9489.0, 668.0, 3532.0, 1761.0, 12679.0, 52225.0, 156.0, 2359.0, 3438.0, 1777.0, 10434.0, 1509.0, 12200.0, 239.0, 485.0, 1347.0, 4117.0, 2176.0, 208.0, 216.0, 5654.0, 1595.0, 137.0, 26375.0, 328.0, 2147.0, 9257.0, 216.0, 17704.0, 549.0, 502.0, 402.0, 2001.0, 130.0, 1111.0, 175.0, 280.0, 7083.0, 5477.0, 131.0, 26988.0, 693.0, 3170.0, 6373.0, 15616.0, 5975.0, 153.0, 2001.0, 4309.0, 801.0, 1655.0, 36896.0, 13519.0, 2569.0, 3399.0, 37422.0, 2919.0, 50461.0, 289.0, 3927.0, 6632.0, 1009.0, 2284.0, 3661.0, 317.0, 1185.0, 432.0, 323.0, 320.0, 4926.0, 274.0, 141.0, 702.0, 24752.0, 155.0, 15934.0, 206.0, 2647.0, 1906.0, 184.0, 18859.0, 186.0, 48930.0, 796.0, 11040.0, 3514.0, 181.0, 2049.0, 1802.0, 7417.0, 1172.0, 971.0, 20118.0, 350.0, 28645.0, 617.0, 22806.0, 561.0, 20493.0, 1653.0, 168.0, 144.0, 1360.0, 153.0, 307.0, 2234.0, 1415.0, 183.0, 1293.0, 1935.0, 11022.0, 887.0, 585.0, 1871.0, 129.0, 15334.0, 648.0, 2849.0, 1751.0, 194.0, 2076.0, 2851.0, 3307.0, 342.0, 1186.0, 151.0, 37002.0, 2516.0, 674.0, 1014.0, 129.0, 276.0, 16621.0, 142.0, 1382.0, 1506.0, 241.0, 4651.0, 518.0, 4455.0, 391.0, 214.0, 162.0, 137.0, 139.0, 159.0, 29726.0, 23455.0, 980.0, 152.0, 18195.0, 520.0, 534.0, 904.0, 5609.0, 4086.0, 24698.0, 6046.0, 2063.0, 12883.0, 370.0, 5696.0, 1085.0, 412.0, 8720.0, 3767.0, 1498.0, 971.0, 130.0, 195.0, 144.0, 4796.0, 492.0, 980.0, 1374.0, 5238.0, 2641.0, 130.0, 147.0, 1906.0, 30234.0, 517.0, 912.0, 722.0, 1615.0, 11827.0, 7455.0, 157.0, 1130.0, 358.0, 2553.0, 1835.0, 4381.0, 12840.0, 8457.0, 131.0, 29369.0, 4547.0, 33810.0, 149.0, 1852.0, 31620.0, 22694.0, 406.0, 27735.0, 3039.0, 170.0, 28322.0, 9248.0, 630.0, 15938.0, 8994.0, 2161.0, 7824.0, 2194.0, 26123.0, 22862.0, 896.0, 20130.0, 580.0, 3132.0, 12140.0, 25465.0, 1823.0, 1203.0, 10290.0, 2206.0, 7983.0, 1378.0, 144.0, 10163.0, 3475.0, 302.0, 378.0, 1168.0, 1740.0, 3314.0, 2984.0, 950.0, 28205.0, 1224.0, 14524.0, 881.0, 327.0, 1528.0, 130.0, 1081.0, 907.0, 129.0, 221.0, 28390.0, 2094.0, 2042.0, 1062.0, 17410.0, 220.0, 16627.0, 4358.0, 244.0, 355.0, 324.0, 2732.0, 483.0, 2952.0, 1156.0, 361.0, 23641.0, 26106.0, 7913.0, 6088.0, 515.0, 2885.0, 10596.0, 49609.0, 395.0, 542.0, 1239.0, 3689.0, 192.0, 183.0, 742.0, 6078.0, 1397.0, 17379.0, 5990.0, 158.0, 1370.0, 1161.0, 238.0, 28461.0, 12619.0, 3896.0, 461.0, 747.0, 1352.0, 3727.0, 5974.0, 232.0, 892.0, 18727.0, 1103.0, 38276.0, 1625.0, 343.0, 21751.0, 230.0, 16217.0, 150.0, 9810.0, 29792.0, 9460.0, 18641.0, 147.0, 15422.0, 10252.0, 225.0, 622.0, 32824.0, 1490.0, 1686.0, 3282.0, 169.0, 133.0, 144.0, 159.0, 1493.0, 954.0, 158.0, 150.0, 18828.0, 811.0, 2780.0, 144.0, 2557.0, 225.0, 218.0, 162.0, 31632.0, 168.0, 1003.0, 2447.0, 158.0, 228.0, 2210.0, 442.0, 1822.0, 33386.0, 923.0, 5032.0, 136.0, 766.0, 504.0, 35440.0, 26691.0, 11747.0, 29123.0, 2332.0, 16898.0, 948.0, 5280.0, 537.0, 1760.0, 173.0, 14722.0, 565.0, 145.0, 6773.0, 1369.0, 246.0, 1308.0, 168.0, 3600.0, 15866.0, 6038.0, 155.0, 131.0, 179.0, 188.0, 17455.0, 153.0, 1942.0, 4953.0, 3415.0, 140.0, 27789.0, 1105.0, 7290.0, 1697.0, 1071.0, 1680.0, 1241.0, 13997.0, 205.0, 10607.0, 130.0, 311.0, 9401.0, 2838.0, 693.0, 24412.0, 16806.0, 305.0, 6867.0, 196.0, 174.0, 181.0, 8975.0, 5186.0, 527.0, 2729.0, 562.0, 213.0, 327.0, 3099.0, 321.0, 7409.0, 27680.0, 1854.0, 526.0, 283.0, 497.0, 4433.0, 1243.0, 208.0, 998.0, 9371.0, 1811.0, 165.0, 10403.0, 10656.0, 189.0, 1281.0, 27783.0, 1704.0, 461.0, 507.0, 503.0, 1019.0, 7933.0, 2812.0, 129.0, 31373.0, 139.0, 9060.0, 1898.0, 34064.0, 5210.0, 1861.0, 10501.0, 209.0, 9646.0, 13856.0, 349.0, 230.0, 10487.0, 962.0, 142.0, 26032.0, 563.0, 304.0, 12397.0, 135.0, 131.0, 669.0, 2788.0, 8161.0, 2576.0, 142.0, 185.0, 1839.0, 133.0, 392.0, 509.0, 314.0, 594.0, 482.0, 519.0, 1610.0, 696.0, 233.0, 171.0, 30750.0, 1950.0, 545.0, 622.0, 12882.0, 5318.0, 65276.0, 6060.0, 263.0, 409.0, 1237.0, 7047.0, 149.0, 242.0, 2495.0, 3433.0, 2085.0, 565.0, 163.0, 12569.0, 1461.0, 226.0, 164.0, 4197.0, 3247.0, 3106.0, 30924.0, 4736.0, 134.0, 1416.0, 331.0, 250.0, 666.0, 585.0, 4814.0, 207.0, 698.0, 190.0, 489.0, 527.0, 156.0, 12535.0, 541.0, 13147.0, 11339.0, 26312.0, 8999.0, 309.0, 164.0, 3770.0, 35923.0, 282.0, 290.0, 212.0, 29146.0, 1123.0, 1263.0, 1149.0, 12281.0, 133.0, 215.0, 2116.0, 298.0, 197.0, 3321.0, 596.0, 159.0, 1075.0, 423.0, 146.0, 634.0, 6920.0, 11852.0, 974.0, 1691.0, 182.0, 44797.0, 165.0, 185.0, 731.0, 16653.0, 195.0, 129.0, 251.0, 458.0, 4266.0, 4380.0, 2323.0, 1041.0, 315.0, 291.0, 1681.0, 1197.0, 1073.0, 363.0, 461.0, 1233.0, 205.0, 481.0, 294.0, 191.0, 606.0, 1105.0, 195.0, 1579.0, 139.0, 280.0, 155.0, 244.0, 207.0, 136.0, 320.0, 26626.0, 881.0, 373.0, 557.0, 572.0, 1019.0, 1654.0, 7685.0, 1195.0, 2874.0, 1579.0, 147.0, 865.0, 168.0, 3539.0, 309.0, 173.0, 15190.0, 969.0, 12185.0, 29799.0, 2397.0, 9450.0, 11141.0, 2209.0, 17809.0, 178.0, 7309.0, 4415.0, 31657.0, 2041.0, 4888.0, 167.0, 7111.0, 489.0, 2018.0, 4542.0, 948.0, 246.0, 156.0, 143.0, 1541.0, 288.0, 233.0, 26887.0, 1997.0, 780.0, 1509.0, 416.0, 631.0, 9381.0, 1407.0, 148.0, 9522.0, 2701.0, 15018.0, 156.0, 9230.0, 33189.0, 670.0, 10689.0, 131.0, 744.0, 970.0, 494.0, 291.0, 954.0, 2584.0, 9370.0, 4316.0, 144.0, 2990.0, 38960.0, 1677.0, 30330.0, 1306.0, 1510.0, 1489.0, 189.0, 1465.0, 3230.0, 245.0, 734.0, 2321.0, 580.0, 54859.0, 1428.0, 1882.0, 18536.0, 491.0, 1531.0, 472.0, 1016.0, 143.0, 1429.0, 1477.0, 728.0, 170.0, 25924.0, 1604.0, 3195.0, 32429.0, 3134.0, 1123.0, 8828.0, 1263.0, 2599.0, 1697.0, 168.0, 446.0, 31110.0, 671.0, 40512.0, 1653.0, 196.0, 1043.0, 21478.0, 174.0, 135.0, 28045.0, 384.0, 980.0, 763.0, 7998.0, 1243.0, 136.0, 865.0, 10074.0, 2173.0, 454.0, 1428.0, 140.0, 413.0, 9842.0, 33977.0, 1686.0, 131.0, 1158.0, 1738.0, 241.0, 145.0, 139.0, 15424.0, 3105.0, 14213.0, 696.0, 161.0, 36829.0, 185.0, 501.0, 24288.0, 219.0, 2339.0, 481.0, 2870.0, 207.0, 653.0, 635.0, 3584.0, 170.0, 4519.0, 625.0, 434.0, 6564.0, 272.0, 218.0, 715.0, 729.0, 155.0, 24048.0, 597.0, 761.0, 1789.0, 350.0, 1623.0, 28509.0, 11582.0, 132.0, 4386.0, 334.0, 5527.0, 205.0, 201.0, 151.0, 1448.0, 129.0, 156.0, 153.0, 34133.0, 360.0, 382.0, 46715.0, 2973.0, 6804.0, 459.0, 2014.0, 255.0, 185.0, 25275.0, 197.0, 32142.0, 255.0, 30345.0, 32127.0, 617.0, 1647.0, 301.0]\n",
      "Q1: 6.0\n",
      "Q3: 55.0\n",
      "IQR: 49.0\n",
      "Lower Bound: -67.5\n",
      "Upper Bound: 128.5\n",
      "이상치 삭제된 개수:  2180\n"
     ]
    }
   ],
   "source": [
    "print(\"제거 전 맨처음 데이터 개수 : \", len(Youtube_shorts))\n",
    "\n",
    "test=Youtube_shorts['watched_duration']\n",
    "\n",
    "import numpy as np\n",
    "\n",
    "def outlier_remove(data, threshold=1.5):\n",
    "    q1, q3 = np.percentile(data, [25, 75])  # 1사분위수, 3사분위수 계산\n",
    "    IQR = q3 - q1  # IQR 계산\n",
    "    \n",
    "    lower_bound = q1 - (threshold * IQR)  # Outlier 판단 Lower Bound 계산\n",
    "    upper_bound = q3 + (threshold * IQR)  # Outlier 판단 Upper Bound 계산\n",
    "\n",
    "    filtered_data = [x for x in data if x >= lower_bound and x <= upper_bound]\n",
    "    outliers = [x for x in data if x < lower_bound or x > upper_bound]  # Fix variable name here\n",
    "    return filtered_data, outliers, q1, q3, IQR, lower_bound, upper_bound\n",
    "\n",
    "if __name__ == '__main__':\n",
    "    X = test\n",
    "    filtered_data, outliers, q1, q3, IQR, lower_bound, upper_bound = outlier_remove(X)\n",
    "    \n",
    "    \n",
    "print(\"Filtered Data:\", filtered_data)\n",
    "print(\"Outliers:\", outliers)\n",
    "print(\"Q1:\", q1)\n",
    "print(\"Q3:\", q3)\n",
    "print(\"IQR:\", IQR)\n",
    "print(\"Lower Bound:\", lower_bound)\n",
    "print(\"Upper Bound:\", upper_bound)\n",
    "print(\"이상치 삭제된 개수: \", len(outliers))\n",
    "\n",
    "# 데이터셋에서 이상치 제거\n",
    "Youtube_shorts=Youtube_shorts[Youtube_shorts['watched_duration']<=124]"
   ]
  },
  {
   "cell_type": "code",
   "execution_count": 895,
   "metadata": {},
   "outputs": [
    {
     "name": "stdout",
     "output_type": "stream",
     "text": [
      "최종 데이터 개수:  21443\n"
     ]
    }
   ],
   "source": [
    "print(\"최종 데이터 개수: \", len(Youtube_shorts))"
   ]
  },
  {
   "cell_type": "markdown",
   "metadata": {},
   "source": [
    "# 5. TARGET값 라벨링"
   ]
  },
  {
   "cell_type": "markdown",
   "metadata": {},
   "source": [
    "* 시청시간이 2초 이내인 영상들을 비선호 영상이라고 가정하고, 1의 값을 부여함\n",
    "\n",
    "* 선호하는 영상은 0"
   ]
  },
  {
   "cell_type": "code",
   "execution_count": 896,
   "metadata": {},
   "outputs": [],
   "source": [
    "Youtube_shorts['video_pref']=0\n",
    "# 'watched_duration' 값이 2 이하인 행들에 대해 'video_pref' 값을 1로 설정\n",
    "Youtube_shorts['video_pref'] = np.where(Youtube_shorts['watched_duration'] <= 2, 1, Youtube_shorts['video_pref'])    # Youtube_shorts['sec']//2\n",
    "# print(len(Youtube_shorts[Youtube_shorts['video_pref']==1]))\n",
    "# feature_extraction에서 사용할 변수 저장\n",
    "Youtube_shorts.to_pickle(f\"[정흠]Youtube_shorts.pkl\")#, index=False, encoding='utf-8-sig')"
   ]
  }
 ],
 "metadata": {
  "kernelspec": {
   "display_name": "Python 3",
   "language": "python",
   "name": "python3"
  },
  "language_info": {
   "codemirror_mode": {
    "name": "ipython",
    "version": 3
   },
   "file_extension": ".py",
   "mimetype": "text/x-python",
   "name": "python",
   "nbconvert_exporter": "python",
   "pygments_lexer": "ipython3",
   "version": "3.10.11"
  },
  "orig_nbformat": 4
 },
 "nbformat": 4,
 "nbformat_minor": 2
}
