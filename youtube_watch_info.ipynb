{
 "cells": [
  {
   "cell_type": "markdown",
   "metadata": {},
   "source": [
    "# (1) 시청 기록 데이터 로드"
   ]
  },
  {
   "cell_type": "code",
   "execution_count": 48,
   "metadata": {},
   "outputs": [],
   "source": [
    "import pandas as pd \n",
    "\n",
    "watched=pd.read_json(r\"C:\\Users\\USER\\Desktop\\랩실 자료\\[프로젝트] 킬링 타임 방지를 위한 유튜브 알고리즘 시각화 및 조정\\코드 파일\\시청 기록 파일\\[지애]시청 기록.json\", encoding='utf-8')"
   ]
  },
  {
   "cell_type": "code",
   "execution_count": 49,
   "metadata": {},
   "outputs": [
    {
     "name": "stdout",
     "output_type": "stream",
     "text": [
      "44700\n"
     ]
    }
   ],
   "source": [
    "print(len(watched))"
   ]
  },
  {
   "cell_type": "markdown",
   "metadata": {},
   "source": [
    "# (2) 데이터 구성\n",
    "\n",
    "- header (Youtube Music / Youtube)  # 쇼츠 구분은 방법을 찾아봐야할 듯\n",
    "- title : 영상 제목\n",
    "- titleUrl : 영상  URL\n",
    "- subtitles (채널이름 / 채널 주소)\n",
    "- time : 시청 시각\n",
    "- products, activityControls는 youtube"
   ]
  },
  {
   "cell_type": "code",
   "execution_count": 50,
   "metadata": {},
   "outputs": [
    {
     "name": "stdout",
     "output_type": "stream",
     "text": [
      "<class 'pandas.core.frame.DataFrame'>\n",
      "RangeIndex: 44700 entries, 0 to 44699\n",
      "Data columns (total 7 columns):\n",
      " #   Column            Non-Null Count  Dtype \n",
      "---  ------            --------------  ----- \n",
      " 0   header            44700 non-null  object\n",
      " 1   title             44700 non-null  object\n",
      " 2   titleUrl          44435 non-null  object\n",
      " 3   subtitles         42594 non-null  object\n",
      " 4   time              44700 non-null  object\n",
      " 5   products          44700 non-null  object\n",
      " 6   activityControls  44700 non-null  object\n",
      "dtypes: object(7)\n",
      "memory usage: 2.4+ MB\n"
     ]
    }
   ],
   "source": [
    "watched.info()"
   ]
  },
  {
   "cell_type": "markdown",
   "metadata": {},
   "source": [
    "'description', 'details'이 있는 경우도 있고 없는 경우도 있어서 자동화할려면 try exeption 필요!!!!!!!"
   ]
  },
  {
   "cell_type": "code",
   "execution_count": 51,
   "metadata": {},
   "outputs": [],
   "source": [
    "# watched=watched.drop(['description', 'details'], axis=1)"
   ]
  },
  {
   "cell_type": "code",
   "execution_count": 52,
   "metadata": {},
   "outputs": [
    {
     "name": "stdout",
     "output_type": "stream",
     "text": [
      "header                 0\n",
      "title                  0\n",
      "titleUrl             265\n",
      "subtitles           2106\n",
      "time                   0\n",
      "products               0\n",
      "activityControls       0\n",
      "dtype: int64\n"
     ]
    }
   ],
   "source": [
    "print(watched.isnull().sum())"
   ]
  },
  {
   "cell_type": "code",
   "execution_count": 53,
   "metadata": {},
   "outputs": [],
   "source": [
    "watched=watched.dropna()"
   ]
  },
  {
   "cell_type": "code",
   "execution_count": 54,
   "metadata": {},
   "outputs": [
    {
     "name": "stdout",
     "output_type": "stream",
     "text": [
      "header              0\n",
      "title               0\n",
      "titleUrl            0\n",
      "subtitles           0\n",
      "time                0\n",
      "products            0\n",
      "activityControls    0\n",
      "dtype: int64\n"
     ]
    }
   ],
   "source": [
    "print(watched.isnull().sum())"
   ]
  },
  {
   "cell_type": "markdown",
   "metadata": {},
   "source": [
    "-----"
   ]
  },
  {
   "cell_type": "markdown",
   "metadata": {},
   "source": [
    "## <컬럼 설명>"
   ]
  },
  {
   "cell_type": "markdown",
   "metadata": {},
   "source": [
    "### 1. header\n",
    "-> YouTube Music과 youtube를 분리해서 적용 가능"
   ]
  },
  {
   "cell_type": "code",
   "execution_count": 55,
   "metadata": {},
   "outputs": [
    {
     "name": "stdout",
     "output_type": "stream",
     "text": [
      "['YouTube', 'YouTube Music']\n"
     ]
    }
   ],
   "source": [
    "print(list(watched['header'].unique()))"
   ]
  },
  {
   "cell_type": "code",
   "execution_count": 56,
   "metadata": {},
   "outputs": [],
   "source": [
    "YouTube_video = watched[watched['header'] == 'YouTube']\n",
    "YouTube_music=watched[watched['header'] == 'YouTube Music']"
   ]
  },
  {
   "cell_type": "markdown",
   "metadata": {},
   "source": [
    "### 2. title"
   ]
  },
  {
   "cell_type": "code",
   "execution_count": 57,
   "metadata": {},
   "outputs": [
    {
     "name": "stdout",
     "output_type": "stream",
     "text": [
      "164            𝐏𝐥𝐚𝐲𝐥𝐢𝐬𝐭 인스타에 한번쯤 들은 노래 모음 🪐 을(를) 시청했습니다.\n",
      "165    10k a month with just a phone, wifi and 1-2 hr...\n",
      "166    색소침착 피부 필수시청🚨 이거 제발... 한번만 써보세요... #shorts 을(를...\n",
      "167                         다이어트중 저녁 약속 대처법 을(를) 시청했습니다.\n",
      "168                            빙글빙글도는 다이아몬드 을(를) 시청했습니다.\n",
      "169      올림머리 숑이만의 방법 #헤어 #hair #올림머리 #셀프헤어 을(를) 시청했습니다.\n",
      "170                         우유를 자르면 이렇게 돼요🤍 을(를) 시청했습니다.\n",
      "171    Help!! I’m obsessed with BADA LEE!!😭😍🙌🫶🔥 #bada...\n",
      "172    [스우파2] #스모크챌린지 Choreo by 바다 l Smoke (Prod. Dyn...\n",
      "173    [로켓펀치 연희] 치키치키~🎶 응??😲 끼릭끼릭?!! (Feat. 유키) 을(를) ...\n",
      "174                   탕후루 먹을때 꼭 조심해야 하는 이유! 을(를) 시청했습니다.\n",
      "175               얼굴안나오게 이쁜 하늘샷찍는 포즈 4가지 추천 을(를) 시청했습니다.\n",
      "176    베네피트 신상✨샤인 글래스 컬러 립밤 4가지 전색상 발색 #shorts 을(를) 시...\n",
      "177    #glassskin #skincare #skincareroutine #viral #...\n",
      "178            'Better Things' 안무연습 에스파 카리나 을(를) 시청했습니다.\n",
      "179            얼굴형 예뻐보이는 #앞머리 #사이드뱅 자르는 법❗️ 을(를) 시청했습니다.\n",
      "180    가을감성 크래프트지 선물포장 | Gift wrapping ideas #shorts ...\n",
      "181    텐트 피칭후 마시는 과일주...이거지....   #캠핑 #퍼콜레잇 #감성캠핑컵  플...\n",
      "182    How to apply eyeliner perfectly ✨ #shorts #mak...\n",
      "183                             카리나따라하는지젤윈터 을(를) 시청했습니다.\n",
      "184    올리브영 가기 전에 보고 가세요💚찐코덕의 올영 세일 추천템 Best 6 ! 을(를)...\n",
      "185         MISSION IMPOSSIBLE Marble Music 을(를) 시청했습니다.\n",
      "186    카페 알바한텐 충격적인 질문: 바닐라가 바나나 아냐? I  Banana latte ...\n",
      "187    오늘의 데일리룩👩🏻‍💻✨ | 아~ 그럴 수도 있겠다 정신으로👏🏻 | 파운더스, 원로...\n",
      "188    가을 클래식룩 여섯가지🤎 딱 이렇게 입고 싶었다,,👏🏻 #데일리룩 #직장인출근룩 #...\n",
      "189    오늘의 데일리룩👩🏻‍💻✨ | 대문자P에서 소문자j가 되었습니다 | 파운더스, 폴렌느...\n",
      "190                           묘하게 빠져드는 예술작품 을(를) 시청했습니다.\n",
      "191         aespa 'Better Things' Challenge 을(를) 시청했습니다.\n",
      "192    #계란 노른자 꼬치를 튀기면 #Egg Skewers #shorts 을(를) 시청했습니다.\n",
      "193    한림 같은 반 친구가 말하는 설윤 실물😮 / SULLYOON in real life...\n",
      "Name: title, dtype: object\n"
     ]
    }
   ],
   "source": [
    "print(YouTube_video['title'][100:130])"
   ]
  },
  {
   "cell_type": "markdown",
   "metadata": {},
   "source": [
    "* \" 을(를) 시청했습니다.\"를 replace로 제거\n",
    "\n",
    "-> 제목만 남김"
   ]
  },
  {
   "cell_type": "code",
   "execution_count": 58,
   "metadata": {},
   "outputs": [
    {
     "name": "stdout",
     "output_type": "stream",
     "text": [
      "164                        𝐏𝐥𝐚𝐲𝐥𝐢𝐬𝐭 인스타에 한번쯤 들은 노래 모음 🪐 \n",
      "165    10k a month with just a phone, wifi and 1-2 hr...\n",
      "166          색소침착 피부 필수시청🚨 이거 제발... 한번만 써보세요... #shorts \n",
      "167                                     다이어트중 저녁 약속 대처법 \n",
      "168                                        빙글빙글도는 다이아몬드 \n",
      "169                  올림머리 숑이만의 방법 #헤어 #hair #올림머리 #셀프헤어 \n",
      "170                                     우유를 자르면 이렇게 돼요🤍 \n",
      "171    Help!! I’m obsessed with BADA LEE!!😭😍🙌🫶🔥 #bada...\n",
      "172    [스우파2] #스모크챌린지 Choreo by 바다 l Smoke (Prod. Dyn...\n",
      "173            [로켓펀치 연희] 치키치키~🎶 응??😲 끼릭끼릭?!! (Feat. 유키) \n",
      "Name: title, dtype: object\n"
     ]
    }
   ],
   "source": [
    "# https로 시작하는 주소가 제목으로 나오는 경우는 삭제된 동영상 -> drop\n",
    "YouTube_video = YouTube_video[~YouTube_video['title'].str.startswith(\"https\")]\n",
    "YouTube_video['title'] = YouTube_video['title'].str.replace(\"을(를) 시청했습니다.\", \"\")\n",
    "print(YouTube_video['title'][100:110])"
   ]
  },
  {
   "cell_type": "markdown",
   "metadata": {},
   "source": [
    "### 3. titleUrl "
   ]
  },
  {
   "cell_type": "markdown",
   "metadata": {},
   "source": [
    "중요! titleUrl에서 영상 id를 추출할 수 있음\n",
    "\n",
    "https://www.youtube.com/watch?v=d7sFBOXn5T0\n",
    "\n",
    "-> v=d7sFBOXn5T0\n",
    "\n",
    "=> 이걸 유튜브 api에 활용하면 영상 정보를 얻을 수 있음\n",
    "![Alt text](image.png)\n",
    "\n",
    "영상 제목, 채널 id, 영상 description, 좋아요, 싫어요 수, 댓글 수\n",
    "\n",
    "* 여기서 description을 자연어 처리로 특정 주제로 연결시킬 수 있으면 좋을 것 같음"
   ]
  },
  {
   "cell_type": "code",
   "execution_count": 59,
   "metadata": {},
   "outputs": [
    {
     "data": {
      "text/html": [
       "<div>\n",
       "<style scoped>\n",
       "    .dataframe tbody tr th:only-of-type {\n",
       "        vertical-align: middle;\n",
       "    }\n",
       "\n",
       "    .dataframe tbody tr th {\n",
       "        vertical-align: top;\n",
       "    }\n",
       "\n",
       "    .dataframe thead th {\n",
       "        text-align: right;\n",
       "    }\n",
       "</style>\n",
       "<table border=\"1\" class=\"dataframe\">\n",
       "  <thead>\n",
       "    <tr style=\"text-align: right;\">\n",
       "      <th></th>\n",
       "      <th>title</th>\n",
       "      <th>titleUrl</th>\n",
       "    </tr>\n",
       "  </thead>\n",
       "  <tbody>\n",
       "    <tr>\n",
       "      <th>164</th>\n",
       "      <td>𝐏𝐥𝐚𝐲𝐥𝐢𝐬𝐭 인스타에 한번쯤 들은 노래 모음 🪐</td>\n",
       "      <td>https://www.youtube.com/watch?v=wzONRaDYAdA</td>\n",
       "    </tr>\n",
       "    <tr>\n",
       "      <th>165</th>\n",
       "      <td>10k a month with just a phone, wifi and 1-2 hr...</td>\n",
       "      <td>https://www.youtube.com/watch?v=gr9iEY3huu8</td>\n",
       "    </tr>\n",
       "    <tr>\n",
       "      <th>166</th>\n",
       "      <td>색소침착 피부 필수시청🚨 이거 제발... 한번만 써보세요... #shorts</td>\n",
       "      <td>https://www.youtube.com/watch?v=DwJsEkoZBYU</td>\n",
       "    </tr>\n",
       "    <tr>\n",
       "      <th>167</th>\n",
       "      <td>다이어트중 저녁 약속 대처법</td>\n",
       "      <td>https://www.youtube.com/watch?v=5MjOsZpIUJ4</td>\n",
       "    </tr>\n",
       "    <tr>\n",
       "      <th>168</th>\n",
       "      <td>빙글빙글도는 다이아몬드</td>\n",
       "      <td>https://www.youtube.com/watch?v=PLdtSKvWdLM</td>\n",
       "    </tr>\n",
       "    <tr>\n",
       "      <th>169</th>\n",
       "      <td>올림머리 숑이만의 방법 #헤어 #hair #올림머리 #셀프헤어</td>\n",
       "      <td>https://www.youtube.com/watch?v=j8nGC8ofjJg</td>\n",
       "    </tr>\n",
       "    <tr>\n",
       "      <th>170</th>\n",
       "      <td>우유를 자르면 이렇게 돼요🤍</td>\n",
       "      <td>https://www.youtube.com/watch?v=z-QMxynuyJI</td>\n",
       "    </tr>\n",
       "    <tr>\n",
       "      <th>171</th>\n",
       "      <td>Help!! I’m obsessed with BADA LEE!!😭😍🙌🫶🔥 #bada...</td>\n",
       "      <td>https://www.youtube.com/watch?v=ykpDa477fWo</td>\n",
       "    </tr>\n",
       "    <tr>\n",
       "      <th>172</th>\n",
       "      <td>[스우파2] #스모크챌린지 Choreo by 바다 l Smoke (Prod. Dyn...</td>\n",
       "      <td>https://www.youtube.com/watch?v=7Sakx1F8AIs</td>\n",
       "    </tr>\n",
       "    <tr>\n",
       "      <th>173</th>\n",
       "      <td>[로켓펀치 연희] 치키치키~🎶 응??😲 끼릭끼릭?!! (Feat. 유키)</td>\n",
       "      <td>https://www.youtube.com/watch?v=lzajRu5sDE0</td>\n",
       "    </tr>\n",
       "  </tbody>\n",
       "</table>\n",
       "</div>"
      ],
      "text/plain": [
       "                                                 title  \\\n",
       "164                      𝐏𝐥𝐚𝐲𝐥𝐢𝐬𝐭 인스타에 한번쯤 들은 노래 모음 🪐    \n",
       "165  10k a month with just a phone, wifi and 1-2 hr...   \n",
       "166        색소침착 피부 필수시청🚨 이거 제발... 한번만 써보세요... #shorts    \n",
       "167                                   다이어트중 저녁 약속 대처법    \n",
       "168                                      빙글빙글도는 다이아몬드    \n",
       "169                올림머리 숑이만의 방법 #헤어 #hair #올림머리 #셀프헤어    \n",
       "170                                   우유를 자르면 이렇게 돼요🤍    \n",
       "171  Help!! I’m obsessed with BADA LEE!!😭😍🙌🫶🔥 #bada...   \n",
       "172  [스우파2] #스모크챌린지 Choreo by 바다 l Smoke (Prod. Dyn...   \n",
       "173          [로켓펀치 연희] 치키치키~🎶 응??😲 끼릭끼릭?!! (Feat. 유키)    \n",
       "\n",
       "                                        titleUrl  \n",
       "164  https://www.youtube.com/watch?v=wzONRaDYAdA  \n",
       "165  https://www.youtube.com/watch?v=gr9iEY3huu8  \n",
       "166  https://www.youtube.com/watch?v=DwJsEkoZBYU  \n",
       "167  https://www.youtube.com/watch?v=5MjOsZpIUJ4  \n",
       "168  https://www.youtube.com/watch?v=PLdtSKvWdLM  \n",
       "169  https://www.youtube.com/watch?v=j8nGC8ofjJg  \n",
       "170  https://www.youtube.com/watch?v=z-QMxynuyJI  \n",
       "171  https://www.youtube.com/watch?v=ykpDa477fWo  \n",
       "172  https://www.youtube.com/watch?v=7Sakx1F8AIs  \n",
       "173  https://www.youtube.com/watch?v=lzajRu5sDE0  "
      ]
     },
     "execution_count": 59,
     "metadata": {},
     "output_type": "execute_result"
    }
   ],
   "source": [
    "YouTube_video[['title','titleUrl']][100:110]"
   ]
  },
  {
   "cell_type": "markdown",
   "metadata": {},
   "source": [
    "### 4. subtitles\n",
    "- name : 채널명\n",
    "- url : 채널 주소\n",
    "\n",
    "-> 채널 정보까지 api로 따낼 수 있었던 것 같음"
   ]
  },
  {
   "cell_type": "code",
   "execution_count": 60,
   "metadata": {},
   "outputs": [
    {
     "name": "stdout",
     "output_type": "stream",
     "text": [
      "0        [{'name': '오늘의 립', 'url': 'https://www.youtube...\n",
      "1        [{'name': '우렁각시친구', 'url': 'https://www.youtub...\n",
      "2        [{'name': 'Abigail Rosenfeld', 'url': 'https:/...\n",
      "3        [{'name': '제로크림', 'url': 'https://www.youtube....\n",
      "4        [{'name': '소녀의행성 Girlsplanet', 'url': 'https:/...\n",
      "                               ...                        \n",
      "44694    [{'name': '차홍 CHAHONG', 'url': 'https://www.yo...\n",
      "44695    [{'name': 'tvN D ENT', 'url': 'https://www.you...\n",
      "44696    [{'name': '차홍 CHAHONG', 'url': 'https://www.yo...\n",
      "44697    [{'name': 'DDIBOO띠부', 'url': 'https://www.yout...\n",
      "44698    [{'name': 'DDIBOO띠부', 'url': 'https://www.yout...\n",
      "Name: subtitles, Length: 34621, dtype: object\n"
     ]
    }
   ],
   "source": [
    "print(YouTube_video['subtitles'])"
   ]
  },
  {
   "cell_type": "markdown",
   "metadata": {},
   "source": [
    "### 5. time"
   ]
  },
  {
   "cell_type": "code",
   "execution_count": 61,
   "metadata": {},
   "outputs": [
    {
     "data": {
      "text/plain": [
       "0    2023-09-25T06:38:08.835Z\n",
       "1    2023-09-25T06:38:07.713Z\n",
       "2    2023-09-25T06:38:05.680Z\n",
       "3    2023-09-25T06:38:02.136Z\n",
       "4    2023-09-25T06:37:59.933Z\n",
       "Name: time, dtype: object"
      ]
     },
     "execution_count": 61,
     "metadata": {},
     "output_type": "execute_result"
    }
   ],
   "source": [
    "YouTube_video['time'][:5]"
   ]
  }
 ],
 "metadata": {
  "kernelspec": {
   "display_name": "Python 3",
   "language": "python",
   "name": "python3"
  },
  "language_info": {
   "codemirror_mode": {
    "name": "ipython",
    "version": 3
   },
   "file_extension": ".py",
   "mimetype": "text/x-python",
   "name": "python",
   "nbconvert_exporter": "python",
   "pygments_lexer": "ipython3",
   "version": "3.10.11"
  },
  "orig_nbformat": 4
 },
 "nbformat": 4,
 "nbformat_minor": 2
}
