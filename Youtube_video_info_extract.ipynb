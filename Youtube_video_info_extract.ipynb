{
 "cells": [
  {
   "cell_type": "code",
   "execution_count": 141,
   "metadata": {},
   "outputs": [],
   "source": [
    "from googleapiclient.discovery import build\n",
    "from googleapiclient.errors import HttpError\n",
    "import pandas as pd\n",
    "# from oauth2client.tools import argparser"
   ]
  },
  {
   "cell_type": "markdown",
   "metadata": {},
   "source": [
    "## 1. youtube api 기본 세팅"
   ]
  },
  {
   "cell_type": "code",
   "execution_count": null,
   "metadata": {},
   "outputs": [],
   "source": [
    "DEVEOPER_KEY=\"youtube api키\""
   ]
  },
  {
   "cell_type": "code",
   "execution_count": 143,
   "metadata": {},
   "outputs": [],
   "source": [
    "YOUTUBE_API_SERVICE_NAME='youtube'\n",
    "YOUTUBE_API_VERSION='v3'"
   ]
  },
  {
   "cell_type": "code",
   "execution_count": 144,
   "metadata": {},
   "outputs": [],
   "source": [
    "youtube=build(YOUTUBE_API_SERVICE_NAME, YOUTUBE_API_VERSION, developerKey=DEVEOPER_KEY)"
   ]
  },
  {
   "cell_type": "markdown",
   "metadata": {},
   "source": [
    "## 2. 시청 기록 data set"
   ]
  },
  {
   "cell_type": "code",
   "execution_count": 145,
   "metadata": {},
   "outputs": [],
   "source": [
    "import pandas as pd\n",
    "watched=pd.read_json(r\"C:\\Users\\USER\\Desktop\\랩실 자료\\[프로젝트] 킬링 타임 방지를 위한 유튜브 알고리즘 시각화 및 조정\\코드 파일\\시청 기록 파일\\[정흠]시청 기록.json\", encoding='utf-8')"
   ]
  },
  {
   "cell_type": "code",
   "execution_count": 146,
   "metadata": {},
   "outputs": [],
   "source": [
    "YouTube_video = watched[watched['header'] == 'YouTube']\n",
    "\n",
    "# 유튜브 뮤직은 제외\n",
    "# YouTube_music=watched[watched['header'] == 'YouTube Music']\n",
    "\n",
    "# 인덱스 초기화 (유튜브 뮤직이 빠져서 기존 인덱스 순서가 안맞음)\n",
    "YouTube_video.reset_index(drop=True, inplace=True)"
   ]
  },
  {
   "cell_type": "code",
   "execution_count": 147,
   "metadata": {},
   "outputs": [
    {
     "name": "stdout",
     "output_type": "stream",
     "text": [
      "['header', 'title', 'titleUrl', 'subtitles', 'time', 'products', 'activityControls']\n",
      "32848\n"
     ]
    }
   ],
   "source": [
    "print(list(YouTube_video.columns))\n",
    "print(len(YouTube_video))"
   ]
  },
  {
   "cell_type": "code",
   "execution_count": 148,
   "metadata": {},
   "outputs": [],
   "source": [
    "YouTube_video=YouTube_video[['header', 'title', 'titleUrl', 'subtitles', 'time', 'products', 'activityControls']]"
   ]
  },
  {
   "cell_type": "code",
   "execution_count": 149,
   "metadata": {},
   "outputs": [
    {
     "data": {
      "text/plain": [
       "header                 0\n",
       "title                  0\n",
       "titleUrl             112\n",
       "subtitles           1011\n",
       "time                   0\n",
       "products               0\n",
       "activityControls       0\n",
       "dtype: int64"
      ]
     },
     "execution_count": 149,
     "metadata": {},
     "output_type": "execute_result"
    }
   ],
   "source": [
    "YouTube_video.isnull().sum()"
   ]
  },
  {
   "cell_type": "markdown",
   "metadata": {},
   "source": [
    "titleUrl이 없는 행은 삭제"
   ]
  },
  {
   "cell_type": "code",
   "execution_count": 150,
   "metadata": {},
   "outputs": [],
   "source": [
    "YouTube_video = YouTube_video.dropna(subset=['titleUrl'])"
   ]
  },
  {
   "cell_type": "code",
   "execution_count": 151,
   "metadata": {},
   "outputs": [
    {
     "data": {
      "text/plain": [
       "32736"
      ]
     },
     "execution_count": 151,
     "metadata": {},
     "output_type": "execute_result"
    }
   ],
   "source": [
    "len(YouTube_video)"
   ]
  },
  {
   "cell_type": "code",
   "execution_count": 152,
   "metadata": {},
   "outputs": [],
   "source": [
    "import pandas as pd\n",
    "# 'title' 열의 데이터 타입을 문자열로 변환\n",
    "YouTube_video['title'] = YouTube_video['title'].astype(str)"
   ]
  },
  {
   "cell_type": "code",
   "execution_count": 153,
   "metadata": {},
   "outputs": [],
   "source": [
    "YouTube_video=YouTube_video[YouTube_video['title']!=\"설문조사 질문에 답변함\"]"
   ]
  },
  {
   "cell_type": "code",
   "execution_count": 154,
   "metadata": {},
   "outputs": [
    {
     "data": {
      "text/plain": [
       "32736"
      ]
     },
     "execution_count": 154,
     "metadata": {},
     "output_type": "execute_result"
    }
   ],
   "source": [
    "len(YouTube_video)"
   ]
  },
  {
   "cell_type": "markdown",
   "metadata": {},
   "source": [
    "## 3. title Url에서 영상 아이디 추출"
   ]
  },
  {
   "cell_type": "code",
   "execution_count": 155,
   "metadata": {},
   "outputs": [],
   "source": [
    "YouTube_video['video_id']=YouTube_video['titleUrl'].str.replace('https://www.youtube.com/watch?v=', '', regex=False)"
   ]
  },
  {
   "cell_type": "code",
   "execution_count": 156,
   "metadata": {},
   "outputs": [
    {
     "data": {
      "text/plain": [
       "32736"
      ]
     },
     "execution_count": 156,
     "metadata": {},
     "output_type": "execute_result"
    }
   ],
   "source": [
    "len(YouTube_video)"
   ]
  },
  {
   "cell_type": "code",
   "execution_count": 157,
   "metadata": {},
   "outputs": [],
   "source": [
    "# YouTube_video['title'].to_csv(\"원본 시청 기록.csv\", index=False, encoding='utf-8-sig')"
   ]
  },
  {
   "cell_type": "markdown",
   "metadata": {},
   "source": [
    "## 4. 영상 정보 추출\n",
    "\n",
    "- dislike는 api로 추출이 안됨"
   ]
  },
  {
   "cell_type": "code",
   "execution_count": 158,
   "metadata": {},
   "outputs": [],
   "source": [
    "import import_ipynb\n",
    "from video_info_function import *"
   ]
  },
  {
   "cell_type": "code",
   "execution_count": 159,
   "metadata": {},
   "outputs": [],
   "source": [
    "import os\n",
    "import pandas as pd\n",
    "import time\n",
    "\n",
    "# 이전에 저장된 데이터 불러오기\n",
    "prev_df_path = r\"C:\\Users\\USER\\Desktop\\랩실 자료\\[프로젝트] 킬링 타임 방지를 위한 유튜브 알고리즘 시각화 및 조정\\코드 파일\\시청 기록 파일\\[정흠]시청 기록[new].csv\"\n",
    "if os.path.exists(prev_df_path):\n",
    "    prev_df = pd.read_csv(prev_df_path)\n",
    "    start_index = len(prev_df)  # 이전 데이터의 길이를 시작 인덱스로 설정\n",
    "else:\n",
    "    prev_df = pd.DataFrame()\n",
    "    start_index = 0\n",
    "\n",
    "total_df = prev_df\n",
    "k = 10\n",
    "\n",
    "while True:\n",
    "    detail_df = video_info(youtube, YouTube_video, start_index, start_index + k)\n",
    "    \n",
    "    if detail_df.empty:\n",
    "        break\n",
    "\n",
    "    total_df = pd.concat([total_df, detail_df], ignore_index=True)\n",
    "    \n",
    "    start_index += k"
   ]
  },
  {
   "cell_type": "code",
   "execution_count": 160,
   "metadata": {},
   "outputs": [],
   "source": [
    "total_df.to_csv(\"[정흠]시청 기록[new].csv\", index=False, encoding='utf-8-sig')"
   ]
  },
  {
   "cell_type": "code",
   "execution_count": 161,
   "metadata": {},
   "outputs": [
    {
     "name": "stdout",
     "output_type": "stream",
     "text": [
      "크롤링한 행개수: 32736\n"
     ]
    }
   ],
   "source": [
    "print(\"크롤링한 행개수:\",len(total_df))"
   ]
  },
  {
   "cell_type": "code",
   "execution_count": 162,
   "metadata": {},
   "outputs": [
    {
     "data": {
      "text/html": [
       "<div>\n",
       "<style scoped>\n",
       "    .dataframe tbody tr th:only-of-type {\n",
       "        vertical-align: middle;\n",
       "    }\n",
       "\n",
       "    .dataframe tbody tr th {\n",
       "        vertical-align: top;\n",
       "    }\n",
       "\n",
       "    .dataframe thead th {\n",
       "        text-align: right;\n",
       "    }\n",
       "</style>\n",
       "<table border=\"1\" class=\"dataframe\">\n",
       "  <thead>\n",
       "    <tr style=\"text-align: right;\">\n",
       "      <th></th>\n",
       "      <th>title</th>\n",
       "      <th>id</th>\n",
       "      <th>date</th>\n",
       "      <th>category_id</th>\n",
       "      <th>view</th>\n",
       "      <th>like</th>\n",
       "      <th>comment</th>\n",
       "      <th>hour</th>\n",
       "      <th>min</th>\n",
       "      <th>sec</th>\n",
       "      <th>...</th>\n",
       "      <th>description</th>\n",
       "      <th>thumbnail</th>\n",
       "      <th>channel_title</th>\n",
       "      <th>tags</th>\n",
       "      <th>dimension</th>\n",
       "      <th>definition</th>\n",
       "      <th>caption</th>\n",
       "      <th>licensed_content</th>\n",
       "      <th>topic_ids</th>\n",
       "      <th>relevant_topic_ids</th>\n",
       "    </tr>\n",
       "  </thead>\n",
       "  <tbody>\n",
       "    <tr>\n",
       "      <th>0</th>\n",
       "      <td>서울대 학생을 본 뉴욕대 학생 미국인 반응ㅋㅋ#shorts</td>\n",
       "      <td>jioVwVM4aG4</td>\n",
       "      <td>2023-09-27</td>\n",
       "      <td>24</td>\n",
       "      <td>236733</td>\n",
       "      <td>1889</td>\n",
       "      <td>137</td>\n",
       "      <td>0</td>\n",
       "      <td>0</td>\n",
       "      <td>25</td>\n",
       "      <td>...</td>\n",
       "      <td>#shorts #미국인 #외국인반응 #서울대 #고려대 #유학생 #서울대 반응 #뉴욕...</td>\n",
       "      <td>https://i.ytimg.com/vi/jioVwVM4aG4/default.jpg</td>\n",
       "      <td>channel CKOONY</td>\n",
       "      <td>외국인, 외국인반응, 한국, 외국인 채널, 외국인 반응 채널, 외국인채널, 외국인 ...</td>\n",
       "      <td>2d</td>\n",
       "      <td>hd</td>\n",
       "      <td>False</td>\n",
       "      <td>True</td>\n",
       "      <td>NaN</td>\n",
       "      <td>NaN</td>\n",
       "    </tr>\n",
       "    <tr>\n",
       "      <th>1</th>\n",
       "      <td>타노스 과거로 가서 죽이기</td>\n",
       "      <td>XdA9rL6uvEU</td>\n",
       "      <td>2023-09-23</td>\n",
       "      <td>1</td>\n",
       "      <td>581618</td>\n",
       "      <td>19585</td>\n",
       "      <td>82</td>\n",
       "      <td>0</td>\n",
       "      <td>0</td>\n",
       "      <td>28</td>\n",
       "      <td>...</td>\n",
       "      <td>타노스가 아기였던 시절로 돌아가 암살하면 안될까요? 퍼니셔, 코스믹 고스트 라이더인...</td>\n",
       "      <td>https://i.ytimg.com/vi/XdA9rL6uvEU/default.jpg</td>\n",
       "      <td>우라늄맨</td>\n",
       "      <td>마블, 타노스, 코스믹고스트라이더, 코고라, 고라, 고스트라이더, 퍼니셔, 타노스죽...</td>\n",
       "      <td>2d</td>\n",
       "      <td>hd</td>\n",
       "      <td>False</td>\n",
       "      <td>False</td>\n",
       "      <td>NaN</td>\n",
       "      <td>NaN</td>\n",
       "    </tr>\n",
       "    <tr>\n",
       "      <th>2</th>\n",
       "      <td>아니, 수비 하랬더니 왜 얼굴을...</td>\n",
       "      <td>vFEzDza_vfc</td>\n",
       "      <td>2023-03-27</td>\n",
       "      <td>17</td>\n",
       "      <td>183481</td>\n",
       "      <td>1558</td>\n",
       "      <td>73</td>\n",
       "      <td>0</td>\n",
       "      <td>0</td>\n",
       "      <td>57</td>\n",
       "      <td>...</td>\n",
       "      <td>NaN</td>\n",
       "      <td>https://i.ytimg.com/vi/vFEzDza_vfc/default.jpg</td>\n",
       "      <td>'B' Story</td>\n",
       "      <td>nba, basketball, all star, 올스타, 농구, 농구 수다, 경기 ...</td>\n",
       "      <td>2d</td>\n",
       "      <td>hd</td>\n",
       "      <td>False</td>\n",
       "      <td>True</td>\n",
       "      <td>NaN</td>\n",
       "      <td>NaN</td>\n",
       "    </tr>\n",
       "    <tr>\n",
       "      <th>3</th>\n",
       "      <td>One Call Away는 원래 찰리푸스의 곡이 아니었다? #찰리푸스</td>\n",
       "      <td>7t5JDCzWYOY</td>\n",
       "      <td>2023-09-08</td>\n",
       "      <td>22</td>\n",
       "      <td>132684</td>\n",
       "      <td>3921</td>\n",
       "      <td>12</td>\n",
       "      <td>0</td>\n",
       "      <td>0</td>\n",
       "      <td>51</td>\n",
       "      <td>...</td>\n",
       "      <td>수익 창출X\\n출처 : 찰리푸스 틱톡</td>\n",
       "      <td>https://i.ytimg.com/vi/7t5JDCzWYOY/default.jpg</td>\n",
       "      <td>찰떡</td>\n",
       "      <td>챨퓨, ckfvn, 찰푸, ckfflvntm, charlieputh</td>\n",
       "      <td>2d</td>\n",
       "      <td>hd</td>\n",
       "      <td>False</td>\n",
       "      <td>False</td>\n",
       "      <td>NaN</td>\n",
       "      <td>NaN</td>\n",
       "    </tr>\n",
       "    <tr>\n",
       "      <th>4</th>\n",
       "      <td>카타르월드컵 가나전 벤투 퇴장에 대한 진실 #shorts</td>\n",
       "      <td>-yque85ab-k</td>\n",
       "      <td>2023-09-21</td>\n",
       "      <td>17</td>\n",
       "      <td>1264017</td>\n",
       "      <td>26279</td>\n",
       "      <td>410</td>\n",
       "      <td>0</td>\n",
       "      <td>0</td>\n",
       "      <td>59</td>\n",
       "      <td>...</td>\n",
       "      <td>NaN</td>\n",
       "      <td>https://i.ytimg.com/vi/-yque85ab-k/default.jpg</td>\n",
       "      <td>리춘수 [이천수]</td>\n",
       "      <td>NaN</td>\n",
       "      <td>2d</td>\n",
       "      <td>hd</td>\n",
       "      <td>False</td>\n",
       "      <td>True</td>\n",
       "      <td>NaN</td>\n",
       "      <td>NaN</td>\n",
       "    </tr>\n",
       "    <tr>\n",
       "      <th>...</th>\n",
       "      <td>...</td>\n",
       "      <td>...</td>\n",
       "      <td>...</td>\n",
       "      <td>...</td>\n",
       "      <td>...</td>\n",
       "      <td>...</td>\n",
       "      <td>...</td>\n",
       "      <td>...</td>\n",
       "      <td>...</td>\n",
       "      <td>...</td>\n",
       "      <td>...</td>\n",
       "      <td>...</td>\n",
       "      <td>...</td>\n",
       "      <td>...</td>\n",
       "      <td>...</td>\n",
       "      <td>...</td>\n",
       "      <td>...</td>\n",
       "      <td>...</td>\n",
       "      <td>...</td>\n",
       "      <td>...</td>\n",
       "      <td>...</td>\n",
       "    </tr>\n",
       "    <tr>\n",
       "      <th>32731</th>\n",
       "      <td>저 회장직 내려놓겠습니다</td>\n",
       "      <td>PUzfkPdTqW0</td>\n",
       "      <td>2023-03-21</td>\n",
       "      <td>20</td>\n",
       "      <td>462409</td>\n",
       "      <td>2706</td>\n",
       "      <td>517</td>\n",
       "      <td>0</td>\n",
       "      <td>36</td>\n",
       "      <td>15</td>\n",
       "      <td>...</td>\n",
       "      <td>[아프리카TV]  http://www.afreecatv.com/rrvv17\\n[광고...</td>\n",
       "      <td>https://i.ytimg.com/vi/PUzfkPdTqW0/default.jpg</td>\n",
       "      <td>킴성태TV</td>\n",
       "      <td>오버워치, 옵치, 서든, 서든어택, 킴성태TV, 배틀그라운드, 배그, 킴해적단, 박...</td>\n",
       "      <td>2d</td>\n",
       "      <td>hd</td>\n",
       "      <td>false</td>\n",
       "      <td>True</td>\n",
       "      <td></td>\n",
       "      <td></td>\n",
       "    </tr>\n",
       "    <tr>\n",
       "      <th>32732</th>\n",
       "      <td>밥에 비비면 맵싹달싹! 지코바!</td>\n",
       "      <td>vgxc9ca9Mwg</td>\n",
       "      <td>2023-04-19</td>\n",
       "      <td>22</td>\n",
       "      <td>445476</td>\n",
       "      <td>5210</td>\n",
       "      <td>648</td>\n",
       "      <td>0</td>\n",
       "      <td>7</td>\n",
       "      <td>25</td>\n",
       "      <td>...</td>\n",
       "      <td>#먹방 #쿡방 #지코바\\n\\n밥에 비비면 맵싹달싹! 지코바!</td>\n",
       "      <td>https://i.ytimg.com/vi/vgxc9ca9Mwg/default.jpg</td>\n",
       "      <td>핫식당</td>\n",
       "      <td>핫식당, 먹방, 쿡방, 핫소스, 배말랭, 김선응, 송형주, 배건우, 밥에 비비면 맵...</td>\n",
       "      <td>2d</td>\n",
       "      <td>hd</td>\n",
       "      <td>false</td>\n",
       "      <td>True</td>\n",
       "      <td></td>\n",
       "      <td></td>\n",
       "    </tr>\n",
       "    <tr>\n",
       "      <th>32733</th>\n",
       "      <td>“저출산 문제에 진심”..무릎까지 꿇었다!</td>\n",
       "      <td>a8w5_ZvSTdo</td>\n",
       "      <td>2023-04-19</td>\n",
       "      <td>25</td>\n",
       "      <td>3907877</td>\n",
       "      <td>40503</td>\n",
       "      <td>8139</td>\n",
       "      <td>0</td>\n",
       "      <td>3</td>\n",
       "      <td>3</td>\n",
       "      <td>...</td>\n",
       "      <td>최정우 포스코그룹 회장이 국내 최초로 네쌍둥이 자연 분만에 성공한 직원의 집을 찾았...</td>\n",
       "      <td>https://i.ytimg.com/vi/a8w5_ZvSTdo/default.jpg</td>\n",
       "      <td>엠빅뉴스</td>\n",
       "      <td>다둥이, 포스코, 출산, 분만, 산부인과, 카니발, 저출산, 출산장려금, 회장님, ...</td>\n",
       "      <td>2d</td>\n",
       "      <td>hd</td>\n",
       "      <td>false</td>\n",
       "      <td>True</td>\n",
       "      <td></td>\n",
       "      <td></td>\n",
       "    </tr>\n",
       "    <tr>\n",
       "      <th>32734</th>\n",
       "      <td>[EN] 쩡수 하우스에서 간단하게 삼겹살 5kg 공깃밥 대신 꼬마김밥 Today, ...</td>\n",
       "      <td>PibUEH7Ing0</td>\n",
       "      <td>2021-11-19</td>\n",
       "      <td>22</td>\n",
       "      <td>2018580</td>\n",
       "      <td>26717</td>\n",
       "      <td>1725</td>\n",
       "      <td>0</td>\n",
       "      <td>12</td>\n",
       "      <td>16</td>\n",
       "      <td>...</td>\n",
       "      <td>광고 및 협업 문의 메일 : fucompany16@gmail.com\\n\\n오늘 맛본...</td>\n",
       "      <td>https://i.ytimg.com/vi/PibUEH7Ing0/default.jpg</td>\n",
       "      <td>윤코치의 맛만 볼까? Coach Yoon</td>\n",
       "      <td>맛만볼까, 영암민속씨름단, 윤정수, 윤정수코치, 먹방, 삼겹살, 대패삼겹살, 꼬마김...</td>\n",
       "      <td>2d</td>\n",
       "      <td>hd</td>\n",
       "      <td>true</td>\n",
       "      <td>True</td>\n",
       "      <td></td>\n",
       "      <td></td>\n",
       "    </tr>\n",
       "    <tr>\n",
       "      <th>32735</th>\n",
       "      <td>오동통 핵매운 순살 아구찜엔🔥 소주지..(Ft.계란찜, 동치미, 볶음밥) 혼술 리얼...</td>\n",
       "      <td>RsJpsBP4tyQ</td>\n",
       "      <td>2022-10-06</td>\n",
       "      <td>22</td>\n",
       "      <td>303190</td>\n",
       "      <td>4534</td>\n",
       "      <td>299</td>\n",
       "      <td>0</td>\n",
       "      <td>14</td>\n",
       "      <td>42</td>\n",
       "      <td>...</td>\n",
       "      <td>※자막은 설정에서 선택하실 수 있습니다\\n01:33 먹방 시작(Start eatin...</td>\n",
       "      <td>https://i.ytimg.com/vi/RsJpsBP4tyQ/default.jpg</td>\n",
       "      <td>대평이 Daepyeong</td>\n",
       "      <td>먹방, 혼술, 아구찜, yt:cc=on</td>\n",
       "      <td>2d</td>\n",
       "      <td>hd</td>\n",
       "      <td>true</td>\n",
       "      <td>True</td>\n",
       "      <td></td>\n",
       "      <td></td>\n",
       "    </tr>\n",
       "  </tbody>\n",
       "</table>\n",
       "<p>32736 rows × 21 columns</p>\n",
       "</div>"
      ],
      "text/plain": [
       "                                                   title           id  \\\n",
       "0                       서울대 학생을 본 뉴욕대 학생 미국인 반응ㅋㅋ#shorts  jioVwVM4aG4   \n",
       "1                                         타노스 과거로 가서 죽이기  XdA9rL6uvEU   \n",
       "2                                   아니, 수비 하랬더니 왜 얼굴을...  vFEzDza_vfc   \n",
       "3                 One Call Away는 원래 찰리푸스의 곡이 아니었다? #찰리푸스  7t5JDCzWYOY   \n",
       "4                  카타르월드컵 가나전 벤투 퇴장에 대한 진실 #shorts  -yque85ab-k   \n",
       "...                                                  ...          ...   \n",
       "32731                                      저 회장직 내려놓겠습니다  PUzfkPdTqW0   \n",
       "32732                                  밥에 비비면 맵싹달싹! 지코바!  vgxc9ca9Mwg   \n",
       "32733                            “저출산 문제에 진심”..무릎까지 꿇었다!  a8w5_ZvSTdo   \n",
       "32734  [EN] 쩡수 하우스에서 간단하게 삼겹살 5kg 공깃밥 대신 꼬마김밥 Today, ...  PibUEH7Ing0   \n",
       "32735  오동통 핵매운 순살 아구찜엔🔥 소주지..(Ft.계란찜, 동치미, 볶음밥) 혼술 리얼...  RsJpsBP4tyQ   \n",
       "\n",
       "             date category_id     view   like comment hour min sec  ...  \\\n",
       "0      2023-09-27          24   236733   1889     137    0   0  25  ...   \n",
       "1      2023-09-23           1   581618  19585      82    0   0  28  ...   \n",
       "2      2023-03-27          17   183481   1558      73    0   0  57  ...   \n",
       "3      2023-09-08          22   132684   3921      12    0   0  51  ...   \n",
       "4      2023-09-21          17  1264017  26279     410    0   0  59  ...   \n",
       "...           ...         ...      ...    ...     ...  ...  ..  ..  ...   \n",
       "32731  2023-03-21          20   462409   2706     517    0  36  15  ...   \n",
       "32732  2023-04-19          22   445476   5210     648    0   7  25  ...   \n",
       "32733  2023-04-19          25  3907877  40503    8139    0   3   3  ...   \n",
       "32734  2021-11-19          22  2018580  26717    1725    0  12  16  ...   \n",
       "32735  2022-10-06          22   303190   4534     299    0  14  42  ...   \n",
       "\n",
       "                                             description  \\\n",
       "0      #shorts #미국인 #외국인반응 #서울대 #고려대 #유학생 #서울대 반응 #뉴욕...   \n",
       "1      타노스가 아기였던 시절로 돌아가 암살하면 안될까요? 퍼니셔, 코스믹 고스트 라이더인...   \n",
       "2                                                    NaN   \n",
       "3                                   수익 창출X\\n출처 : 찰리푸스 틱톡   \n",
       "4                                                    NaN   \n",
       "...                                                  ...   \n",
       "32731  [아프리카TV]  http://www.afreecatv.com/rrvv17\\n[광고...   \n",
       "32732                  #먹방 #쿡방 #지코바\\n\\n밥에 비비면 맵싹달싹! 지코바!   \n",
       "32733  최정우 포스코그룹 회장이 국내 최초로 네쌍둥이 자연 분만에 성공한 직원의 집을 찾았...   \n",
       "32734  광고 및 협업 문의 메일 : fucompany16@gmail.com\\n\\n오늘 맛본...   \n",
       "32735  ※자막은 설정에서 선택하실 수 있습니다\\n01:33 먹방 시작(Start eatin...   \n",
       "\n",
       "                                            thumbnail           channel_title  \\\n",
       "0      https://i.ytimg.com/vi/jioVwVM4aG4/default.jpg          channel CKOONY   \n",
       "1      https://i.ytimg.com/vi/XdA9rL6uvEU/default.jpg                    우라늄맨   \n",
       "2      https://i.ytimg.com/vi/vFEzDza_vfc/default.jpg               'B' Story   \n",
       "3      https://i.ytimg.com/vi/7t5JDCzWYOY/default.jpg                      찰떡   \n",
       "4      https://i.ytimg.com/vi/-yque85ab-k/default.jpg               리춘수 [이천수]   \n",
       "...                                               ...                     ...   \n",
       "32731  https://i.ytimg.com/vi/PUzfkPdTqW0/default.jpg                   킴성태TV   \n",
       "32732  https://i.ytimg.com/vi/vgxc9ca9Mwg/default.jpg                     핫식당   \n",
       "32733  https://i.ytimg.com/vi/a8w5_ZvSTdo/default.jpg                    엠빅뉴스   \n",
       "32734  https://i.ytimg.com/vi/PibUEH7Ing0/default.jpg  윤코치의 맛만 볼까? Coach Yoon   \n",
       "32735  https://i.ytimg.com/vi/RsJpsBP4tyQ/default.jpg           대평이 Daepyeong   \n",
       "\n",
       "                                                    tags dimension definition  \\\n",
       "0      외국인, 외국인반응, 한국, 외국인 채널, 외국인 반응 채널, 외국인채널, 외국인 ...        2d         hd   \n",
       "1      마블, 타노스, 코스믹고스트라이더, 코고라, 고라, 고스트라이더, 퍼니셔, 타노스죽...        2d         hd   \n",
       "2      nba, basketball, all star, 올스타, 농구, 농구 수다, 경기 ...        2d         hd   \n",
       "3                  챨퓨, ckfvn, 찰푸, ckfflvntm, charlieputh        2d         hd   \n",
       "4                                                    NaN        2d         hd   \n",
       "...                                                  ...       ...        ...   \n",
       "32731  오버워치, 옵치, 서든, 서든어택, 킴성태TV, 배틀그라운드, 배그, 킴해적단, 박...        2d         hd   \n",
       "32732  핫식당, 먹방, 쿡방, 핫소스, 배말랭, 김선응, 송형주, 배건우, 밥에 비비면 맵...        2d         hd   \n",
       "32733  다둥이, 포스코, 출산, 분만, 산부인과, 카니발, 저출산, 출산장려금, 회장님, ...        2d         hd   \n",
       "32734  맛만볼까, 영암민속씨름단, 윤정수, 윤정수코치, 먹방, 삼겹살, 대패삼겹살, 꼬마김...        2d         hd   \n",
       "32735                              먹방, 혼술, 아구찜, yt:cc=on        2d         hd   \n",
       "\n",
       "      caption licensed_content topic_ids relevant_topic_ids  \n",
       "0       False             True       NaN                NaN  \n",
       "1       False            False       NaN                NaN  \n",
       "2       False             True       NaN                NaN  \n",
       "3       False            False       NaN                NaN  \n",
       "4       False             True       NaN                NaN  \n",
       "...       ...              ...       ...                ...  \n",
       "32731   false             True                               \n",
       "32732   false             True                               \n",
       "32733   false             True                               \n",
       "32734    true             True                               \n",
       "32735    true             True                               \n",
       "\n",
       "[32736 rows x 21 columns]"
      ]
     },
     "execution_count": 162,
     "metadata": {},
     "output_type": "execute_result"
    }
   ],
   "source": [
    "total_df"
   ]
  }
 ],
 "metadata": {
  "kernelspec": {
   "display_name": "Python 3",
   "language": "python",
   "name": "python3"
  },
  "language_info": {
   "codemirror_mode": {
    "name": "ipython",
    "version": 3
   },
   "file_extension": ".py",
   "mimetype": "text/x-python",
   "name": "python",
   "nbconvert_exporter": "python",
   "pygments_lexer": "ipython3",
   "version": "3.10.11"
  },
  "orig_nbformat": 4
 },
 "nbformat": 4,
 "nbformat_minor": 2
}
